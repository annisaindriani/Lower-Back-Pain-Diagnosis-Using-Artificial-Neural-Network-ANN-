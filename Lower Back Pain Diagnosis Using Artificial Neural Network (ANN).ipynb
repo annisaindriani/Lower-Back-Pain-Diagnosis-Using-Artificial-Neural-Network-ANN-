{
 "cells": [
  {
   "cell_type": "markdown",
   "metadata": {},
   "source": [
    "## Import Data"
   ]
  },
  {
   "cell_type": "code",
   "execution_count": 882,
   "metadata": {},
   "outputs": [],
   "source": [
    "# Library untuk melakukan data analysis dan data exploration\n",
    "import pandas as pd\n",
    "import numpy as np\n",
    "import matplotlib.pyplot as plt\n",
    "import seaborn as sns"
   ]
  },
  {
   "cell_type": "code",
   "execution_count": 883,
   "metadata": {},
   "outputs": [],
   "source": [
    "# Untuk load dataset dari file .csv\n",
    "spine = pd.read_csv(\"dataset_spine.csv\")"
   ]
  },
  {
   "cell_type": "markdown",
   "metadata": {},
   "source": [
    "## Exploratory Data Analysis"
   ]
  },
  {
   "cell_type": "code",
   "execution_count": 884,
   "metadata": {},
   "outputs": [
    {
     "name": "stdout",
     "output_type": "stream",
     "text": [
      "<class 'pandas.core.frame.DataFrame'>\n",
      "RangeIndex: 310 entries, 0 to 309\n",
      "Data columns (total 14 columns):\n",
      " #   Column      Non-Null Count  Dtype  \n",
      "---  ------      --------------  -----  \n",
      " 0   Unnamed: 0  310 non-null    int64  \n",
      " 1   Col1        310 non-null    float64\n",
      " 2   Col2        310 non-null    float64\n",
      " 3   Col3        310 non-null    float64\n",
      " 4   Col4        310 non-null    float64\n",
      " 5   Col5        310 non-null    float64\n",
      " 6   Col6        310 non-null    float64\n",
      " 7   Col7        310 non-null    float64\n",
      " 8   Col8        310 non-null    float64\n",
      " 9   Col9        310 non-null    float64\n",
      " 10  Col10       310 non-null    float64\n",
      " 11  Col11       310 non-null    float64\n",
      " 12  Col12       310 non-null    float64\n",
      " 13  Class_att   310 non-null    object \n",
      "dtypes: float64(12), int64(1), object(1)\n",
      "memory usage: 34.0+ KB\n"
     ]
    }
   ],
   "source": [
    "# Untuk melihat tipe data dan jumlah kolom\n",
    "spine.info()"
   ]
  },
  {
   "cell_type": "markdown",
   "metadata": {},
   "source": [
    "Dataset ini terdiri dari 14 variabel, dimana masing-masing variabel terdiri dari 310 baris. Variabel \"Col1\" hingga \"Col12\" memiliki tipe data float64, variabel \"unnamed:0\" memiliki tipe data int 64, dan variabel \"class_att\" memiliki tipe data object."
   ]
  },
  {
   "cell_type": "code",
   "execution_count": 885,
   "metadata": {},
   "outputs": [
    {
     "data": {
      "text/html": [
       "<div>\n",
       "<style scoped>\n",
       "    .dataframe tbody tr th:only-of-type {\n",
       "        vertical-align: middle;\n",
       "    }\n",
       "\n",
       "    .dataframe tbody tr th {\n",
       "        vertical-align: top;\n",
       "    }\n",
       "\n",
       "    .dataframe thead th {\n",
       "        text-align: right;\n",
       "    }\n",
       "</style>\n",
       "<table border=\"1\" class=\"dataframe\">\n",
       "  <thead>\n",
       "    <tr style=\"text-align: right;\">\n",
       "      <th></th>\n",
       "      <th>Unnamed: 0</th>\n",
       "      <th>Col1</th>\n",
       "      <th>Col2</th>\n",
       "      <th>Col3</th>\n",
       "      <th>Col4</th>\n",
       "      <th>Col5</th>\n",
       "      <th>Col6</th>\n",
       "      <th>Col7</th>\n",
       "      <th>Col8</th>\n",
       "      <th>Col9</th>\n",
       "      <th>Col10</th>\n",
       "      <th>Col11</th>\n",
       "      <th>Col12</th>\n",
       "    </tr>\n",
       "  </thead>\n",
       "  <tbody>\n",
       "    <tr>\n",
       "      <th>count</th>\n",
       "      <td>310.000000</td>\n",
       "      <td>310.000000</td>\n",
       "      <td>310.000000</td>\n",
       "      <td>310.000000</td>\n",
       "      <td>310.000000</td>\n",
       "      <td>310.000000</td>\n",
       "      <td>310.000000</td>\n",
       "      <td>310.000000</td>\n",
       "      <td>310.000000</td>\n",
       "      <td>310.000000</td>\n",
       "      <td>310.000000</td>\n",
       "      <td>310.000000</td>\n",
       "      <td>310.000000</td>\n",
       "    </tr>\n",
       "    <tr>\n",
       "      <th>mean</th>\n",
       "      <td>154.500000</td>\n",
       "      <td>60.496653</td>\n",
       "      <td>17.542822</td>\n",
       "      <td>51.930930</td>\n",
       "      <td>42.953831</td>\n",
       "      <td>117.920655</td>\n",
       "      <td>26.296694</td>\n",
       "      <td>0.472979</td>\n",
       "      <td>21.321526</td>\n",
       "      <td>13.064511</td>\n",
       "      <td>11.933317</td>\n",
       "      <td>-14.053139</td>\n",
       "      <td>25.645981</td>\n",
       "    </tr>\n",
       "    <tr>\n",
       "      <th>std</th>\n",
       "      <td>89.633513</td>\n",
       "      <td>17.236520</td>\n",
       "      <td>10.008330</td>\n",
       "      <td>18.554064</td>\n",
       "      <td>13.423102</td>\n",
       "      <td>13.317377</td>\n",
       "      <td>37.559027</td>\n",
       "      <td>0.285787</td>\n",
       "      <td>8.639423</td>\n",
       "      <td>3.399713</td>\n",
       "      <td>2.893265</td>\n",
       "      <td>12.225582</td>\n",
       "      <td>10.450558</td>\n",
       "    </tr>\n",
       "    <tr>\n",
       "      <th>min</th>\n",
       "      <td>0.000000</td>\n",
       "      <td>26.147921</td>\n",
       "      <td>-6.554948</td>\n",
       "      <td>14.000000</td>\n",
       "      <td>13.366931</td>\n",
       "      <td>70.082575</td>\n",
       "      <td>-11.058179</td>\n",
       "      <td>0.003220</td>\n",
       "      <td>7.027000</td>\n",
       "      <td>7.037800</td>\n",
       "      <td>7.030600</td>\n",
       "      <td>-35.287375</td>\n",
       "      <td>7.007900</td>\n",
       "    </tr>\n",
       "    <tr>\n",
       "      <th>25%</th>\n",
       "      <td>77.250000</td>\n",
       "      <td>46.430294</td>\n",
       "      <td>10.667069</td>\n",
       "      <td>37.000000</td>\n",
       "      <td>33.347122</td>\n",
       "      <td>110.709196</td>\n",
       "      <td>1.603727</td>\n",
       "      <td>0.224367</td>\n",
       "      <td>13.054400</td>\n",
       "      <td>10.417800</td>\n",
       "      <td>9.541140</td>\n",
       "      <td>-24.289522</td>\n",
       "      <td>17.189075</td>\n",
       "    </tr>\n",
       "    <tr>\n",
       "      <th>50%</th>\n",
       "      <td>154.500000</td>\n",
       "      <td>58.691038</td>\n",
       "      <td>16.357689</td>\n",
       "      <td>49.562398</td>\n",
       "      <td>42.404912</td>\n",
       "      <td>118.268178</td>\n",
       "      <td>11.767934</td>\n",
       "      <td>0.475989</td>\n",
       "      <td>21.907150</td>\n",
       "      <td>12.938450</td>\n",
       "      <td>11.953835</td>\n",
       "      <td>-14.622856</td>\n",
       "      <td>24.931950</td>\n",
       "    </tr>\n",
       "    <tr>\n",
       "      <th>75%</th>\n",
       "      <td>231.750000</td>\n",
       "      <td>72.877696</td>\n",
       "      <td>22.120395</td>\n",
       "      <td>63.000000</td>\n",
       "      <td>52.695888</td>\n",
       "      <td>125.467674</td>\n",
       "      <td>41.287352</td>\n",
       "      <td>0.704846</td>\n",
       "      <td>28.954075</td>\n",
       "      <td>15.889525</td>\n",
       "      <td>14.371810</td>\n",
       "      <td>-3.497094</td>\n",
       "      <td>33.979600</td>\n",
       "    </tr>\n",
       "    <tr>\n",
       "      <th>max</th>\n",
       "      <td>309.000000</td>\n",
       "      <td>129.834041</td>\n",
       "      <td>49.431864</td>\n",
       "      <td>125.742385</td>\n",
       "      <td>121.429566</td>\n",
       "      <td>163.071041</td>\n",
       "      <td>418.543082</td>\n",
       "      <td>0.998827</td>\n",
       "      <td>36.743900</td>\n",
       "      <td>19.324000</td>\n",
       "      <td>16.821080</td>\n",
       "      <td>6.972071</td>\n",
       "      <td>44.341200</td>\n",
       "    </tr>\n",
       "  </tbody>\n",
       "</table>\n",
       "</div>"
      ],
      "text/plain": [
       "       Unnamed: 0        Col1        Col2        Col3        Col4        Col5  \\\n",
       "count  310.000000  310.000000  310.000000  310.000000  310.000000  310.000000   \n",
       "mean   154.500000   60.496653   17.542822   51.930930   42.953831  117.920655   \n",
       "std     89.633513   17.236520   10.008330   18.554064   13.423102   13.317377   \n",
       "min      0.000000   26.147921   -6.554948   14.000000   13.366931   70.082575   \n",
       "25%     77.250000   46.430294   10.667069   37.000000   33.347122  110.709196   \n",
       "50%    154.500000   58.691038   16.357689   49.562398   42.404912  118.268178   \n",
       "75%    231.750000   72.877696   22.120395   63.000000   52.695888  125.467674   \n",
       "max    309.000000  129.834041   49.431864  125.742385  121.429566  163.071041   \n",
       "\n",
       "             Col6        Col7        Col8        Col9       Col10       Col11  \\\n",
       "count  310.000000  310.000000  310.000000  310.000000  310.000000  310.000000   \n",
       "mean    26.296694    0.472979   21.321526   13.064511   11.933317  -14.053139   \n",
       "std     37.559027    0.285787    8.639423    3.399713    2.893265   12.225582   \n",
       "min    -11.058179    0.003220    7.027000    7.037800    7.030600  -35.287375   \n",
       "25%      1.603727    0.224367   13.054400   10.417800    9.541140  -24.289522   \n",
       "50%     11.767934    0.475989   21.907150   12.938450   11.953835  -14.622856   \n",
       "75%     41.287352    0.704846   28.954075   15.889525   14.371810   -3.497094   \n",
       "max    418.543082    0.998827   36.743900   19.324000   16.821080    6.972071   \n",
       "\n",
       "            Col12  \n",
       "count  310.000000  \n",
       "mean    25.645981  \n",
       "std     10.450558  \n",
       "min      7.007900  \n",
       "25%     17.189075  \n",
       "50%     24.931950  \n",
       "75%     33.979600  \n",
       "max     44.341200  "
      ]
     },
     "execution_count": 885,
     "metadata": {},
     "output_type": "execute_result"
    }
   ],
   "source": [
    "# Untuk melihat summary statistics pada kolom numerik\n",
    "spine.describe()"
   ]
  },
  {
   "cell_type": "code",
   "execution_count": 886,
   "metadata": {},
   "outputs": [
    {
     "data": {
      "text/plain": [
       "Abnormal    210\n",
       "Normal      100\n",
       "Name: Class_att, dtype: int64"
      ]
     },
     "execution_count": 886,
     "metadata": {},
     "output_type": "execute_result"
    }
   ],
   "source": [
    "# Untuk melihat jumlah unique values pada kolom kategorik variabel \"Class_att\"\n",
    "spine[\"Class_att\"].value_counts()"
   ]
  },
  {
   "cell_type": "code",
   "execution_count": 887,
   "metadata": {},
   "outputs": [
    {
     "data": {
      "text/html": [
       "<div>\n",
       "<style scoped>\n",
       "    .dataframe tbody tr th:only-of-type {\n",
       "        vertical-align: middle;\n",
       "    }\n",
       "\n",
       "    .dataframe tbody tr th {\n",
       "        vertical-align: top;\n",
       "    }\n",
       "\n",
       "    .dataframe thead th {\n",
       "        text-align: right;\n",
       "    }\n",
       "</style>\n",
       "<table border=\"1\" class=\"dataframe\">\n",
       "  <thead>\n",
       "    <tr style=\"text-align: right;\">\n",
       "      <th></th>\n",
       "      <th>Unnamed: 0</th>\n",
       "      <th>Col1</th>\n",
       "      <th>Col2</th>\n",
       "      <th>Col3</th>\n",
       "      <th>Col4</th>\n",
       "      <th>Col5</th>\n",
       "      <th>Col6</th>\n",
       "      <th>Col7</th>\n",
       "      <th>Col8</th>\n",
       "      <th>Col9</th>\n",
       "      <th>Col10</th>\n",
       "      <th>Col11</th>\n",
       "      <th>Col12</th>\n",
       "      <th>Class_att</th>\n",
       "    </tr>\n",
       "  </thead>\n",
       "  <tbody>\n",
       "    <tr>\n",
       "      <th>0</th>\n",
       "      <td>0</td>\n",
       "      <td>63.027817</td>\n",
       "      <td>22.552586</td>\n",
       "      <td>39.609117</td>\n",
       "      <td>40.475232</td>\n",
       "      <td>98.672917</td>\n",
       "      <td>-0.254400</td>\n",
       "      <td>0.744503</td>\n",
       "      <td>12.5661</td>\n",
       "      <td>14.5386</td>\n",
       "      <td>15.30468</td>\n",
       "      <td>-28.658501</td>\n",
       "      <td>43.5123</td>\n",
       "      <td>Abnormal</td>\n",
       "    </tr>\n",
       "    <tr>\n",
       "      <th>1</th>\n",
       "      <td>1</td>\n",
       "      <td>39.056951</td>\n",
       "      <td>10.060991</td>\n",
       "      <td>25.015378</td>\n",
       "      <td>28.995960</td>\n",
       "      <td>114.405425</td>\n",
       "      <td>4.564259</td>\n",
       "      <td>0.415186</td>\n",
       "      <td>12.8874</td>\n",
       "      <td>17.5323</td>\n",
       "      <td>16.78486</td>\n",
       "      <td>-25.530607</td>\n",
       "      <td>16.1102</td>\n",
       "      <td>Abnormal</td>\n",
       "    </tr>\n",
       "    <tr>\n",
       "      <th>2</th>\n",
       "      <td>2</td>\n",
       "      <td>68.832021</td>\n",
       "      <td>22.218482</td>\n",
       "      <td>50.092194</td>\n",
       "      <td>46.613539</td>\n",
       "      <td>105.985135</td>\n",
       "      <td>-3.530317</td>\n",
       "      <td>0.474889</td>\n",
       "      <td>26.8343</td>\n",
       "      <td>17.4861</td>\n",
       "      <td>16.65897</td>\n",
       "      <td>-29.031888</td>\n",
       "      <td>19.2221</td>\n",
       "      <td>Abnormal</td>\n",
       "    </tr>\n",
       "    <tr>\n",
       "      <th>3</th>\n",
       "      <td>3</td>\n",
       "      <td>69.297008</td>\n",
       "      <td>24.652878</td>\n",
       "      <td>44.311238</td>\n",
       "      <td>44.644130</td>\n",
       "      <td>101.868495</td>\n",
       "      <td>11.211523</td>\n",
       "      <td>0.369345</td>\n",
       "      <td>23.5603</td>\n",
       "      <td>12.7074</td>\n",
       "      <td>11.42447</td>\n",
       "      <td>-30.470246</td>\n",
       "      <td>18.8329</td>\n",
       "      <td>Abnormal</td>\n",
       "    </tr>\n",
       "    <tr>\n",
       "      <th>4</th>\n",
       "      <td>4</td>\n",
       "      <td>49.712859</td>\n",
       "      <td>9.652075</td>\n",
       "      <td>28.317406</td>\n",
       "      <td>40.060784</td>\n",
       "      <td>108.168725</td>\n",
       "      <td>7.918501</td>\n",
       "      <td>0.543360</td>\n",
       "      <td>35.4940</td>\n",
       "      <td>15.9546</td>\n",
       "      <td>8.87237</td>\n",
       "      <td>-16.378376</td>\n",
       "      <td>24.9171</td>\n",
       "      <td>Abnormal</td>\n",
       "    </tr>\n",
       "    <tr>\n",
       "      <th>...</th>\n",
       "      <td>...</td>\n",
       "      <td>...</td>\n",
       "      <td>...</td>\n",
       "      <td>...</td>\n",
       "      <td>...</td>\n",
       "      <td>...</td>\n",
       "      <td>...</td>\n",
       "      <td>...</td>\n",
       "      <td>...</td>\n",
       "      <td>...</td>\n",
       "      <td>...</td>\n",
       "      <td>...</td>\n",
       "      <td>...</td>\n",
       "      <td>...</td>\n",
       "    </tr>\n",
       "    <tr>\n",
       "      <th>305</th>\n",
       "      <td>305</td>\n",
       "      <td>47.903565</td>\n",
       "      <td>13.616688</td>\n",
       "      <td>36.000000</td>\n",
       "      <td>34.286877</td>\n",
       "      <td>117.449062</td>\n",
       "      <td>-4.245395</td>\n",
       "      <td>0.129744</td>\n",
       "      <td>7.8433</td>\n",
       "      <td>14.7484</td>\n",
       "      <td>8.51707</td>\n",
       "      <td>-15.728927</td>\n",
       "      <td>11.5472</td>\n",
       "      <td>Normal</td>\n",
       "    </tr>\n",
       "    <tr>\n",
       "      <th>306</th>\n",
       "      <td>306</td>\n",
       "      <td>53.936748</td>\n",
       "      <td>20.721496</td>\n",
       "      <td>29.220534</td>\n",
       "      <td>33.215251</td>\n",
       "      <td>114.365845</td>\n",
       "      <td>-0.421010</td>\n",
       "      <td>0.047913</td>\n",
       "      <td>19.1986</td>\n",
       "      <td>18.1972</td>\n",
       "      <td>7.08745</td>\n",
       "      <td>6.013843</td>\n",
       "      <td>43.8693</td>\n",
       "      <td>Normal</td>\n",
       "    </tr>\n",
       "    <tr>\n",
       "      <th>307</th>\n",
       "      <td>307</td>\n",
       "      <td>61.446597</td>\n",
       "      <td>22.694968</td>\n",
       "      <td>46.170347</td>\n",
       "      <td>38.751628</td>\n",
       "      <td>125.670725</td>\n",
       "      <td>-2.707880</td>\n",
       "      <td>0.081070</td>\n",
       "      <td>16.2059</td>\n",
       "      <td>13.5565</td>\n",
       "      <td>8.89572</td>\n",
       "      <td>3.564463</td>\n",
       "      <td>18.4151</td>\n",
       "      <td>Normal</td>\n",
       "    </tr>\n",
       "    <tr>\n",
       "      <th>308</th>\n",
       "      <td>308</td>\n",
       "      <td>45.252792</td>\n",
       "      <td>8.693157</td>\n",
       "      <td>41.583126</td>\n",
       "      <td>36.559635</td>\n",
       "      <td>118.545842</td>\n",
       "      <td>0.214750</td>\n",
       "      <td>0.159251</td>\n",
       "      <td>14.7334</td>\n",
       "      <td>16.0928</td>\n",
       "      <td>9.75922</td>\n",
       "      <td>5.767308</td>\n",
       "      <td>33.7192</td>\n",
       "      <td>Normal</td>\n",
       "    </tr>\n",
       "    <tr>\n",
       "      <th>309</th>\n",
       "      <td>309</td>\n",
       "      <td>33.841641</td>\n",
       "      <td>5.073991</td>\n",
       "      <td>36.641233</td>\n",
       "      <td>28.767649</td>\n",
       "      <td>123.945244</td>\n",
       "      <td>-0.199249</td>\n",
       "      <td>0.674504</td>\n",
       "      <td>19.3825</td>\n",
       "      <td>17.6963</td>\n",
       "      <td>13.72929</td>\n",
       "      <td>1.783007</td>\n",
       "      <td>40.6049</td>\n",
       "      <td>Normal</td>\n",
       "    </tr>\n",
       "  </tbody>\n",
       "</table>\n",
       "<p>310 rows × 14 columns</p>\n",
       "</div>"
      ],
      "text/plain": [
       "     Unnamed: 0       Col1       Col2       Col3       Col4        Col5  \\\n",
       "0             0  63.027817  22.552586  39.609117  40.475232   98.672917   \n",
       "1             1  39.056951  10.060991  25.015378  28.995960  114.405425   \n",
       "2             2  68.832021  22.218482  50.092194  46.613539  105.985135   \n",
       "3             3  69.297008  24.652878  44.311238  44.644130  101.868495   \n",
       "4             4  49.712859   9.652075  28.317406  40.060784  108.168725   \n",
       "..          ...        ...        ...        ...        ...         ...   \n",
       "305         305  47.903565  13.616688  36.000000  34.286877  117.449062   \n",
       "306         306  53.936748  20.721496  29.220534  33.215251  114.365845   \n",
       "307         307  61.446597  22.694968  46.170347  38.751628  125.670725   \n",
       "308         308  45.252792   8.693157  41.583126  36.559635  118.545842   \n",
       "309         309  33.841641   5.073991  36.641233  28.767649  123.945244   \n",
       "\n",
       "          Col6      Col7     Col8     Col9     Col10      Col11    Col12  \\\n",
       "0    -0.254400  0.744503  12.5661  14.5386  15.30468 -28.658501  43.5123   \n",
       "1     4.564259  0.415186  12.8874  17.5323  16.78486 -25.530607  16.1102   \n",
       "2    -3.530317  0.474889  26.8343  17.4861  16.65897 -29.031888  19.2221   \n",
       "3    11.211523  0.369345  23.5603  12.7074  11.42447 -30.470246  18.8329   \n",
       "4     7.918501  0.543360  35.4940  15.9546   8.87237 -16.378376  24.9171   \n",
       "..         ...       ...      ...      ...       ...        ...      ...   \n",
       "305  -4.245395  0.129744   7.8433  14.7484   8.51707 -15.728927  11.5472   \n",
       "306  -0.421010  0.047913  19.1986  18.1972   7.08745   6.013843  43.8693   \n",
       "307  -2.707880  0.081070  16.2059  13.5565   8.89572   3.564463  18.4151   \n",
       "308   0.214750  0.159251  14.7334  16.0928   9.75922   5.767308  33.7192   \n",
       "309  -0.199249  0.674504  19.3825  17.6963  13.72929   1.783007  40.6049   \n",
       "\n",
       "    Class_att  \n",
       "0    Abnormal  \n",
       "1    Abnormal  \n",
       "2    Abnormal  \n",
       "3    Abnormal  \n",
       "4    Abnormal  \n",
       "..        ...  \n",
       "305    Normal  \n",
       "306    Normal  \n",
       "307    Normal  \n",
       "308    Normal  \n",
       "309    Normal  \n",
       "\n",
       "[310 rows x 14 columns]"
      ]
     },
     "execution_count": 887,
     "metadata": {},
     "output_type": "execute_result"
    }
   ],
   "source": [
    "# Untuk melihat lima baris pertamadan terakhir pada data\n",
    "spine"
   ]
  },
  {
   "cell_type": "code",
   "execution_count": 888,
   "metadata": {},
   "outputs": [
    {
     "data": {
      "text/html": [
       "<div>\n",
       "<style scoped>\n",
       "    .dataframe tbody tr th:only-of-type {\n",
       "        vertical-align: middle;\n",
       "    }\n",
       "\n",
       "    .dataframe tbody tr th {\n",
       "        vertical-align: top;\n",
       "    }\n",
       "\n",
       "    .dataframe thead th {\n",
       "        text-align: right;\n",
       "    }\n",
       "</style>\n",
       "<table border=\"1\" class=\"dataframe\">\n",
       "  <thead>\n",
       "    <tr style=\"text-align: right;\">\n",
       "      <th></th>\n",
       "      <th>Col1</th>\n",
       "      <th>Col2</th>\n",
       "      <th>Col3</th>\n",
       "      <th>Col4</th>\n",
       "      <th>Col5</th>\n",
       "      <th>Col6</th>\n",
       "      <th>Col7</th>\n",
       "      <th>Col8</th>\n",
       "      <th>Col9</th>\n",
       "      <th>Col10</th>\n",
       "      <th>Col11</th>\n",
       "      <th>Col12</th>\n",
       "      <th>Class_att</th>\n",
       "    </tr>\n",
       "  </thead>\n",
       "  <tbody>\n",
       "    <tr>\n",
       "      <th>0</th>\n",
       "      <td>63.027817</td>\n",
       "      <td>22.552586</td>\n",
       "      <td>39.609117</td>\n",
       "      <td>40.475232</td>\n",
       "      <td>98.672917</td>\n",
       "      <td>-0.254400</td>\n",
       "      <td>0.744503</td>\n",
       "      <td>12.5661</td>\n",
       "      <td>14.5386</td>\n",
       "      <td>15.30468</td>\n",
       "      <td>-28.658501</td>\n",
       "      <td>43.5123</td>\n",
       "      <td>Abnormal</td>\n",
       "    </tr>\n",
       "    <tr>\n",
       "      <th>1</th>\n",
       "      <td>39.056951</td>\n",
       "      <td>10.060991</td>\n",
       "      <td>25.015378</td>\n",
       "      <td>28.995960</td>\n",
       "      <td>114.405425</td>\n",
       "      <td>4.564259</td>\n",
       "      <td>0.415186</td>\n",
       "      <td>12.8874</td>\n",
       "      <td>17.5323</td>\n",
       "      <td>16.78486</td>\n",
       "      <td>-25.530607</td>\n",
       "      <td>16.1102</td>\n",
       "      <td>Abnormal</td>\n",
       "    </tr>\n",
       "    <tr>\n",
       "      <th>2</th>\n",
       "      <td>68.832021</td>\n",
       "      <td>22.218482</td>\n",
       "      <td>50.092194</td>\n",
       "      <td>46.613539</td>\n",
       "      <td>105.985135</td>\n",
       "      <td>-3.530317</td>\n",
       "      <td>0.474889</td>\n",
       "      <td>26.8343</td>\n",
       "      <td>17.4861</td>\n",
       "      <td>16.65897</td>\n",
       "      <td>-29.031888</td>\n",
       "      <td>19.2221</td>\n",
       "      <td>Abnormal</td>\n",
       "    </tr>\n",
       "    <tr>\n",
       "      <th>3</th>\n",
       "      <td>69.297008</td>\n",
       "      <td>24.652878</td>\n",
       "      <td>44.311238</td>\n",
       "      <td>44.644130</td>\n",
       "      <td>101.868495</td>\n",
       "      <td>11.211523</td>\n",
       "      <td>0.369345</td>\n",
       "      <td>23.5603</td>\n",
       "      <td>12.7074</td>\n",
       "      <td>11.42447</td>\n",
       "      <td>-30.470246</td>\n",
       "      <td>18.8329</td>\n",
       "      <td>Abnormal</td>\n",
       "    </tr>\n",
       "    <tr>\n",
       "      <th>4</th>\n",
       "      <td>49.712859</td>\n",
       "      <td>9.652075</td>\n",
       "      <td>28.317406</td>\n",
       "      <td>40.060784</td>\n",
       "      <td>108.168725</td>\n",
       "      <td>7.918501</td>\n",
       "      <td>0.543360</td>\n",
       "      <td>35.4940</td>\n",
       "      <td>15.9546</td>\n",
       "      <td>8.87237</td>\n",
       "      <td>-16.378376</td>\n",
       "      <td>24.9171</td>\n",
       "      <td>Abnormal</td>\n",
       "    </tr>\n",
       "  </tbody>\n",
       "</table>\n",
       "</div>"
      ],
      "text/plain": [
       "        Col1       Col2       Col3       Col4        Col5       Col6  \\\n",
       "0  63.027817  22.552586  39.609117  40.475232   98.672917  -0.254400   \n",
       "1  39.056951  10.060991  25.015378  28.995960  114.405425   4.564259   \n",
       "2  68.832021  22.218482  50.092194  46.613539  105.985135  -3.530317   \n",
       "3  69.297008  24.652878  44.311238  44.644130  101.868495  11.211523   \n",
       "4  49.712859   9.652075  28.317406  40.060784  108.168725   7.918501   \n",
       "\n",
       "       Col7     Col8     Col9     Col10      Col11    Col12 Class_att  \n",
       "0  0.744503  12.5661  14.5386  15.30468 -28.658501  43.5123  Abnormal  \n",
       "1  0.415186  12.8874  17.5323  16.78486 -25.530607  16.1102  Abnormal  \n",
       "2  0.474889  26.8343  17.4861  16.65897 -29.031888  19.2221  Abnormal  \n",
       "3  0.369345  23.5603  12.7074  11.42447 -30.470246  18.8329  Abnormal  \n",
       "4  0.543360  35.4940  15.9546   8.87237 -16.378376  24.9171  Abnormal  "
      ]
     },
     "execution_count": 888,
     "metadata": {},
     "output_type": "execute_result"
    }
   ],
   "source": [
    "# Untuk menghapus variabel atau kolom yang tidak diperlukan\n",
    "spine = spine.drop([\"Unnamed: 0\"], axis = 1)\n",
    "spine.head()"
   ]
  },
  {
   "cell_type": "markdown",
   "metadata": {},
   "source": [
    "Variabel \"Unnamed: 0\" adalah sebuah ID unik yang tidak terkait dengan variabel target secara langsung sehingga dihapus karena dianggap kurang relevan dalam memprediksi target."
   ]
  },
  {
   "cell_type": "code",
   "execution_count": 889,
   "metadata": {},
   "outputs": [
    {
     "data": {
      "text/html": [
       "<div>\n",
       "<style scoped>\n",
       "    .dataframe tbody tr th:only-of-type {\n",
       "        vertical-align: middle;\n",
       "    }\n",
       "\n",
       "    .dataframe tbody tr th {\n",
       "        vertical-align: top;\n",
       "    }\n",
       "\n",
       "    .dataframe thead th {\n",
       "        text-align: right;\n",
       "    }\n",
       "</style>\n",
       "<table border=\"1\" class=\"dataframe\">\n",
       "  <thead>\n",
       "    <tr style=\"text-align: right;\">\n",
       "      <th></th>\n",
       "      <th>Col1</th>\n",
       "      <th>Col2</th>\n",
       "      <th>Col3</th>\n",
       "      <th>Col4</th>\n",
       "      <th>Col5</th>\n",
       "      <th>Col6</th>\n",
       "      <th>Col7</th>\n",
       "      <th>Col8</th>\n",
       "      <th>Col9</th>\n",
       "      <th>Col10</th>\n",
       "      <th>Col11</th>\n",
       "      <th>Col12</th>\n",
       "      <th>Target</th>\n",
       "    </tr>\n",
       "  </thead>\n",
       "  <tbody>\n",
       "    <tr>\n",
       "      <th>0</th>\n",
       "      <td>63.027817</td>\n",
       "      <td>22.552586</td>\n",
       "      <td>39.609117</td>\n",
       "      <td>40.475232</td>\n",
       "      <td>98.672917</td>\n",
       "      <td>-0.254400</td>\n",
       "      <td>0.744503</td>\n",
       "      <td>12.5661</td>\n",
       "      <td>14.5386</td>\n",
       "      <td>15.30468</td>\n",
       "      <td>-28.658501</td>\n",
       "      <td>43.5123</td>\n",
       "      <td>Abnormal</td>\n",
       "    </tr>\n",
       "    <tr>\n",
       "      <th>1</th>\n",
       "      <td>39.056951</td>\n",
       "      <td>10.060991</td>\n",
       "      <td>25.015378</td>\n",
       "      <td>28.995960</td>\n",
       "      <td>114.405425</td>\n",
       "      <td>4.564259</td>\n",
       "      <td>0.415186</td>\n",
       "      <td>12.8874</td>\n",
       "      <td>17.5323</td>\n",
       "      <td>16.78486</td>\n",
       "      <td>-25.530607</td>\n",
       "      <td>16.1102</td>\n",
       "      <td>Abnormal</td>\n",
       "    </tr>\n",
       "    <tr>\n",
       "      <th>2</th>\n",
       "      <td>68.832021</td>\n",
       "      <td>22.218482</td>\n",
       "      <td>50.092194</td>\n",
       "      <td>46.613539</td>\n",
       "      <td>105.985135</td>\n",
       "      <td>-3.530317</td>\n",
       "      <td>0.474889</td>\n",
       "      <td>26.8343</td>\n",
       "      <td>17.4861</td>\n",
       "      <td>16.65897</td>\n",
       "      <td>-29.031888</td>\n",
       "      <td>19.2221</td>\n",
       "      <td>Abnormal</td>\n",
       "    </tr>\n",
       "    <tr>\n",
       "      <th>3</th>\n",
       "      <td>69.297008</td>\n",
       "      <td>24.652878</td>\n",
       "      <td>44.311238</td>\n",
       "      <td>44.644130</td>\n",
       "      <td>101.868495</td>\n",
       "      <td>11.211523</td>\n",
       "      <td>0.369345</td>\n",
       "      <td>23.5603</td>\n",
       "      <td>12.7074</td>\n",
       "      <td>11.42447</td>\n",
       "      <td>-30.470246</td>\n",
       "      <td>18.8329</td>\n",
       "      <td>Abnormal</td>\n",
       "    </tr>\n",
       "    <tr>\n",
       "      <th>4</th>\n",
       "      <td>49.712859</td>\n",
       "      <td>9.652075</td>\n",
       "      <td>28.317406</td>\n",
       "      <td>40.060784</td>\n",
       "      <td>108.168725</td>\n",
       "      <td>7.918501</td>\n",
       "      <td>0.543360</td>\n",
       "      <td>35.4940</td>\n",
       "      <td>15.9546</td>\n",
       "      <td>8.87237</td>\n",
       "      <td>-16.378376</td>\n",
       "      <td>24.9171</td>\n",
       "      <td>Abnormal</td>\n",
       "    </tr>\n",
       "  </tbody>\n",
       "</table>\n",
       "</div>"
      ],
      "text/plain": [
       "        Col1       Col2       Col3       Col4        Col5       Col6  \\\n",
       "0  63.027817  22.552586  39.609117  40.475232   98.672917  -0.254400   \n",
       "1  39.056951  10.060991  25.015378  28.995960  114.405425   4.564259   \n",
       "2  68.832021  22.218482  50.092194  46.613539  105.985135  -3.530317   \n",
       "3  69.297008  24.652878  44.311238  44.644130  101.868495  11.211523   \n",
       "4  49.712859   9.652075  28.317406  40.060784  108.168725   7.918501   \n",
       "\n",
       "       Col7     Col8     Col9     Col10      Col11    Col12    Target  \n",
       "0  0.744503  12.5661  14.5386  15.30468 -28.658501  43.5123  Abnormal  \n",
       "1  0.415186  12.8874  17.5323  16.78486 -25.530607  16.1102  Abnormal  \n",
       "2  0.474889  26.8343  17.4861  16.65897 -29.031888  19.2221  Abnormal  \n",
       "3  0.369345  23.5603  12.7074  11.42447 -30.470246  18.8329  Abnormal  \n",
       "4  0.543360  35.4940  15.9546   8.87237 -16.378376  24.9171  Abnormal  "
      ]
     },
     "execution_count": 889,
     "metadata": {},
     "output_type": "execute_result"
    }
   ],
   "source": [
    "# Untuk mengganti nama variabel atau kolom\n",
    "spine.rename(columns = {\"Class_att\": \"Target\"}, inplace = True)\n",
    "spine.head()"
   ]
  },
  {
   "cell_type": "markdown",
   "metadata": {},
   "source": [
    "Variabel \"Class_att\" diubah menjadi \"Target\" untuk memudahkan dalam memproses data."
   ]
  },
  {
   "cell_type": "code",
   "execution_count": 890,
   "metadata": {},
   "outputs": [
    {
     "name": "stdout",
     "output_type": "stream",
     "text": [
      "Number of duplicate rows:  (0, 13)\n"
     ]
    }
   ],
   "source": [
    "# Untuk melihat apakah ada duplicate rows\n",
    "spine_duplicate = spine[spine.duplicated()]\n",
    "print(\"Number of duplicate rows: \", spine_duplicate.shape)"
   ]
  },
  {
   "cell_type": "markdown",
   "metadata": {},
   "source": [
    "Dari output tersebut, terlihat bahwa tidak ada baris yang memiliki nilai yang sama."
   ]
  },
  {
   "cell_type": "code",
   "execution_count": 891,
   "metadata": {},
   "outputs": [
    {
     "name": "stdout",
     "output_type": "stream",
     "text": [
      "Col1      0\n",
      "Col2      0\n",
      "Col3      0\n",
      "Col4      0\n",
      "Col5      0\n",
      "Col6      0\n",
      "Col7      0\n",
      "Col8      0\n",
      "Col9      0\n",
      "Col10     0\n",
      "Col11     0\n",
      "Col12     0\n",
      "Target    0\n",
      "dtype: int64\n"
     ]
    }
   ],
   "source": [
    "# Untuk melihat apakah ada missing value\n",
    "print(spine.isna().sum())"
   ]
  },
  {
   "cell_type": "markdown",
   "metadata": {},
   "source": [
    "Dari output tersebut, terlihat bahwa tidak ada baris yang memiliki missing value."
   ]
  },
  {
   "cell_type": "code",
   "execution_count": 892,
   "metadata": {},
   "outputs": [
    {
     "data": {
      "image/png": "[encoded data removed]",
      "text/plain": [
       "<Figure size 400x400 with 1 Axes>"
      ]
     },
     "metadata": {},
     "output_type": "display_data"
    }
   ],
   "source": [
    "# Untuk melihat plot distribusi dari variabel \"Target\"\n",
    "plt.figure(figsize = (4, 4))\n",
    "plt.title(\"Distributions of Target\")\n",
    "sns.countplot(x = \"Target\", data = spine, palette = \"Spectral\")\n",
    "plt.ylabel(\"Count\")\n",
    "plt.show()"
   ]
  },
  {
   "cell_type": "code",
   "execution_count": 893,
   "metadata": {},
   "outputs": [
    {
     "data": {
      "image/png": "[encoded data removed]",
      "text/plain": [
       "<Figure size 800x1000 with 1 Axes>"
      ]
     },
     "metadata": {},
     "output_type": "display_data"
    }
   ],
   "source": [
    "# Untuk melihat plot persentase distribusi dari variabel \"Target\"\n",
    "target_abnormal = spine[spine[\"Target\"] == \"Abnormal\"]\n",
    "target_normal = spine[spine[\"Target\"] == \"Normal\"]\n",
    "\n",
    "ptg_abnormal = (len(target_abnormal)/len(spine)) * 100\n",
    "ptg_normal = (len(target_normal)/len(spine)) * 100\n",
    "\n",
    "y = np.array([ptg_abnormal, ptg_normal])\n",
    "labels = [\"Abnormal\", \"Normal\"]\n",
    "\n",
    "plt.figure(figsize = (8,10))\n",
    "plt.pie(y, labels = labels, autopct = '%1.1f%%', colors = [\"lightsteelblue\", \"lavender\"])\n",
    "plt.title('Percentage of Target')\n",
    "plt.show()"
   ]
  },
  {
   "cell_type": "markdown",
   "metadata": {},
   "source": [
    "Dari kedua plot tersebut, terlihat bahwa distribusi dari variabel target tidak merata. Kelas \"Abnormal\" memiliki persentase sekitar 67,7% sedangkan kelas \"Normal\" hanya memiliki persentase sekitar 32,3%. Hal tersebut menunjukkan bahwa dataset tersebut mengalami ketidakseimbangan (imbalanced)."
   ]
  },
  {
   "cell_type": "code",
   "execution_count": 894,
   "metadata": {},
   "outputs": [
    {
     "data": {
      "text/html": [
       "<div>\n",
       "<style scoped>\n",
       "    .dataframe tbody tr th:only-of-type {\n",
       "        vertical-align: middle;\n",
       "    }\n",
       "\n",
       "    .dataframe tbody tr th {\n",
       "        vertical-align: top;\n",
       "    }\n",
       "\n",
       "    .dataframe thead th {\n",
       "        text-align: right;\n",
       "    }\n",
       "</style>\n",
       "<table border=\"1\" class=\"dataframe\">\n",
       "  <thead>\n",
       "    <tr style=\"text-align: right;\">\n",
       "      <th></th>\n",
       "      <th>Col1</th>\n",
       "      <th>Col2</th>\n",
       "      <th>Col3</th>\n",
       "      <th>Col4</th>\n",
       "      <th>Col5</th>\n",
       "      <th>Col6</th>\n",
       "      <th>Col7</th>\n",
       "      <th>Col8</th>\n",
       "      <th>Col9</th>\n",
       "      <th>Col10</th>\n",
       "      <th>Col11</th>\n",
       "      <th>Col12</th>\n",
       "      <th>Target</th>\n",
       "    </tr>\n",
       "  </thead>\n",
       "  <tbody>\n",
       "    <tr>\n",
       "      <th>0</th>\n",
       "      <td>63.027817</td>\n",
       "      <td>22.552586</td>\n",
       "      <td>39.609117</td>\n",
       "      <td>40.475232</td>\n",
       "      <td>98.672917</td>\n",
       "      <td>-0.254400</td>\n",
       "      <td>0.744503</td>\n",
       "      <td>12.5661</td>\n",
       "      <td>14.5386</td>\n",
       "      <td>15.30468</td>\n",
       "      <td>-28.658501</td>\n",
       "      <td>43.5123</td>\n",
       "      <td>0</td>\n",
       "    </tr>\n",
       "    <tr>\n",
       "      <th>1</th>\n",
       "      <td>39.056951</td>\n",
       "      <td>10.060991</td>\n",
       "      <td>25.015378</td>\n",
       "      <td>28.995960</td>\n",
       "      <td>114.405425</td>\n",
       "      <td>4.564259</td>\n",
       "      <td>0.415186</td>\n",
       "      <td>12.8874</td>\n",
       "      <td>17.5323</td>\n",
       "      <td>16.78486</td>\n",
       "      <td>-25.530607</td>\n",
       "      <td>16.1102</td>\n",
       "      <td>0</td>\n",
       "    </tr>\n",
       "    <tr>\n",
       "      <th>2</th>\n",
       "      <td>68.832021</td>\n",
       "      <td>22.218482</td>\n",
       "      <td>50.092194</td>\n",
       "      <td>46.613539</td>\n",
       "      <td>105.985135</td>\n",
       "      <td>-3.530317</td>\n",
       "      <td>0.474889</td>\n",
       "      <td>26.8343</td>\n",
       "      <td>17.4861</td>\n",
       "      <td>16.65897</td>\n",
       "      <td>-29.031888</td>\n",
       "      <td>19.2221</td>\n",
       "      <td>0</td>\n",
       "    </tr>\n",
       "    <tr>\n",
       "      <th>3</th>\n",
       "      <td>69.297008</td>\n",
       "      <td>24.652878</td>\n",
       "      <td>44.311238</td>\n",
       "      <td>44.644130</td>\n",
       "      <td>101.868495</td>\n",
       "      <td>11.211523</td>\n",
       "      <td>0.369345</td>\n",
       "      <td>23.5603</td>\n",
       "      <td>12.7074</td>\n",
       "      <td>11.42447</td>\n",
       "      <td>-30.470246</td>\n",
       "      <td>18.8329</td>\n",
       "      <td>0</td>\n",
       "    </tr>\n",
       "    <tr>\n",
       "      <th>4</th>\n",
       "      <td>49.712859</td>\n",
       "      <td>9.652075</td>\n",
       "      <td>28.317406</td>\n",
       "      <td>40.060784</td>\n",
       "      <td>108.168725</td>\n",
       "      <td>7.918501</td>\n",
       "      <td>0.543360</td>\n",
       "      <td>35.4940</td>\n",
       "      <td>15.9546</td>\n",
       "      <td>8.87237</td>\n",
       "      <td>-16.378376</td>\n",
       "      <td>24.9171</td>\n",
       "      <td>0</td>\n",
       "    </tr>\n",
       "  </tbody>\n",
       "</table>\n",
       "</div>"
      ],
      "text/plain": [
       "        Col1       Col2       Col3       Col4        Col5       Col6  \\\n",
       "0  63.027817  22.552586  39.609117  40.475232   98.672917  -0.254400   \n",
       "1  39.056951  10.060991  25.015378  28.995960  114.405425   4.564259   \n",
       "2  68.832021  22.218482  50.092194  46.613539  105.985135  -3.530317   \n",
       "3  69.297008  24.652878  44.311238  44.644130  101.868495  11.211523   \n",
       "4  49.712859   9.652075  28.317406  40.060784  108.168725   7.918501   \n",
       "\n",
       "       Col7     Col8     Col9     Col10      Col11    Col12  Target  \n",
       "0  0.744503  12.5661  14.5386  15.30468 -28.658501  43.5123       0  \n",
       "1  0.415186  12.8874  17.5323  16.78486 -25.530607  16.1102       0  \n",
       "2  0.474889  26.8343  17.4861  16.65897 -29.031888  19.2221       0  \n",
       "3  0.369345  23.5603  12.7074  11.42447 -30.470246  18.8329       0  \n",
       "4  0.543360  35.4940  15.9546   8.87237 -16.378376  24.9171       0  "
      ]
     },
     "execution_count": 894,
     "metadata": {},
     "output_type": "execute_result"
    }
   ],
   "source": [
    "# Untuk mengubah variabel \"Target\" dari kategorik menjadi numerik\n",
    "spine[\"Target\"].replace([\"Abnormal\", \"Normal\"], [0, 1], inplace = True)\n",
    "spine.head()"
   ]
  },
  {
   "cell_type": "markdown",
   "metadata": {},
   "source": [
    "Pada variabel \"Target\", kelas \"Abnormal\" diubah menjadi 0 dan kelas \"Normal\" diubah menjadi 1. Hal ini dilakukan untuk memudahkan dalam memproses data."
   ]
  },
  {
   "cell_type": "code",
   "execution_count": 895,
   "metadata": {},
   "outputs": [
    {
     "data": {
      "text/plain": [
       "<Axes: title={'center': 'Coefficient Correlation'}>"
      ]
     },
     "execution_count": 895,
     "metadata": {},
     "output_type": "execute_result"
    },
    {
     "data": {
      "image/png": "[encoded data removed]",
      "text/plain": [
       "<Figure size 400x700 with 2 Axes>"
      ]
     },
     "metadata": {},
     "output_type": "display_data"
    }
   ],
   "source": [
    "# Untuk melihat coefficient correlation dari variabel independen terhadap variabel dependen\n",
    "spine_corr = spine.corr()[[\"Target\"]].sort_values(by = [\"Target\"], ascending = False)\n",
    "\n",
    "plt.figure(figsize = (4,7))\n",
    "plt.title(\"Coefficient Correlation\")\n",
    "\n",
    "sns.heatmap(spine_corr, annot = True)"
   ]
  },
  {
   "cell_type": "markdown",
   "metadata": {},
   "source": [
    "Dari plot tersebut, terlihat bahwa variabel \"Col5\" memiliki korelasi positif yang cukup kuat terhadap variabel \"Target\". Artinya, jika nilai variabel \"Col5\" meningkat, maka nilai variabel \"Target\" juga ikut meningkat.\n",
    "\n",
    "Sementara itu, variabel \"Col6\" memiliki korelasi negatif yang cukup kuat terhadap variabel \"Target\". Artinya, jika nilai variabel \"Col6\" meningkat, maka nilai variabel \"Target\" akan menurun.\n",
    "\n",
    "Selain itu, variabel \"Col12\", \"Col9\", \"Col8\", \"Col11\", dan \"Col7\" memiliki nilai korelasi mendekati 0, yang menunjukkan bahwa variabel tersebut tidak memiliki pengaruh yang signifikan terhadap variabel \"Target\". Hal ini bisa dijadikan sebagai pertimbangan untuk menghapus variabel-variabel tersebut."
   ]
  },
  {
   "cell_type": "markdown",
   "metadata": {},
   "source": [
    "Secara keseluruhan, beberapa hal yang ditemukan dari dataset ini setelah melakukan EDA adalah:\n",
    "1.   **Data imbalanced**. Hal ini bisa diatasi dengan cara teknik resampling, seperti oversampling atau undersampling. Oversampling adalah teknik untuk menambah data pada kelas minoritas, dalam data ini adalah pada kelas \"Normal\". Sedangkan, undersampling adalah teknik untuk mengurangi data pada kelas mayoritas, dalam data ini adalah pada kelas \"Abnormal\". Oversampling bisa digunakan pada kasus ini karena jumlah datanya tidak banyak, sehingga oversampling lebih disarankan daripada undersampling.\n",
    "2.   **Menghapus variabel \"Unnamed: 0\"**. Variabel \"Unnamed: 0\" dihapus karena merupakan sebuah ID unik yang tidak terkait dengan variabel target secara langsung\n",
    "3.   **Mengganti nama variabel \"Class_att\" menjadi \"Target**\". Variabel \"Class_att\" diganti nama menjadi \"Target\" untuk mempermudah dalam memproses data.\n",
    "4.   **Melakukan feature engineering pada variabel \"Target\"**. Melakukan label encoding pada variabel \"Target\" untuk mengubah data dari kategorik menjadi numerik.\n",
    "\n"
   ]
  },
  {
   "cell_type": "markdown",
   "metadata": {},
   "source": [
    "## Split the Dataset"
   ]
  },
  {
   "cell_type": "code",
   "execution_count": 896,
   "metadata": {},
   "outputs": [],
   "source": [
    "# Library untuk melakukan split terhadap dataset\n",
    "from sklearn.model_selection import train_test_split"
   ]
  },
  {
   "cell_type": "code",
   "execution_count": 897,
   "metadata": {},
   "outputs": [],
   "source": [
    "# Untuk memisahkan variable prediktor dan target\n",
    "prediktor = spine.drop([\"Target\"], axis = 1)\n",
    "target = spine[\"Target\"]"
   ]
  },
  {
   "cell_type": "code",
   "execution_count": 898,
   "metadata": {},
   "outputs": [],
   "source": [
    "# Untuk membagi dataset menjadi train data, test data, dan validation data\n",
    "x_train, x_temp, y_train, y_temp = train_test_split(prediktor, target, train_size = 0.8, random_state = 42)\n",
    "x_val, x_test, y_val, y_test  = train_test_split(x_temp, y_temp, test_size = 0.5, random_state = 42)"
   ]
  },
  {
   "cell_type": "code",
   "execution_count": 899,
   "metadata": {},
   "outputs": [
    {
     "name": "stdout",
     "output_type": "stream",
     "text": [
      "Train data      (x, y): ( 248 , 248 )\n",
      "Test data       (x, y): ( 31 , 31 )\n",
      "Validation data (x, y): ( 31 , 31 )\n"
     ]
    }
   ],
   "source": [
    "# Untuk melihat banyaknya train data, test data, dan validation data\n",
    "print(\"Train data      (x, y): (\", len(x_train), \",\", len(y_train), \")\")\n",
    "print(\"Test data       (x, y): (\", len(x_test), \",\", len(y_test), \")\")\n",
    "print(\"Validation data (x, y): (\", len(x_val), \",\", len(y_val), \")\")"
   ]
  },
  {
   "cell_type": "markdown",
   "metadata": {},
   "source": [
    "Dari output tersebut, terlihat bahwa dari 310 data berhasil dibagi menjadi 80% train yaitu sebanyak 248 data, 10% test yaitu sebanyak 31 data, and 10% validation yaitu sebanyak 31 data."
   ]
  },
  {
   "cell_type": "code",
   "execution_count": 900,
   "metadata": {},
   "outputs": [],
   "source": [
    "# Library untuk melakukan SMOTE pada teknik oversampling\n",
    "from imblearn.over_sampling import SMOTE"
   ]
  },
  {
   "cell_type": "code",
   "execution_count": 901,
   "metadata": {},
   "outputs": [],
   "source": [
    "# Untuk menambahkan data menggunakan SMOTE pada data training\n",
    "smote = SMOTE(random_state = 42)\n",
    "x_train_resampled, y_train_resampled = smote.fit_resample(x_train, y_train)"
   ]
  },
  {
   "cell_type": "code",
   "execution_count": 902,
   "metadata": {},
   "outputs": [
    {
     "name": "stdout",
     "output_type": "stream",
     "text": [
      "Train data (before SMOTE) (Target):\n",
      "0    166\n",
      "1     82\n",
      "Name: Target, dtype: int64\n",
      "\n",
      "Train data (after SMOTE) (Target):\n",
      "0    166\n",
      "1    166\n",
      "Name: Target, dtype: int64\n"
     ]
    }
   ],
   "source": [
    "# Untuk membandingkan banyaknya train data sebelum dan sesudah dilakukan SMOTE\n",
    "print(\"Train data (before SMOTE) (Target):\")\n",
    "print(y_train.value_counts())\n",
    "print()\n",
    "print(\"Train data (after SMOTE) (Target):\")\n",
    "print(y_train_resampled.value_counts())"
   ]
  },
  {
   "cell_type": "markdown",
   "metadata": {},
   "source": [
    "Untuk mengatasi masalah imbalanced pada data ini, saya menggunakan metode oversampling SMOTE. Synthetic Minority Oversampling Technique atau SMOTE adalah suatu proses data augmentasi untuk kelas minoritas dengan cara membuat sampel-sampel sintetis baru untuk kelas minoritas. Metode ini akan mengambil contoh case minoritas dari data input yang mendekati feature space, lalu menarik garis antara contoh dalam feature space tersebut dan membuat sampel baru di sepanjang garis tersebut."
   ]
  },
  {
   "cell_type": "markdown",
   "metadata": {},
   "source": [
    "## Create an Architecture"
   ]
  },
  {
   "cell_type": "code",
   "execution_count": 903,
   "metadata": {},
   "outputs": [],
   "source": [
    "# %pip install tensorflow"
   ]
  },
  {
   "cell_type": "code",
   "execution_count": 904,
   "metadata": {},
   "outputs": [],
   "source": [
    "# %pip install keras"
   ]
  },
  {
   "cell_type": "code",
   "execution_count": 905,
   "metadata": {},
   "outputs": [],
   "source": [
    "# Library untuk membuat architecture\n",
    "from tensorflow.keras.models import Sequential\n",
    "from tensorflow.keras.layers import Dense"
   ]
  },
  {
   "cell_type": "code",
   "execution_count": 906,
   "metadata": {},
   "outputs": [],
   "source": [
    "# Untuk membuat architecture\n",
    "model = Sequential()\n",
    "\n",
    "# Untuk membuat input layer\n",
    "model.add(Dense(units = 12, activation = 'sigmoid', input_shape = (x_train.shape[1],)))\n",
    "\n",
    "# Untuk membuat hidden layer\n",
    "model.add(Dense(units = 512, activation = 'sigmoid'))\n",
    "model.add(Dense(units = 256, activation = 'sigmoid'))\n",
    "model.add(Dense(units = 128, activation = 'sigmoid'))\n",
    "\n",
    "# Untuk membuat output layer\n",
    "model.add(Dense(units = 2, activation = 'softmax'))"
   ]
  },
  {
   "cell_type": "markdown",
   "metadata": {},
   "source": [
    "Pada input layer, model menggunakan 12 unit neuron sesuai dengan jumlah fitur atau variabel pada dataset dengan activation function sigmoid.\n",
    "\n",
    "Pada hidden layer, model atau layer pertama menggunakan 512 unit neuron, kemudian layer kedua menggunakan 256 unit neuron, dan layer terakhir menggunakan 128 unit neuron dengan activation function sigmoid sesuai dengan ketentuan pada soal.\n",
    "\n",
    "Pada output layer, model menggunakan 2 unit neuron dengan activation function softmax sesuai dengan ketentuan pada soal."
   ]
  },
  {
   "cell_type": "code",
   "execution_count": 907,
   "metadata": {},
   "outputs": [
    {
     "name": "stdout",
     "output_type": "stream",
     "text": [
      "Model: \"sequential_104\"\n",
      "_________________________________________________________________\n",
      " Layer (type)                Output Shape              Param #   \n",
      "=================================================================\n",
      " dense_676 (Dense)           (None, 12)                156       \n",
      "                                                                 \n",
      " dense_677 (Dense)           (None, 512)               6656      \n",
      "                                                                 \n",
      " dense_678 (Dense)           (None, 256)               131328    \n",
      "                                                                 \n",
      " dense_679 (Dense)           (None, 128)               32896     \n",
      "                                                                 \n",
      " dense_680 (Dense)           (None, 2)                 258       \n",
      "                                                                 \n",
      "=================================================================\n",
      "Total params: 171294 (669.12 KB)\n",
      "Trainable params: 171294 (669.12 KB)\n",
      "Non-trainable params: 0 (0.00 Byte)\n",
      "_________________________________________________________________\n"
     ]
    }
   ],
   "source": [
    "# Untuk menampilkan summary model atau arsitektur yang telah dibuat\n",
    "model.summary()"
   ]
  },
  {
   "cell_type": "markdown",
   "metadata": {},
   "source": [
    "Dari architecture di atas, terdapat 5 model fully connected layer. Total params diperolah dari jumlah parameter dari masing-masing model. Nilai non-trainable params nya 0 menandakan bahwa selama pelatihan tidak ada model atau layer yang difreeze."
   ]
  },
  {
   "cell_type": "code",
   "execution_count": 908,
   "metadata": {},
   "outputs": [],
   "source": [
    "# Untuk mengcompile model\n",
    "model.compile(optimizer = 'adam',\n",
    "              loss = 'sparse_categorical_crossentropy',\n",
    "              metrics = ['accuracy'])"
   ]
  },
  {
   "cell_type": "markdown",
   "metadata": {},
   "source": [
    "Parameter yang digunakan pada saat mengompile model antara lain adalah optimizer \"Adam\" karena memberikan performa yang lebih baik, kemudian loss \"SparseCategoricalCrossentropy\" karena ada dua kelas pada variabel \"Target\" dimana labelnya bukan merupakan One Hot dan mengikuti activation function softmax, serta yang terakhir metrics \"Accuracy\" untuk menampilkan accuracy yang diperoleh."
   ]
  },
  {
   "cell_type": "code",
   "execution_count": 909,
   "metadata": {},
   "outputs": [
    {
     "name": "stdout",
     "output_type": "stream",
     "text": [
      "Epoch 1/50\n",
      "8/8 [==============================] - 2s 44ms/step - loss: 0.6832 - accuracy: 0.6613 - val_loss: 0.6051 - val_accuracy: 0.7097\n",
      "Epoch 2/50\n",
      "8/8 [==============================] - 0s 11ms/step - loss: 0.6489 - accuracy: 0.6694 - val_loss: 0.6031 - val_accuracy: 0.7097\n",
      "Epoch 3/50\n",
      "8/8 [==============================] - 0s 12ms/step - loss: 0.6584 - accuracy: 0.6694 - val_loss: 0.6039 - val_accuracy: 0.7097\n",
      "Epoch 4/50\n",
      "8/8 [==============================] - 0s 10ms/step - loss: 0.6343 - accuracy: 0.6694 - val_loss: 0.6000 - val_accuracy: 0.7097\n",
      "Epoch 5/50\n",
      "8/8 [==============================] - 0s 10ms/step - loss: 0.6390 - accuracy: 0.6694 - val_loss: 0.6039 - val_accuracy: 0.7097\n",
      "Epoch 6/50\n",
      "8/8 [==============================] - 0s 12ms/step - loss: 0.6347 - accuracy: 0.6694 - val_loss: 0.6001 - val_accuracy: 0.7097\n",
      "Epoch 7/50\n",
      "8/8 [==============================] - 0s 11ms/step - loss: 0.6313 - accuracy: 0.6694 - val_loss: 0.5994 - val_accuracy: 0.7097\n",
      "Epoch 8/50\n",
      "8/8 [==============================] - 0s 12ms/step - loss: 0.6302 - accuracy: 0.6694 - val_loss: 0.6004 - val_accuracy: 0.7097\n",
      "Epoch 9/50\n",
      "8/8 [==============================] - 0s 9ms/step - loss: 0.6274 - accuracy: 0.6694 - val_loss: 0.5995 - val_accuracy: 0.7097\n",
      "Epoch 10/50\n",
      "8/8 [==============================] - 0s 10ms/step - loss: 0.6276 - accuracy: 0.6694 - val_loss: 0.5962 - val_accuracy: 0.7097\n",
      "Epoch 11/50\n",
      "8/8 [==============================] - 0s 11ms/step - loss: 0.6223 - accuracy: 0.6694 - val_loss: 0.5865 - val_accuracy: 0.7097\n",
      "Epoch 12/50\n",
      "8/8 [==============================] - 0s 10ms/step - loss: 0.6187 - accuracy: 0.6694 - val_loss: 0.5821 - val_accuracy: 0.7097\n",
      "Epoch 13/50\n",
      "8/8 [==============================] - 0s 10ms/step - loss: 0.6125 - accuracy: 0.6694 - val_loss: 0.5627 - val_accuracy: 0.7097\n",
      "Epoch 14/50\n",
      "8/8 [==============================] - 0s 10ms/step - loss: 0.5958 - accuracy: 0.6694 - val_loss: 0.5740 - val_accuracy: 0.7097\n",
      "Epoch 15/50\n",
      "8/8 [==============================] - 0s 11ms/step - loss: 0.6142 - accuracy: 0.6573 - val_loss: 0.5460 - val_accuracy: 0.7097\n",
      "Epoch 16/50\n",
      "8/8 [==============================] - 0s 11ms/step - loss: 0.5589 - accuracy: 0.6653 - val_loss: 0.5064 - val_accuracy: 0.7742\n",
      "Epoch 17/50\n",
      "8/8 [==============================] - 0s 10ms/step - loss: 0.5216 - accuracy: 0.6935 - val_loss: 0.4602 - val_accuracy: 0.7097\n",
      "Epoch 18/50\n",
      "8/8 [==============================] - 0s 11ms/step - loss: 0.4857 - accuracy: 0.7419 - val_loss: 0.4313 - val_accuracy: 0.7419\n",
      "Epoch 19/50\n",
      "8/8 [==============================] - 0s 12ms/step - loss: 0.4439 - accuracy: 0.7823 - val_loss: 0.3970 - val_accuracy: 0.7742\n",
      "Epoch 20/50\n",
      "8/8 [==============================] - 0s 11ms/step - loss: 0.4294 - accuracy: 0.8065 - val_loss: 0.4174 - val_accuracy: 0.7742\n",
      "Epoch 21/50\n",
      "8/8 [==============================] - 0s 10ms/step - loss: 0.4343 - accuracy: 0.7742 - val_loss: 0.3808 - val_accuracy: 0.7742\n",
      "Epoch 22/50\n",
      "8/8 [==============================] - 0s 10ms/step - loss: 0.4177 - accuracy: 0.8024 - val_loss: 0.3583 - val_accuracy: 0.7742\n",
      "Epoch 23/50\n",
      "8/8 [==============================] - 0s 10ms/step - loss: 0.4190 - accuracy: 0.7903 - val_loss: 0.3552 - val_accuracy: 0.7742\n",
      "Epoch 24/50\n",
      "8/8 [==============================] - 0s 10ms/step - loss: 0.4104 - accuracy: 0.8065 - val_loss: 0.3528 - val_accuracy: 0.7742\n",
      "Epoch 25/50\n",
      "8/8 [==============================] - 0s 10ms/step - loss: 0.4099 - accuracy: 0.7581 - val_loss: 0.3522 - val_accuracy: 0.8065\n",
      "Epoch 26/50\n",
      "8/8 [==============================] - 0s 11ms/step - loss: 0.4441 - accuracy: 0.7339 - val_loss: 0.4074 - val_accuracy: 0.7742\n",
      "Epoch 27/50\n",
      "8/8 [==============================] - 0s 10ms/step - loss: 0.3919 - accuracy: 0.8024 - val_loss: 0.3587 - val_accuracy: 0.8387\n",
      "Epoch 28/50\n",
      "8/8 [==============================] - 0s 9ms/step - loss: 0.4040 - accuracy: 0.8145 - val_loss: 0.3509 - val_accuracy: 0.7742\n",
      "Epoch 29/50\n",
      "8/8 [==============================] - 0s 10ms/step - loss: 0.3992 - accuracy: 0.8024 - val_loss: 0.3583 - val_accuracy: 0.7742\n",
      "Epoch 30/50\n",
      "8/8 [==============================] - 0s 10ms/step - loss: 0.3983 - accuracy: 0.8185 - val_loss: 0.3452 - val_accuracy: 0.7742\n",
      "Epoch 31/50\n",
      "8/8 [==============================] - 0s 10ms/step - loss: 0.3811 - accuracy: 0.8065 - val_loss: 0.3441 - val_accuracy: 0.8065\n",
      "Epoch 32/50\n",
      "8/8 [==============================] - 0s 14ms/step - loss: 0.3868 - accuracy: 0.8105 - val_loss: 0.3421 - val_accuracy: 0.7742\n",
      "Epoch 33/50\n",
      "8/8 [==============================] - 0s 11ms/step - loss: 0.3944 - accuracy: 0.7984 - val_loss: 0.3386 - val_accuracy: 0.7742\n",
      "Epoch 34/50\n",
      "8/8 [==============================] - 0s 9ms/step - loss: 0.3907 - accuracy: 0.8347 - val_loss: 0.3367 - val_accuracy: 0.7742\n",
      "Epoch 35/50\n",
      "8/8 [==============================] - 0s 10ms/step - loss: 0.4280 - accuracy: 0.7823 - val_loss: 0.3788 - val_accuracy: 0.8387\n",
      "Epoch 36/50\n",
      "8/8 [==============================] - 0s 12ms/step - loss: 0.4193 - accuracy: 0.7621 - val_loss: 0.3270 - val_accuracy: 0.8387\n",
      "Epoch 37/50\n",
      "8/8 [==============================] - 0s 10ms/step - loss: 0.3698 - accuracy: 0.8185 - val_loss: 0.3651 - val_accuracy: 0.7742\n",
      "Epoch 38/50\n",
      "8/8 [==============================] - 0s 9ms/step - loss: 0.3663 - accuracy: 0.8105 - val_loss: 0.3340 - val_accuracy: 0.7742\n",
      "Epoch 39/50\n",
      "8/8 [==============================] - 0s 8ms/step - loss: 0.3629 - accuracy: 0.8226 - val_loss: 0.3459 - val_accuracy: 0.7742\n",
      "Epoch 40/50\n",
      "8/8 [==============================] - 0s 8ms/step - loss: 0.3635 - accuracy: 0.8226 - val_loss: 0.3375 - val_accuracy: 0.7742\n",
      "Epoch 41/50\n",
      "8/8 [==============================] - 0s 10ms/step - loss: 0.3555 - accuracy: 0.8185 - val_loss: 0.3288 - val_accuracy: 0.7742\n",
      "Epoch 42/50\n",
      "8/8 [==============================] - 0s 10ms/step - loss: 0.3489 - accuracy: 0.8306 - val_loss: 0.3505 - val_accuracy: 0.8065\n",
      "Epoch 43/50\n",
      "8/8 [==============================] - 0s 8ms/step - loss: 0.3488 - accuracy: 0.8347 - val_loss: 0.3169 - val_accuracy: 0.7742\n",
      "Epoch 44/50\n",
      "8/8 [==============================] - 0s 8ms/step - loss: 0.3513 - accuracy: 0.8226 - val_loss: 0.3562 - val_accuracy: 0.7742\n",
      "Epoch 45/50\n",
      "8/8 [==============================] - 0s 8ms/step - loss: 0.3447 - accuracy: 0.8266 - val_loss: 0.3273 - val_accuracy: 0.7419\n",
      "Epoch 46/50\n",
      "8/8 [==============================] - 0s 8ms/step - loss: 0.3420 - accuracy: 0.8266 - val_loss: 0.3311 - val_accuracy: 0.7742\n",
      "Epoch 47/50\n",
      "8/8 [==============================] - 0s 10ms/step - loss: 0.3377 - accuracy: 0.8266 - val_loss: 0.3476 - val_accuracy: 0.7742\n",
      "Epoch 48/50\n",
      "8/8 [==============================] - 0s 8ms/step - loss: 0.3339 - accuracy: 0.8266 - val_loss: 0.3251 - val_accuracy: 0.7742\n",
      "Epoch 49/50\n",
      "8/8 [==============================] - 0s 9ms/step - loss: 0.3312 - accuracy: 0.8266 - val_loss: 0.3681 - val_accuracy: 0.8387\n",
      "Epoch 50/50\n",
      "8/8 [==============================] - 0s 8ms/step - loss: 0.3558 - accuracy: 0.8387 - val_loss: 0.3239 - val_accuracy: 0.7742\n"
     ]
    }
   ],
   "source": [
    "history = model.fit(x_train, y_train,\n",
    "                    epochs = 50,\n",
    "                    batch_size = 32,\n",
    "                    validation_data = (x_val, y_val))"
   ]
  },
  {
   "cell_type": "code",
   "execution_count": 910,
   "metadata": {},
   "outputs": [],
   "source": [
    "# Untuk menyimpan history dari training model yang sebelumnya telah dilakukan\n",
    "hist_dict = history.history\n",
    "train_loss = hist_dict[\"loss\"]\n",
    "val_loss = hist_dict[\"val_loss\"]\n",
    "train_acc = hist_dict[\"accuracy\"]\n",
    "val_acc = hist_dict[\"val_accuracy\"]"
   ]
  },
  {
   "cell_type": "code",
   "execution_count": 911,
   "metadata": {},
   "outputs": [],
   "source": [
    "# Untuk menyimpan range epoch dari training model sebelumnya\n",
    "epochs_loss = range(1, len(train_loss)+1)\n",
    "epochs_acc = range(1, len(train_acc)+1)"
   ]
  },
  {
   "cell_type": "code",
   "execution_count": 912,
   "metadata": {},
   "outputs": [
    {
     "data": {
      "image/png": "[encoded data removed]",
      "text/plain": [
       "<Figure size 1500x600 with 2 Axes>"
      ]
     },
     "metadata": {},
     "output_type": "display_data"
    }
   ],
   "source": [
    "# Untuk membuat plot training dan validation loss serta training dan validation accuracy\n",
    "fig, axs = plt.subplots(1, 2, figsize=(15, 6))\n",
    "\n",
    "axs[0].plot(epochs_loss, train_loss, 'b-', label=\"Training Loss\")\n",
    "axs[0].plot(epochs_loss, val_loss, 'r-', label=\"Validation Loss\")\n",
    "axs[0].set_title(\"Training and Validation Loss\")\n",
    "axs[0].set_xlabel(\"Epochs\")\n",
    "axs[0].set_ylabel(\"Loss\")\n",
    "axs[0].legend()\n",
    "\n",
    "axs[1].plot(epochs_acc, train_acc, 'b-', label=\"Training Accuracy\")\n",
    "axs[1].plot(epochs_acc, val_acc, 'r-', label=\"Validation Accuracy\")\n",
    "axs[1].set_title(\"Training and Validation Accuracy\")\n",
    "axs[1].set_xlabel(\"Epochs\")\n",
    "axs[1].set_ylabel(\"Accuracy\")\n",
    "axs[1].legend()\n",
    "\n",
    "plt.show()"
   ]
  },
  {
   "cell_type": "markdown",
   "metadata": {},
   "source": [
    "Setelah ditrain sebanyak 50 epoch dan menggunakan 32 sampel data setiap batchnya, diperoleh hasil train accuracy nya sebesar 0.8387 dan val accuracy nya sebesar 0.7742. Sementara itu, diperoleh hasil train loss nya sebesar 0.3558 dan val loss nya sebesar 0.3239.\n",
    "\n",
    "Model ini bisa dikatakan kurang baik dan ada indikasi underfitting karena nilai train loss nya berada di atas nilai val loss. Artinya, model masih kurang baik dalam memahami pola dalam data baru.\n",
    "\n",
    "Selain itu, nilai train accuracy juga berada di atas nilai val accuracy. Artinya, model masih kurang baik dalam memprediksi data, baik dari data training maupun data baru."
   ]
  },
  {
   "cell_type": "code",
   "execution_count": 913,
   "metadata": {},
   "outputs": [
    {
     "name": "stdout",
     "output_type": "stream",
     "text": [
      "1/1 [==============================] - 0s 34ms/step - loss: 0.5199 - accuracy: 0.6774\n",
      "Model\n",
      "Test loss     : 0.5198559761047363\n",
      "Test accuracy : 0.6774193644523621\n"
     ]
    }
   ],
   "source": [
    "# Untuk melakukan evaluasi model menggunakan data validation dan training model sebelumnya\n",
    "test_loss, test_accuracy = model.evaluate(x_test, y_test)\n",
    "print(\"Model\")\n",
    "print(f\"Test loss     : \" + str(test_loss))\n",
    "print(f\"Test accuracy : \" + str(test_accuracy))"
   ]
  },
  {
   "cell_type": "markdown",
   "metadata": {},
   "source": [
    "Setelah mencoba memprediksi menggunakan model dan data testing, diperoleh nilai test accuracy nya sebesar 0.68 dan nilai test loss nya sebesar 0.52. Hal ini berarti model masih kurang baik dalam memprediksi dan harus ditingkatkan lagi performanya dalam memprediksi."
   ]
  },
  {
   "cell_type": "markdown",
   "metadata": {},
   "source": [
    "## Modify the Architecture"
   ]
  },
  {
   "cell_type": "markdown",
   "metadata": {},
   "source": [
    "### Percobaan ke-1"
   ]
  },
  {
   "cell_type": "code",
   "execution_count": 914,
   "metadata": {},
   "outputs": [],
   "source": [
    "from tensorflow.keras import layers\n",
    "from keras.layers import Dropout"
   ]
  },
  {
   "cell_type": "code",
   "execution_count": 915,
   "metadata": {},
   "outputs": [],
   "source": [
    "# Untuk membuat architecture\n",
    "model1 = Sequential()\n",
    "\n",
    "# Untuk membuat input layer\n",
    "model1.add(Dense(units = 12, activation = 'relu', input_shape = (x_train.shape[1],)))\n",
    "\n",
    "# Untuk membuat hidden layer\n",
    "model1.add(Dense(units = 512, activation = 'relu'))\n",
    "model1.add(Dense(units = 256, activation = 'relu'))\n",
    "model1.add(Dense(units = 128, activation = 'relu'))\n",
    "model1.add(Dense(units = 64, activation = 'relu'))\n",
    "model1.add(Dense(units = 32, activation = 'relu'))\n",
    "model1.add(Dropout(0.5))\n",
    "\n",
    "# Untuk membuat output layer\n",
    "model1.add(Dense(units = 1, activation = 'sigmoid'))"
   ]
  },
  {
   "cell_type": "markdown",
   "metadata": {},
   "source": [
    "Pada input layer, model menggunakan 12 unit neuron sesuai dengan jumlah fitur atau variabel pada dataset dengan activation function ReLU.\n",
    "\n",
    "Pada hidden layer, model atau layer pertama menggunakan 512 unit neuron, kemudian layer kedua menggunakan 256 unit neuron, dan layer berikutnya menggunakan n/2 unit neuron hingga layer terakhir menggunakan 32 unit neuron dengan activation function ReLU.\n",
    "\n",
    "Alasan saya memakai activation function relu pada input dan hidden layer adalah karena ReLU memiliki performa yang lebih cepat daripada sigmoid.\n",
    "\n",
    "Pada output layer, model menggunakan 1 unit neuron dengan activation function sigmoid sesuai dengan task dari dataset ini, yaitu binary classification."
   ]
  },
  {
   "cell_type": "code",
   "execution_count": 916,
   "metadata": {},
   "outputs": [],
   "source": [
    "# Library untuk menggunakan optimizer Adam\n",
    "from tensorflow.keras.optimizers import Adam"
   ]
  },
  {
   "cell_type": "code",
   "execution_count": 917,
   "metadata": {},
   "outputs": [],
   "source": [
    "# Untuk mengatur parameter pada optimizer Adam\n",
    "optimizer = Adam(learning_rate = 0.001)"
   ]
  },
  {
   "cell_type": "markdown",
   "metadata": {},
   "source": [
    "Disini saya menggunakan optimizer Adam yang mana saya sudah mencoba untuk mengganti learning rate nya berkali-kali. Namun, diperoleh hasil yang paling baik yang menggunakan nilai defaultnya,  yaitu 0.001."
   ]
  },
  {
   "cell_type": "code",
   "execution_count": 918,
   "metadata": {},
   "outputs": [],
   "source": [
    "# Untuk mengcompile model\n",
    "model1.compile(optimizer = optimizer,\n",
    "              loss = 'binary_crossentropy',\n",
    "              metrics = ['accuracy'])"
   ]
  },
  {
   "cell_type": "markdown",
   "metadata": {},
   "source": [
    "Parameter yang digunakan pada saat mengompile model1 antara lain adalah optimizer \"Adam\" dengan learning rate 0.001 karena memberikan performa yang lebih baik, kemudian loss \"BinaryCrossentropy\" karena ada dua kelas pada variabel \"Target\" dimana labelnya bukan merupakan One Hot dan mengikuti activation function sigmoid, serta yang terakhir metrics \"Accuracy\" untuk menampilkan accuracy yang diperoleh."
   ]
  },
  {
   "cell_type": "code",
   "execution_count": 919,
   "metadata": {},
   "outputs": [
    {
     "name": "stdout",
     "output_type": "stream",
     "text": [
      "Epoch 1/50\n",
      "4/4 [==============================] - 3s 155ms/step - loss: 1.1703 - accuracy: 0.5766 - val_loss: 0.5673 - val_accuracy: 0.7097\n",
      "Epoch 2/50\n",
      "4/4 [==============================] - 0s 24ms/step - loss: 0.6781 - accuracy: 0.6250 - val_loss: 0.4741 - val_accuracy: 0.7742\n",
      "Epoch 3/50\n",
      "4/4 [==============================] - 0s 24ms/step - loss: 0.6026 - accuracy: 0.7016 - val_loss: 0.6246 - val_accuracy: 0.7097\n",
      "Epoch 4/50\n",
      "4/4 [==============================] - 0s 19ms/step - loss: 0.6400 - accuracy: 0.6694 - val_loss: 0.5290 - val_accuracy: 0.7097\n",
      "Epoch 5/50\n",
      "4/4 [==============================] - 0s 19ms/step - loss: 0.5731 - accuracy: 0.6815 - val_loss: 0.4501 - val_accuracy: 0.6452\n",
      "Epoch 6/50\n",
      "4/4 [==============================] - 0s 19ms/step - loss: 0.5411 - accuracy: 0.7218 - val_loss: 0.4751 - val_accuracy: 0.6452\n",
      "Epoch 7/50\n",
      "4/4 [==============================] - 0s 17ms/step - loss: 0.5114 - accuracy: 0.6734 - val_loss: 0.4086 - val_accuracy: 0.7419\n",
      "Epoch 8/50\n",
      "4/4 [==============================] - 0s 15ms/step - loss: 0.5066 - accuracy: 0.7177 - val_loss: 0.4466 - val_accuracy: 0.7097\n",
      "Epoch 9/50\n",
      "4/4 [==============================] - 0s 17ms/step - loss: 0.5069 - accuracy: 0.6653 - val_loss: 0.4099 - val_accuracy: 0.7097\n",
      "Epoch 10/50\n",
      "4/4 [==============================] - 0s 15ms/step - loss: 0.4801 - accuracy: 0.6613 - val_loss: 0.4314 - val_accuracy: 0.7097\n",
      "Epoch 11/50\n",
      "4/4 [==============================] - 0s 16ms/step - loss: 0.4793 - accuracy: 0.6734 - val_loss: 0.3844 - val_accuracy: 0.7742\n",
      "Epoch 12/50\n",
      "4/4 [==============================] - 0s 15ms/step - loss: 0.4459 - accuracy: 0.7500 - val_loss: 0.4036 - val_accuracy: 0.7097\n",
      "Epoch 13/50\n",
      "4/4 [==============================] - 0s 15ms/step - loss: 0.4447 - accuracy: 0.7661 - val_loss: 0.3360 - val_accuracy: 0.7742\n",
      "Epoch 14/50\n",
      "4/4 [==============================] - 0s 16ms/step - loss: 0.4996 - accuracy: 0.7056 - val_loss: 0.3696 - val_accuracy: 0.7419\n",
      "Epoch 15/50\n",
      "4/4 [==============================] - 0s 17ms/step - loss: 0.4472 - accuracy: 0.7298 - val_loss: 0.3490 - val_accuracy: 0.7742\n",
      "Epoch 16/50\n",
      "4/4 [==============================] - 0s 16ms/step - loss: 0.4475 - accuracy: 0.7137 - val_loss: 0.3526 - val_accuracy: 0.8387\n",
      "Epoch 17/50\n",
      "4/4 [==============================] - 0s 16ms/step - loss: 0.4398 - accuracy: 0.7056 - val_loss: 0.3422 - val_accuracy: 0.8065\n",
      "Epoch 18/50\n",
      "4/4 [==============================] - 0s 20ms/step - loss: 0.4443 - accuracy: 0.6895 - val_loss: 0.3839 - val_accuracy: 0.7097\n",
      "Epoch 19/50\n",
      "4/4 [==============================] - 0s 21ms/step - loss: 0.4316 - accuracy: 0.6976 - val_loss: 0.3430 - val_accuracy: 0.8387\n",
      "Epoch 20/50\n",
      "4/4 [==============================] - 0s 19ms/step - loss: 0.4207 - accuracy: 0.7056 - val_loss: 0.3239 - val_accuracy: 0.8387\n",
      "Epoch 21/50\n",
      "4/4 [==============================] - 0s 21ms/step - loss: 0.3910 - accuracy: 0.7500 - val_loss: 0.3051 - val_accuracy: 0.8387\n",
      "Epoch 22/50\n",
      "4/4 [==============================] - 0s 18ms/step - loss: 0.3961 - accuracy: 0.8105 - val_loss: 0.2733 - val_accuracy: 0.9032\n",
      "Epoch 23/50\n",
      "4/4 [==============================] - 0s 17ms/step - loss: 0.4164 - accuracy: 0.7661 - val_loss: 0.2653 - val_accuracy: 0.9032\n",
      "Epoch 24/50\n",
      "4/4 [==============================] - 0s 18ms/step - loss: 0.4110 - accuracy: 0.7621 - val_loss: 0.3216 - val_accuracy: 0.8065\n",
      "Epoch 25/50\n",
      "4/4 [==============================] - 0s 17ms/step - loss: 0.4059 - accuracy: 0.7782 - val_loss: 0.2923 - val_accuracy: 0.8387\n",
      "Epoch 26/50\n",
      "4/4 [==============================] - 0s 14ms/step - loss: 0.3712 - accuracy: 0.7863 - val_loss: 0.3081 - val_accuracy: 0.8065\n",
      "Epoch 27/50\n",
      "4/4 [==============================] - 0s 14ms/step - loss: 0.3792 - accuracy: 0.7702 - val_loss: 0.2890 - val_accuracy: 0.8387\n",
      "Epoch 28/50\n",
      "4/4 [==============================] - 0s 14ms/step - loss: 0.3710 - accuracy: 0.8065 - val_loss: 0.2775 - val_accuracy: 0.8387\n",
      "Epoch 29/50\n",
      "4/4 [==============================] - 0s 14ms/step - loss: 0.3685 - accuracy: 0.8065 - val_loss: 0.2654 - val_accuracy: 0.8710\n",
      "Epoch 30/50\n",
      "4/4 [==============================] - 0s 14ms/step - loss: 0.3928 - accuracy: 0.8024 - val_loss: 0.3032 - val_accuracy: 0.9032\n",
      "Epoch 31/50\n",
      "4/4 [==============================] - 0s 15ms/step - loss: 0.3976 - accuracy: 0.7460 - val_loss: 0.3183 - val_accuracy: 0.7419\n",
      "Epoch 32/50\n",
      "4/4 [==============================] - 0s 15ms/step - loss: 0.3852 - accuracy: 0.7903 - val_loss: 0.2733 - val_accuracy: 0.8065\n",
      "Epoch 33/50\n",
      "4/4 [==============================] - 0s 18ms/step - loss: 0.3716 - accuracy: 0.8024 - val_loss: 0.2885 - val_accuracy: 0.8065\n",
      "Epoch 34/50\n",
      "4/4 [==============================] - 0s 21ms/step - loss: 0.3899 - accuracy: 0.8105 - val_loss: 0.3004 - val_accuracy: 0.8387\n",
      "Epoch 35/50\n",
      "4/4 [==============================] - 0s 22ms/step - loss: 0.3555 - accuracy: 0.8347 - val_loss: 0.2564 - val_accuracy: 0.8387\n",
      "Epoch 36/50\n",
      "4/4 [==============================] - 0s 18ms/step - loss: 0.3498 - accuracy: 0.8065 - val_loss: 0.2867 - val_accuracy: 0.8065\n",
      "Epoch 37/50\n",
      "4/4 [==============================] - 0s 17ms/step - loss: 0.3400 - accuracy: 0.8306 - val_loss: 0.2564 - val_accuracy: 0.8387\n",
      "Epoch 38/50\n",
      "4/4 [==============================] - 0s 14ms/step - loss: 0.3288 - accuracy: 0.8024 - val_loss: 0.2545 - val_accuracy: 0.8387\n",
      "Epoch 39/50\n",
      "4/4 [==============================] - 0s 14ms/step - loss: 0.3337 - accuracy: 0.8145 - val_loss: 0.2442 - val_accuracy: 0.9032\n",
      "Epoch 40/50\n",
      "4/4 [==============================] - 0s 15ms/step - loss: 0.3214 - accuracy: 0.8548 - val_loss: 0.2928 - val_accuracy: 0.8387\n",
      "Epoch 41/50\n",
      "4/4 [==============================] - 0s 14ms/step - loss: 0.3216 - accuracy: 0.8669 - val_loss: 0.2600 - val_accuracy: 0.8710\n",
      "Epoch 42/50\n",
      "4/4 [==============================] - 0s 15ms/step - loss: 0.3153 - accuracy: 0.8266 - val_loss: 0.2919 - val_accuracy: 0.8710\n",
      "Epoch 43/50\n",
      "4/4 [==============================] - 0s 14ms/step - loss: 0.3105 - accuracy: 0.8427 - val_loss: 0.2850 - val_accuracy: 0.8710\n",
      "Epoch 44/50\n",
      "4/4 [==============================] - 0s 20ms/step - loss: 0.3079 - accuracy: 0.8306 - val_loss: 0.2752 - val_accuracy: 0.8387\n",
      "Epoch 45/50\n",
      "4/4 [==============================] - 0s 21ms/step - loss: 0.2759 - accuracy: 0.8629 - val_loss: 0.2812 - val_accuracy: 0.9032\n",
      "Epoch 46/50\n",
      "4/4 [==============================] - 0s 22ms/step - loss: 0.2917 - accuracy: 0.8468 - val_loss: 0.2887 - val_accuracy: 0.8710\n",
      "Epoch 47/50\n",
      "4/4 [==============================] - 0s 26ms/step - loss: 0.3194 - accuracy: 0.8468 - val_loss: 0.3403 - val_accuracy: 0.8065\n",
      "Epoch 48/50\n",
      "4/4 [==============================] - 0s 18ms/step - loss: 0.3150 - accuracy: 0.8427 - val_loss: 0.3571 - val_accuracy: 0.8710\n",
      "Epoch 49/50\n",
      "4/4 [==============================] - 0s 15ms/step - loss: 0.3222 - accuracy: 0.8226 - val_loss: 0.3157 - val_accuracy: 0.8065\n",
      "Epoch 50/50\n",
      "4/4 [==============================] - 0s 16ms/step - loss: 0.3137 - accuracy: 0.8306 - val_loss: 0.3499 - val_accuracy: 0.8710\n"
     ]
    }
   ],
   "source": [
    "history1 = model1.fit(x_train, y_train,\n",
    "                    epochs = 50,\n",
    "                    batch_size = 64,\n",
    "                    validation_data = (x_val, y_val))"
   ]
  },
  {
   "cell_type": "markdown",
   "metadata": {},
   "source": [
    "Setelah ditrain sebanyak 50 epoch dan menggunakan 64 sampel data setiap batchnya, diperoleh hasil train accuracy nya sebesar 0.8306 dan val accuracy nya sebesar 0.8710. Sementara itu, diperoleh hasil train loss nya sebesar 0.3137 dan val loss nya sebesar 0.3499.\n",
    "\n",
    "Kedua nilai loss yang diperoleh memang memiliki perbedaan yang tidak terlalu signifikan, begitupula dengan kedua nilai accuracy. Namun, jika nilai val accuracy nya terus meningkat dan train accuracy nya tetap atau menurun, model dapat menjadi overfitting."
   ]
  },
  {
   "cell_type": "code",
   "execution_count": 920,
   "metadata": {},
   "outputs": [
    {
     "name": "stdout",
     "output_type": "stream",
     "text": [
      "1/1 [==============================] - 0s 27ms/step - loss: 0.3935 - accuracy: 0.7742\n",
      "Model 1\n",
      "Test loss     : 0.39353758096694946\n",
      "Test accuracy : 0.774193525314331\n"
     ]
    }
   ],
   "source": [
    "# Untuk melakukan evaluasi model menggunakan data validation dan training model sebelumnya\n",
    "test_loss1, test_accuracy1 = model1.evaluate(x_test, y_test)\n",
    "print(\"Model 1\")\n",
    "print(f\"Test loss     : \" + str(test_loss1))\n",
    "print(f\"Test accuracy : \" + str(test_accuracy1))"
   ]
  },
  {
   "cell_type": "markdown",
   "metadata": {},
   "source": [
    "Setelah mencoba memprediksi menggunakan model1 dan data testing, diperoleh nilai test accuracy nya sebesar 0.77 dan nilai test loss nya sebesar 0.39. Hal ini berarti model cukup baik dalam memprediksi, tetapi masih bisa ditingkatkan lagi performanya."
   ]
  },
  {
   "cell_type": "markdown",
   "metadata": {},
   "source": [
    "### Percobaan ke-2 "
   ]
  },
  {
   "cell_type": "code",
   "execution_count": 921,
   "metadata": {},
   "outputs": [],
   "source": [
    "# Untuk membuat architecture\n",
    "model2 = Sequential()\n",
    "\n",
    "# Untuk membuat input layer\n",
    "model2.add(Dense(units = 12, activation = 'relu', input_shape = (x_train.shape[1],)))\n",
    "\n",
    "# Untuk membuat hidden layer\n",
    "model2.add(Dense(units = 512, activation = 'relu'))\n",
    "model2.add(Dense(units = 256, activation = 'relu'))\n",
    "model2.add(Dense(units = 128, activation = 'relu'))\n",
    "model2.add(Dense(units = 64, activation = 'relu'))\n",
    "model2.add(Dense(units = 32, activation = 'relu'))\n",
    "model2.add(Dense(units = 16, activation = 'relu'))\n",
    "\n",
    "# Untuk membuat output layer\n",
    "model2.add(Dense(units = 1, activation = 'sigmoid'))"
   ]
  },
  {
   "cell_type": "markdown",
   "metadata": {},
   "source": [
    "Pada input layer, model menggunakan 12 unit neuron sesuai dengan jumlah fitur atau variabel pada dataset dengan activation function ReLU.\n",
    "\n",
    "Pada hidden layer, model atau layer pertama menggunakan 512 unit neuron, kemudian layer kedua menggunakan 256 unit neuron, dan layer berikutnya menggunakan n/2 unit neuron hingga layer terakhir menggunakan 16 unit neuron dengan activation function ReLU.\n",
    "\n",
    "Alasan saya memakai activation function relu pada input dan hidden layer adalah karena ReLU memiliki performa yang lebih cepat daripada sigmoid.\n",
    "\n",
    "Perbedaan model1 dan model2 adalah saya menambahkan 1 hidden layer dengan jumlah neuron 16 unit.\n",
    "\n",
    "Pada output layer, model menggunakan 1 unit neuron dengan activation function sigmoid sesuai dengan task dari dataset ini, yaitu binary classification.\n"
   ]
  },
  {
   "cell_type": "code",
   "execution_count": 922,
   "metadata": {},
   "outputs": [],
   "source": [
    "from keras.optimizers import RMSprop"
   ]
  },
  {
   "cell_type": "code",
   "execution_count": 923,
   "metadata": {},
   "outputs": [],
   "source": [
    "# Untuk mengatur parameter pada optimizer RMSProp\n",
    "optimizer = RMSprop(learning_rate = 0.001)"
   ]
  },
  {
   "cell_type": "markdown",
   "metadata": {},
   "source": [
    "Disini saya menggunakan optimizer RMSprop yang mana saya sudah mencoba untuk mengganti learning rate nya berkali-kali. Namun, diperoleh hasil yang paling baik yang menggunakan nilai defaultnya, yaitu 0.001."
   ]
  },
  {
   "cell_type": "code",
   "execution_count": 924,
   "metadata": {},
   "outputs": [],
   "source": [
    "# Untuk mengcompile model\n",
    "model2.compile(optimizer = optimizer,\n",
    "              loss = 'binary_crossentropy',\n",
    "              metrics = ['accuracy'])"
   ]
  },
  {
   "cell_type": "markdown",
   "metadata": {},
   "source": [
    "Parameter yang digunakan pada saat mengompile model2 antara lain adalah optimizer \"RMSprop\" dengan learning rate 0.001 untuk mencoba memberikan gradient yang lebih baik selama pelatihan, kemudian loss \"BinaryCrossentropy\" karena ada dua kelas pada variabel \"Target\" dimana labelnya bukan merupakan One Hot dan mengikuti activation function sigmoid, serta yang terakhir metrics \"Accuracy\" untuk menampilkan accuracy yang diperoleh."
   ]
  },
  {
   "cell_type": "code",
   "execution_count": 925,
   "metadata": {},
   "outputs": [],
   "source": [
    "from tensorflow.keras.callbacks import EarlyStopping"
   ]
  },
  {
   "cell_type": "code",
   "execution_count": 926,
   "metadata": {},
   "outputs": [],
   "source": [
    "# Untuk menginisialisasi callback\n",
    "callback_es = EarlyStopping(monitor = 'val_loss',\n",
    "                         patience = 5)"
   ]
  },
  {
   "cell_type": "markdown",
   "metadata": {},
   "source": [
    "Model akan melakukan early stopping apabila nilai val loss tidak mengalami peningkatan setelah 5 epoch. "
   ]
  },
  {
   "cell_type": "code",
   "execution_count": 927,
   "metadata": {},
   "outputs": [
    {
     "name": "stdout",
     "output_type": "stream",
     "text": [
      "Epoch 1/50\n",
      "8/8 [==============================] - 1s 33ms/step - loss: 1.4157 - accuracy: 0.5806 - val_loss: 0.5457 - val_accuracy: 0.7097\n",
      "Epoch 2/50\n",
      "8/8 [==============================] - 0s 9ms/step - loss: 0.5538 - accuracy: 0.6935 - val_loss: 0.4570 - val_accuracy: 0.8065\n",
      "Epoch 3/50\n",
      "8/8 [==============================] - 0s 10ms/step - loss: 0.5565 - accuracy: 0.6411 - val_loss: 0.8382 - val_accuracy: 0.7097\n",
      "Epoch 4/50\n",
      "8/8 [==============================] - 0s 11ms/step - loss: 0.6149 - accuracy: 0.6452 - val_loss: 0.5122 - val_accuracy: 0.7097\n",
      "Epoch 5/50\n",
      "8/8 [==============================] - 0s 11ms/step - loss: 0.4639 - accuracy: 0.7097 - val_loss: 0.6849 - val_accuracy: 0.6774\n",
      "Epoch 6/50\n",
      "8/8 [==============================] - 0s 12ms/step - loss: 0.4687 - accuracy: 0.7702 - val_loss: 0.5382 - val_accuracy: 0.7097\n",
      "Epoch 7/50\n",
      "8/8 [==============================] - 0s 12ms/step - loss: 0.5058 - accuracy: 0.7540 - val_loss: 0.5243 - val_accuracy: 0.7742\n"
     ]
    }
   ],
   "source": [
    "# Untuk melakukan training model\n",
    "history2 = model2.fit(x_train, y_train,\n",
    "                    epochs = 50,\n",
    "                    batch_size = 32,\n",
    "                    callbacks = callback_es,\n",
    "                    validation_data = (x_val, y_val))"
   ]
  },
  {
   "cell_type": "markdown",
   "metadata": {},
   "source": [
    "Setelah ditrain sebanyak 50 epoch dan menggunakan 32 sampel data setiap batchnya, diperoleh hasil train accuracy nya sebesar 0.7540 dan val accuracy nya sebesar 0.7742. Sementara itu, diperoleh hasil train loss nya sebesar 0.5058 dan val loss nya sebesar 0.5243.\n",
    "\n",
    "Kedua nilai loss yang diperoleh memang memiliki perbedaan yang tidak terlalu signifikan, begitupula dengan kedua nilai accuracy. Model ini bisa dikatakan good fit, tetapi masih bida ditingkatkan lagi performa nya dengan menurunkan nilai loss dan meningkatkan nilai accuracy nya.\n"
   ]
  },
  {
   "cell_type": "code",
   "execution_count": 928,
   "metadata": {},
   "outputs": [
    {
     "name": "stdout",
     "output_type": "stream",
     "text": [
      "1/1 [==============================] - 0s 30ms/step - loss: 0.6108 - accuracy: 0.7742\n",
      "Model 2\n",
      "Test loss     : 0.6108383536338806\n",
      "Test accuracy : 0.774193525314331\n"
     ]
    }
   ],
   "source": [
    "# Untuk melakukan evaluasi model menggunakan data validation dan training model sebelumnya\n",
    "test_loss2, test_accuracy2 = model2.evaluate(x_test, y_test)\n",
    "print(\"Model 2\")\n",
    "print(f\"Test loss     : \" + str(test_loss2))\n",
    "print(f\"Test accuracy : \" + str(test_accuracy2))"
   ]
  },
  {
   "cell_type": "markdown",
   "metadata": {},
   "source": [
    "Setelah mencoba memprediksi menggunakan model2 dan data testing, diperoleh nilai test accuracy nya sebesar 0.77 dan nilai test loss nya sebesar 0.61. Hal ini berarti model masih kurang baik dalam memprediksi dan harus ditingkatkan lagi performanya dalam memprediksi."
   ]
  },
  {
   "cell_type": "markdown",
   "metadata": {},
   "source": [
    "### Percobaan ke-3"
   ]
  },
  {
   "cell_type": "code",
   "execution_count": 929,
   "metadata": {},
   "outputs": [],
   "source": [
    "# Untuk membuat architecture\n",
    "model3 = Sequential()\n",
    "\n",
    "# Untuk membuat input layer\n",
    "model3.add(Dense(units = 12, activation = 'relu', input_shape = (x_train.shape[1],)))\n",
    "\n",
    "# Untuk membuat hidden layer\n",
    "model3.add(Dense(units = 1024, activation = 'relu'))\n",
    "model3.add(Dense(units = 512, activation = 'relu'))\n",
    "model3.add(Dense(units = 256, activation = 'relu'))\n",
    "model3.add(Dense(units = 128, activation = 'relu'))\n",
    "model3.add(Dense(units = 64, activation = 'relu'))\n",
    "\n",
    "# Untuk membuat output layer\n",
    "model3.add(Dense(units = 1, activation = 'sigmoid'))"
   ]
  },
  {
   "cell_type": "markdown",
   "metadata": {},
   "source": [
    "Pada input layer, model menggunakan 12 unit neuron sesuai dengan jumlah fitur atau variabel pada dataset dengan activation function ReLU.\n",
    "\n",
    "Pada hidden layer, model atau layer pertama menggunakan 1024 unit neuron, kemudian layer kedua menggunakan 256 unit neuron, dan layer berikutnya menggunakan n/2 unit neuron hingga layer terakhir menggunakan 64 unit neuron dengan activation function ReLU.\n",
    "\n",
    "Alasan saya memakai activation function relu pada input dan hidden layer adalah karena ReLU memiliki performa yang lebih cepat daripada sigmoid.\n",
    "\n",
    "Perbedaan model ini dengan model sebelumnya adalah saya menambahkan 1 hidden layer dengan jumlah neuron 1024 unit.\n",
    "\n",
    "Pada output layer, model menggunakan 1 unit neuron dengan activation function sigmoid sesuai dengan task dari dataset ini, yaitu binary classification.\n"
   ]
  },
  {
   "cell_type": "code",
   "execution_count": 930,
   "metadata": {},
   "outputs": [],
   "source": [
    "# Untuk mengatur parameter pada optimizer Adam\n",
    "optimizer = Adam(learning_rate = 0.001)"
   ]
  },
  {
   "cell_type": "markdown",
   "metadata": {},
   "source": [
    "Disini saya menggunakan optimizer Adam yang mana saya sudah mencoba untuk mengganti learning rate nya berkali-kali. Namun, diperoleh hasil yang paling baik yang menggunakan nilai defaultnya, yaitu 0.001."
   ]
  },
  {
   "cell_type": "code",
   "execution_count": 931,
   "metadata": {},
   "outputs": [],
   "source": [
    "# Untuk mengcompile model\n",
    "model3.compile(optimizer = optimizer,\n",
    "              loss = 'binary_crossentropy',\n",
    "              metrics = ['accuracy'])"
   ]
  },
  {
   "cell_type": "markdown",
   "metadata": {},
   "source": [
    "Parameter yang digunakan pada saat mengompile model antara lain adalah optimizer \"Adam\" karena memberikan performa yang lebih baik, kemudian loss \"BinaryCrossentropy\" karena ada dua kelas pada variabel \"Target\" dimana labelnya bukan merupakan One Hot dan mengikuti activation function softmax, serta yang terakhir metrics \"Accuracy\" untuk menampilkan accuracy yang diperoleh."
   ]
  },
  {
   "cell_type": "code",
   "execution_count": 932,
   "metadata": {},
   "outputs": [],
   "source": [
    "# Library untuk menggunakan callback pada saat pelatihan model\n",
    "from tensorflow.keras.callbacks import ReduceLROnPlateau"
   ]
  },
  {
   "cell_type": "code",
   "execution_count": 933,
   "metadata": {},
   "outputs": [],
   "source": [
    "# Untuk menginisialisasi callback\n",
    "callback_lr = ReduceLROnPlateau(monitor ='val_loss',\n",
    "                                factor = 0.2,\n",
    "                                patience = 3,\n",
    "                                min_lr = 1e-6,\n",
    "                                verbose = 1)"
   ]
  },
  {
   "cell_type": "markdown",
   "metadata": {},
   "source": [
    "Model akan melakukan pengurangan nilai learning rate sebesar learning rate dikalikan 0.2 apabila nilai val loss tidak berubah setelah 3 epoch. Minimum nilai learning rate yang ditentukan adalah sebesar 1^e-6, jika learning rate telah sampai pada batas minimum maka learning rate tidak akan dikurangi."
   ]
  },
  {
   "cell_type": "code",
   "execution_count": 934,
   "metadata": {},
   "outputs": [
    {
     "name": "stdout",
     "output_type": "stream",
     "text": [
      "Epoch 1/50\n",
      "8/8 [==============================] - 2s 49ms/step - loss: 0.9408 - accuracy: 0.6008 - val_loss: 0.5034 - val_accuracy: 0.7097 - lr: 0.0010\n",
      "Epoch 2/50\n",
      "8/8 [==============================] - 0s 20ms/step - loss: 0.4536 - accuracy: 0.7702 - val_loss: 0.3462 - val_accuracy: 0.8387 - lr: 0.0010\n",
      "Epoch 3/50\n",
      "8/8 [==============================] - 0s 23ms/step - loss: 0.5322 - accuracy: 0.7258 - val_loss: 0.3698 - val_accuracy: 0.8387 - lr: 0.0010\n",
      "Epoch 4/50\n",
      "8/8 [==============================] - 0s 21ms/step - loss: 0.5139 - accuracy: 0.7137 - val_loss: 0.3686 - val_accuracy: 0.8065 - lr: 0.0010\n",
      "Epoch 5/50\n",
      "7/8 [=========================>....] - ETA: 0s - loss: 0.4823 - accuracy: 0.7455\n",
      "Epoch 5: ReduceLROnPlateau reducing learning rate to 0.00020000000949949026.\n",
      "8/8 [==============================] - 0s 23ms/step - loss: 0.4696 - accuracy: 0.7581 - val_loss: 0.4285 - val_accuracy: 0.7742 - lr: 0.0010\n",
      "Epoch 6/50\n",
      "8/8 [==============================] - 0s 23ms/step - loss: 0.4547 - accuracy: 0.7702 - val_loss: 0.3479 - val_accuracy: 0.7742 - lr: 2.0000e-04\n",
      "Epoch 7/50\n",
      "8/8 [==============================] - 0s 27ms/step - loss: 0.4069 - accuracy: 0.7540 - val_loss: 0.3542 - val_accuracy: 0.7742 - lr: 2.0000e-04\n",
      "Epoch 8/50\n",
      "8/8 [==============================] - 0s 21ms/step - loss: 0.3999 - accuracy: 0.7702 - val_loss: 0.3459 - val_accuracy: 0.8387 - lr: 2.0000e-04\n",
      "Epoch 9/50\n",
      "8/8 [==============================] - 0s 19ms/step - loss: 0.3958 - accuracy: 0.7984 - val_loss: 0.3443 - val_accuracy: 0.8065 - lr: 2.0000e-04\n",
      "Epoch 10/50\n",
      "8/8 [==============================] - 0s 22ms/step - loss: 0.3919 - accuracy: 0.7944 - val_loss: 0.3485 - val_accuracy: 0.8065 - lr: 2.0000e-04\n",
      "Epoch 11/50\n",
      "8/8 [==============================] - 0s 22ms/step - loss: 0.3939 - accuracy: 0.7863 - val_loss: 0.3528 - val_accuracy: 0.8065 - lr: 2.0000e-04\n",
      "Epoch 12/50\n",
      "5/8 [=================>............] - ETA: 0s - loss: 0.4071 - accuracy: 0.7625\n",
      "Epoch 12: ReduceLROnPlateau reducing learning rate to 4.0000001899898055e-05.\n",
      "8/8 [==============================] - 0s 20ms/step - loss: 0.3917 - accuracy: 0.7863 - val_loss: 0.3562 - val_accuracy: 0.7742 - lr: 2.0000e-04\n",
      "Epoch 13/50\n",
      "8/8 [==============================] - 0s 18ms/step - loss: 0.3888 - accuracy: 0.7823 - val_loss: 0.3545 - val_accuracy: 0.7742 - lr: 4.0000e-05\n",
      "Epoch 14/50\n",
      "8/8 [==============================] - 0s 18ms/step - loss: 0.3856 - accuracy: 0.7944 - val_loss: 0.3548 - val_accuracy: 0.8065 - lr: 4.0000e-05\n",
      "Epoch 15/50\n",
      "5/8 [=================>............] - ETA: 0s - loss: 0.3729 - accuracy: 0.7875\n",
      "Epoch 15: ReduceLROnPlateau reducing learning rate to 8.000000525498762e-06.\n",
      "8/8 [==============================] - 0s 20ms/step - loss: 0.3852 - accuracy: 0.7863 - val_loss: 0.3552 - val_accuracy: 0.8065 - lr: 4.0000e-05\n",
      "Epoch 16/50\n",
      "8/8 [==============================] - 0s 19ms/step - loss: 0.3846 - accuracy: 0.7863 - val_loss: 0.3551 - val_accuracy: 0.8065 - lr: 8.0000e-06\n",
      "Epoch 17/50\n",
      "8/8 [==============================] - 0s 18ms/step - loss: 0.3846 - accuracy: 0.7863 - val_loss: 0.3549 - val_accuracy: 0.8065 - lr: 8.0000e-06\n",
      "Epoch 18/50\n",
      "5/8 [=================>............] - ETA: 0s - loss: 0.3741 - accuracy: 0.8062\n",
      "Epoch 18: ReduceLROnPlateau reducing learning rate to 1.6000001778593287e-06.\n",
      "8/8 [==============================] - 0s 21ms/step - loss: 0.3843 - accuracy: 0.7903 - val_loss: 0.3550 - val_accuracy: 0.8065 - lr: 8.0000e-06\n",
      "Epoch 19/50\n",
      "8/8 [==============================] - 0s 19ms/step - loss: 0.3842 - accuracy: 0.7903 - val_loss: 0.3549 - val_accuracy: 0.8065 - lr: 1.6000e-06\n",
      "Epoch 20/50\n",
      "8/8 [==============================] - 0s 19ms/step - loss: 0.3842 - accuracy: 0.7944 - val_loss: 0.3549 - val_accuracy: 0.8065 - lr: 1.6000e-06\n",
      "Epoch 21/50\n",
      "5/8 [=================>............] - ETA: 0s - loss: 0.3765 - accuracy: 0.7750\n",
      "Epoch 21: ReduceLROnPlateau reducing learning rate to 1e-06.\n",
      "8/8 [==============================] - 0s 19ms/step - loss: 0.3842 - accuracy: 0.7944 - val_loss: 0.3549 - val_accuracy: 0.8065 - lr: 1.6000e-06\n",
      "Epoch 22/50\n",
      "8/8 [==============================] - 0s 18ms/step - loss: 0.3842 - accuracy: 0.7944 - val_loss: 0.3549 - val_accuracy: 0.8065 - lr: 1.0000e-06\n",
      "Epoch 23/50\n",
      "8/8 [==============================] - 0s 18ms/step - loss: 0.3842 - accuracy: 0.7903 - val_loss: 0.3549 - val_accuracy: 0.8065 - lr: 1.0000e-06\n",
      "Epoch 24/50\n",
      "8/8 [==============================] - 0s 18ms/step - loss: 0.3841 - accuracy: 0.7944 - val_loss: 0.3549 - val_accuracy: 0.8065 - lr: 1.0000e-06\n",
      "Epoch 25/50\n",
      "8/8 [==============================] - 0s 18ms/step - loss: 0.3841 - accuracy: 0.7944 - val_loss: 0.3549 - val_accuracy: 0.8065 - lr: 1.0000e-06\n",
      "Epoch 26/50\n",
      "8/8 [==============================] - 0s 18ms/step - loss: 0.3841 - accuracy: 0.7903 - val_loss: 0.3549 - val_accuracy: 0.8065 - lr: 1.0000e-06\n",
      "Epoch 27/50\n",
      "8/8 [==============================] - 0s 19ms/step - loss: 0.3842 - accuracy: 0.7903 - val_loss: 0.3549 - val_accuracy: 0.8065 - lr: 1.0000e-06\n",
      "Epoch 28/50\n",
      "8/8 [==============================] - 0s 18ms/step - loss: 0.3841 - accuracy: 0.7903 - val_loss: 0.3549 - val_accuracy: 0.8065 - lr: 1.0000e-06\n",
      "Epoch 29/50\n",
      "8/8 [==============================] - 0s 18ms/step - loss: 0.3841 - accuracy: 0.7944 - val_loss: 0.3549 - val_accuracy: 0.8065 - lr: 1.0000e-06\n",
      "Epoch 30/50\n",
      "8/8 [==============================] - 0s 18ms/step - loss: 0.3841 - accuracy: 0.7944 - val_loss: 0.3550 - val_accuracy: 0.8065 - lr: 1.0000e-06\n",
      "Epoch 31/50\n",
      "8/8 [==============================] - 0s 18ms/step - loss: 0.3841 - accuracy: 0.7903 - val_loss: 0.3550 - val_accuracy: 0.8065 - lr: 1.0000e-06\n",
      "Epoch 32/50\n",
      "8/8 [==============================] - 0s 18ms/step - loss: 0.3841 - accuracy: 0.7903 - val_loss: 0.3550 - val_accuracy: 0.8065 - lr: 1.0000e-06\n",
      "Epoch 33/50\n",
      "8/8 [==============================] - 0s 18ms/step - loss: 0.3841 - accuracy: 0.7944 - val_loss: 0.3550 - val_accuracy: 0.8065 - lr: 1.0000e-06\n",
      "Epoch 34/50\n",
      "8/8 [==============================] - 0s 18ms/step - loss: 0.3841 - accuracy: 0.7903 - val_loss: 0.3550 - val_accuracy: 0.8065 - lr: 1.0000e-06\n",
      "Epoch 35/50\n",
      "8/8 [==============================] - 0s 19ms/step - loss: 0.3841 - accuracy: 0.7903 - val_loss: 0.3550 - val_accuracy: 0.8065 - lr: 1.0000e-06\n",
      "Epoch 36/50\n",
      "8/8 [==============================] - 0s 18ms/step - loss: 0.3841 - accuracy: 0.7903 - val_loss: 0.3550 - val_accuracy: 0.8065 - lr: 1.0000e-06\n",
      "Epoch 37/50\n",
      "8/8 [==============================] - 0s 19ms/step - loss: 0.3840 - accuracy: 0.7944 - val_loss: 0.3550 - val_accuracy: 0.8065 - lr: 1.0000e-06\n",
      "Epoch 38/50\n",
      "8/8 [==============================] - 0s 18ms/step - loss: 0.3840 - accuracy: 0.7944 - val_loss: 0.3550 - val_accuracy: 0.8065 - lr: 1.0000e-06\n",
      "Epoch 39/50\n",
      "8/8 [==============================] - 0s 19ms/step - loss: 0.3840 - accuracy: 0.7944 - val_loss: 0.3550 - val_accuracy: 0.8065 - lr: 1.0000e-06\n",
      "Epoch 40/50\n",
      "8/8 [==============================] - 0s 26ms/step - loss: 0.3840 - accuracy: 0.7944 - val_loss: 0.3550 - val_accuracy: 0.8065 - lr: 1.0000e-06\n",
      "Epoch 41/50\n",
      "8/8 [==============================] - 0s 24ms/step - loss: 0.3840 - accuracy: 0.7944 - val_loss: 0.3550 - val_accuracy: 0.8065 - lr: 1.0000e-06\n",
      "Epoch 42/50\n",
      "8/8 [==============================] - 0s 20ms/step - loss: 0.3839 - accuracy: 0.7944 - val_loss: 0.3550 - val_accuracy: 0.8065 - lr: 1.0000e-06\n",
      "Epoch 43/50\n",
      "8/8 [==============================] - 0s 22ms/step - loss: 0.3840 - accuracy: 0.7903 - val_loss: 0.3550 - val_accuracy: 0.8065 - lr: 1.0000e-06\n",
      "Epoch 44/50\n",
      "8/8 [==============================] - 0s 21ms/step - loss: 0.3839 - accuracy: 0.7944 - val_loss: 0.3550 - val_accuracy: 0.8065 - lr: 1.0000e-06\n",
      "Epoch 45/50\n",
      "8/8 [==============================] - 0s 19ms/step - loss: 0.3839 - accuracy: 0.7944 - val_loss: 0.3550 - val_accuracy: 0.8065 - lr: 1.0000e-06\n",
      "Epoch 46/50\n",
      "8/8 [==============================] - 0s 18ms/step - loss: 0.3839 - accuracy: 0.7944 - val_loss: 0.3550 - val_accuracy: 0.8065 - lr: 1.0000e-06\n",
      "Epoch 47/50\n",
      "8/8 [==============================] - 0s 19ms/step - loss: 0.3839 - accuracy: 0.7944 - val_loss: 0.3551 - val_accuracy: 0.8065 - lr: 1.0000e-06\n",
      "Epoch 48/50\n",
      "8/8 [==============================] - 0s 20ms/step - loss: 0.3839 - accuracy: 0.7944 - val_loss: 0.3551 - val_accuracy: 0.8065 - lr: 1.0000e-06\n",
      "Epoch 49/50\n",
      "8/8 [==============================] - 0s 19ms/step - loss: 0.3839 - accuracy: 0.7944 - val_loss: 0.3551 - val_accuracy: 0.8065 - lr: 1.0000e-06\n",
      "Epoch 50/50\n",
      "8/8 [==============================] - 0s 18ms/step - loss: 0.3839 - accuracy: 0.7944 - val_loss: 0.3551 - val_accuracy: 0.8065 - lr: 1.0000e-06\n"
     ]
    }
   ],
   "source": [
    "# Untuk melakukan training model\n",
    "history3 = model3.fit(x_train, y_train,\n",
    "                    epochs = 50,\n",
    "                    batch_size = 32,\n",
    "                    callbacks = callback_lr,\n",
    "                    validation_data = (x_val, y_val))"
   ]
  },
  {
   "cell_type": "markdown",
   "metadata": {},
   "source": [
    "Setelah ditrain sebanyak 50 epoch dan menggunakan 32 sampel data setiap batchnya, diperoleh hasil train accuracy nya sebesar 0.7944 dan val accuracy nya sebesar 0.8065. Sementara itu, diperoleh hasil train loss nya sebesar 0.3829 dan val loss nya sebesar 0.3551.\n",
    "\n",
    "Kedua nilai loss yang diperoleh memang memiliki perbedaan yang tidak terlalu signifikan, begitupula dengan kedua nilai accuracy. Namun, nilai train loss lebih besar daripada val loss sehingga terdapat indikasi underfitting."
   ]
  },
  {
   "cell_type": "code",
   "execution_count": 935,
   "metadata": {},
   "outputs": [
    {
     "name": "stdout",
     "output_type": "stream",
     "text": [
      "1/1 [==============================] - 0s 27ms/step - loss: 0.4206 - accuracy: 0.7419\n",
      "Model 3\n",
      "Test loss     : 0.42064014077186584\n",
      "Test accuracy : 0.7419354915618896\n"
     ]
    }
   ],
   "source": [
    "# Untuk melakukan evaluasi model menggunakan data validation dan training model sebelumnya\n",
    "test_loss3, test_accuracy3 = model3.evaluate(x_test, y_test)\n",
    "print(\"Model 3\")\n",
    "print(f\"Test loss     : \" + str(test_loss3))\n",
    "print(f\"Test accuracy : \" + str(test_accuracy3))"
   ]
  },
  {
   "cell_type": "markdown",
   "metadata": {},
   "source": [
    "Setelah mencoba memprediksi menggunakan model3 dan data testing, diperoleh nilai test accuracy nya sebesar 0.74 dan nilai test loss nya sebesar 0.42. Hal ini berarti model cukup baik dalam memprediksi, tetapi masih bisa ditingkatkan lagi performanya dalam memprediksi."
   ]
  },
  {
   "cell_type": "markdown",
   "metadata": {},
   "source": [
    "### Percobaan ke-4"
   ]
  },
  {
   "cell_type": "code",
   "execution_count": 936,
   "metadata": {},
   "outputs": [],
   "source": [
    "# Untuk membuat architecture\n",
    "model4 = Sequential()\n",
    "\n",
    "# Untuk membuat input layer\n",
    "model4.add(Dense(units = 12, activation = 'relu', input_shape = (x_train.shape[1],)))\n",
    "\n",
    "# Untuk membuat hidden layer\n",
    "model4.add(Dense(units = 512, activation = 'relu'))\n",
    "model4.add(Dropout(0.5))\n",
    "model4.add(Dense(units = 256, activation = 'relu'))\n",
    "model4.add(Dropout(0.5))\n",
    "model4.add(Dense(units = 128, activation = 'relu'))\n",
    "model4.add(Dropout(0.5))\n",
    "model4.add(Dense(units = 64, activation = 'relu'))\n",
    "model4.add(Dropout(0.5))\n",
    "model4.add(Dense(units = 32, activation = 'relu'))\n",
    "\n",
    "# Untuk membuat output layer\n",
    "model4.add(Dense(units = 1, activation = 'sigmoid'))"
   ]
  },
  {
   "cell_type": "markdown",
   "metadata": {},
   "source": [
    "Pada input layer, model menggunakan 12 unit neuron sesuai dengan jumlah fitur atau variabel pada dataset dengan activation function ReLU.\n",
    "\n",
    "Pada hidden layer, model atau layer pertama menggunakan 512 unit neuron, kemudian layer kedua menggunakan 256 unit neuron, dan layer berikutnya menggunakan n/2 unit neuron hingga layer terakhir menggunakan 32 unit neuron dengan activation function ReLU. Lalu, saya juga menambahkan layer Dropout.\n",
    "\n",
    "Alasan saya memakai activation function relu pada input dan hidden layer adalah karena ReLU memiliki performa yang lebih cepat daripada sigmoid.\n",
    "\n",
    "Alasan saya menambahkan layer Dropout adalah karena selain dapat membantu mengurangi overfitting juga dapat membantu mengatasi underfitting dengan memberikan variasi selama pelatihan.\n",
    "\n",
    "Perbedaan model ini dengan model sebelumnya adalah saya menambahkan layer Dropout.\n",
    "\n",
    "Pada output layer, model menggunakan 1 unit neuron dengan activation function sigmoid sesuai dengan task dari dataset ini, yaitu binary classification.\n"
   ]
  },
  {
   "cell_type": "code",
   "execution_count": 937,
   "metadata": {},
   "outputs": [],
   "source": [
    "# Untuk mengatur parameter pada optimizer Adam\n",
    "optimizer = Adam(learning_rate = 0.001)"
   ]
  },
  {
   "cell_type": "markdown",
   "metadata": {},
   "source": [
    "Disini saya menggunakan optimizer Adam yang mana saya sudah mencoba untuk mengganti learning rate nya berkali-kali. Namun, diperoleh hasil yang paling baik yang menggunakan nilai defaultnya, yaitu 0.001."
   ]
  },
  {
   "cell_type": "code",
   "execution_count": 938,
   "metadata": {},
   "outputs": [],
   "source": [
    "# Untuk mengcompile model\n",
    "model4.compile(optimizer = optimizer,\n",
    "              loss = 'binary_crossentropy',\n",
    "              metrics = ['accuracy'])"
   ]
  },
  {
   "cell_type": "markdown",
   "metadata": {},
   "source": [
    "Parameter yang digunakan pada saat mengompile model antara lain adalah optimizer \"Adam\" karena memberikan performa yang lebih baik, kemudian loss \"BinaryCrossentropy\" karena ada dua kelas pada variabel \"Target\" dimana labelnya bukan merupakan One Hot dan mengikuti activation function softmax, serta yang terakhir metrics \"Accuracy\" untuk menampilkan accuracy yang diperoleh."
   ]
  },
  {
   "cell_type": "code",
   "execution_count": 940,
   "metadata": {},
   "outputs": [
    {
     "name": "stdout",
     "output_type": "stream",
     "text": [
      "Epoch 1/50\n",
      "8/8 [==============================] - 2s 40ms/step - loss: 2.4952 - accuracy: 0.5766 - val_loss: 0.5721 - val_accuracy: 0.8065\n",
      "Epoch 2/50\n",
      "8/8 [==============================] - 0s 11ms/step - loss: 1.6933 - accuracy: 0.6129 - val_loss: 0.5633 - val_accuracy: 0.7097\n",
      "Epoch 3/50\n",
      "8/8 [==============================] - 0s 10ms/step - loss: 1.3184 - accuracy: 0.5927 - val_loss: 0.5987 - val_accuracy: 0.6774\n",
      "Epoch 4/50\n",
      "8/8 [==============================] - 0s 9ms/step - loss: 1.1464 - accuracy: 0.6089 - val_loss: 0.6291 - val_accuracy: 0.7419\n",
      "Epoch 5/50\n",
      "8/8 [==============================] - 0s 9ms/step - loss: 0.8840 - accuracy: 0.6008 - val_loss: 0.6374 - val_accuracy: 0.6774\n",
      "Epoch 6/50\n",
      "8/8 [==============================] - 0s 14ms/step - loss: 0.9153 - accuracy: 0.6129 - val_loss: 0.5855 - val_accuracy: 0.7097\n",
      "Epoch 7/50\n",
      "8/8 [==============================] - 0s 16ms/step - loss: 0.8339 - accuracy: 0.6452 - val_loss: 0.5692 - val_accuracy: 0.6774\n",
      "Epoch 8/50\n",
      "8/8 [==============================] - 0s 11ms/step - loss: 0.8070 - accuracy: 0.6169 - val_loss: 0.5760 - val_accuracy: 0.5806\n",
      "Epoch 9/50\n",
      "8/8 [==============================] - 0s 11ms/step - loss: 0.6268 - accuracy: 0.6573 - val_loss: 0.5715 - val_accuracy: 0.6452\n",
      "Epoch 10/50\n",
      "8/8 [==============================] - 0s 11ms/step - loss: 0.6098 - accuracy: 0.6895 - val_loss: 0.5187 - val_accuracy: 0.6129\n",
      "Epoch 11/50\n",
      "8/8 [==============================] - 0s 10ms/step - loss: 0.5921 - accuracy: 0.6855 - val_loss: 0.4692 - val_accuracy: 0.6129\n",
      "Epoch 12/50\n",
      "8/8 [==============================] - 0s 9ms/step - loss: 0.6100 - accuracy: 0.6653 - val_loss: 0.4577 - val_accuracy: 0.7742\n",
      "Epoch 13/50\n",
      "8/8 [==============================] - 0s 15ms/step - loss: 0.6182 - accuracy: 0.6331 - val_loss: 0.4618 - val_accuracy: 0.7742\n",
      "Epoch 14/50\n",
      "8/8 [==============================] - 0s 9ms/step - loss: 0.5189 - accuracy: 0.7056 - val_loss: 0.4662 - val_accuracy: 0.8065\n",
      "Epoch 15/50\n",
      "8/8 [==============================] - 0s 12ms/step - loss: 0.5814 - accuracy: 0.6573 - val_loss: 0.4920 - val_accuracy: 0.8065\n",
      "Epoch 16/50\n",
      "8/8 [==============================] - 0s 14ms/step - loss: 0.5322 - accuracy: 0.7097 - val_loss: 0.5171 - val_accuracy: 0.7742\n",
      "Epoch 17/50\n",
      "8/8 [==============================] - 0s 13ms/step - loss: 0.5560 - accuracy: 0.6532 - val_loss: 0.5005 - val_accuracy: 0.7742\n",
      "Epoch 18/50\n",
      "8/8 [==============================] - 0s 12ms/step - loss: 0.5522 - accuracy: 0.6855 - val_loss: 0.4677 - val_accuracy: 0.7419\n",
      "Epoch 19/50\n",
      "8/8 [==============================] - 0s 9ms/step - loss: 0.5589 - accuracy: 0.6935 - val_loss: 0.4328 - val_accuracy: 0.7742\n",
      "Epoch 20/50\n",
      "8/8 [==============================] - 0s 10ms/step - loss: 0.5202 - accuracy: 0.7379 - val_loss: 0.4293 - val_accuracy: 0.8065\n",
      "Epoch 21/50\n",
      "8/8 [==============================] - 0s 11ms/step - loss: 0.5299 - accuracy: 0.7339 - val_loss: 0.4220 - val_accuracy: 0.8065\n",
      "Epoch 22/50\n",
      "8/8 [==============================] - 0s 10ms/step - loss: 0.5153 - accuracy: 0.7258 - val_loss: 0.4190 - val_accuracy: 0.8065\n",
      "Epoch 23/50\n",
      "8/8 [==============================] - 0s 12ms/step - loss: 0.4654 - accuracy: 0.7500 - val_loss: 0.4127 - val_accuracy: 0.8065\n",
      "Epoch 24/50\n",
      "8/8 [==============================] - 0s 11ms/step - loss: 0.5069 - accuracy: 0.7258 - val_loss: 0.4096 - val_accuracy: 0.8065\n",
      "Epoch 25/50\n",
      "8/8 [==============================] - 0s 9ms/step - loss: 0.4641 - accuracy: 0.7419 - val_loss: 0.4040 - val_accuracy: 0.7742\n",
      "Epoch 26/50\n",
      "8/8 [==============================] - 0s 9ms/step - loss: 0.4716 - accuracy: 0.7581 - val_loss: 0.3945 - val_accuracy: 0.8065\n",
      "Epoch 27/50\n",
      "8/8 [==============================] - 0s 10ms/step - loss: 0.4919 - accuracy: 0.7540 - val_loss: 0.3890 - val_accuracy: 0.8065\n",
      "Epoch 28/50\n",
      "8/8 [==============================] - 0s 9ms/step - loss: 0.4146 - accuracy: 0.7863 - val_loss: 0.3843 - val_accuracy: 0.8065\n",
      "Epoch 29/50\n",
      "8/8 [==============================] - 0s 12ms/step - loss: 0.4900 - accuracy: 0.7056 - val_loss: 0.3836 - val_accuracy: 0.8065\n",
      "Epoch 30/50\n",
      "8/8 [==============================] - 0s 15ms/step - loss: 0.4495 - accuracy: 0.7500 - val_loss: 0.3791 - val_accuracy: 0.8065\n",
      "Epoch 31/50\n",
      "8/8 [==============================] - 0s 12ms/step - loss: 0.4649 - accuracy: 0.7782 - val_loss: 0.3797 - val_accuracy: 0.8065\n",
      "Epoch 32/50\n",
      "8/8 [==============================] - 0s 11ms/step - loss: 0.4540 - accuracy: 0.7823 - val_loss: 0.3782 - val_accuracy: 0.8065\n",
      "Epoch 33/50\n",
      "8/8 [==============================] - 0s 9ms/step - loss: 0.4584 - accuracy: 0.7581 - val_loss: 0.3758 - val_accuracy: 0.8065\n",
      "Epoch 34/50\n",
      "8/8 [==============================] - 0s 10ms/step - loss: 0.4240 - accuracy: 0.7863 - val_loss: 0.3810 - val_accuracy: 0.7742\n",
      "Epoch 35/50\n",
      "8/8 [==============================] - 0s 10ms/step - loss: 0.4638 - accuracy: 0.7500 - val_loss: 0.3810 - val_accuracy: 0.7742\n",
      "Epoch 36/50\n",
      "8/8 [==============================] - 0s 11ms/step - loss: 0.4416 - accuracy: 0.7702 - val_loss: 0.3810 - val_accuracy: 0.8065\n",
      "Epoch 37/50\n",
      "8/8 [==============================] - 0s 19ms/step - loss: 0.4285 - accuracy: 0.7702 - val_loss: 0.3874 - val_accuracy: 0.7742\n",
      "Epoch 38/50\n",
      "8/8 [==============================] - 0s 12ms/step - loss: 0.4334 - accuracy: 0.7661 - val_loss: 0.3788 - val_accuracy: 0.8065\n",
      "Epoch 39/50\n",
      "8/8 [==============================] - 0s 11ms/step - loss: 0.4054 - accuracy: 0.7742 - val_loss: 0.3713 - val_accuracy: 0.8065\n",
      "Epoch 40/50\n",
      "8/8 [==============================] - 0s 14ms/step - loss: 0.4007 - accuracy: 0.7742 - val_loss: 0.3856 - val_accuracy: 0.8065\n",
      "Epoch 41/50\n",
      "8/8 [==============================] - 0s 11ms/step - loss: 0.3843 - accuracy: 0.7782 - val_loss: 0.3771 - val_accuracy: 0.8065\n",
      "Epoch 42/50\n",
      "8/8 [==============================] - 0s 11ms/step - loss: 0.4213 - accuracy: 0.7823 - val_loss: 0.3725 - val_accuracy: 0.8065\n",
      "Epoch 43/50\n",
      "8/8 [==============================] - 0s 12ms/step - loss: 0.3765 - accuracy: 0.8105 - val_loss: 0.3723 - val_accuracy: 0.8065\n",
      "Epoch 44/50\n",
      "8/8 [==============================] - 0s 12ms/step - loss: 0.3886 - accuracy: 0.8185 - val_loss: 0.3766 - val_accuracy: 0.8065\n",
      "Epoch 45/50\n",
      "8/8 [==============================] - 0s 10ms/step - loss: 0.4046 - accuracy: 0.7823 - val_loss: 0.3635 - val_accuracy: 0.8065\n",
      "Epoch 46/50\n",
      "8/8 [==============================] - 0s 11ms/step - loss: 0.4334 - accuracy: 0.7702 - val_loss: 0.3497 - val_accuracy: 0.8065\n",
      "Epoch 47/50\n",
      "8/8 [==============================] - 0s 11ms/step - loss: 0.3819 - accuracy: 0.7984 - val_loss: 0.3462 - val_accuracy: 0.8065\n",
      "Epoch 48/50\n",
      "8/8 [==============================] - 0s 10ms/step - loss: 0.3956 - accuracy: 0.7903 - val_loss: 0.3595 - val_accuracy: 0.8065\n",
      "Epoch 49/50\n",
      "8/8 [==============================] - 0s 10ms/step - loss: 0.4030 - accuracy: 0.7621 - val_loss: 0.3493 - val_accuracy: 0.8065\n",
      "Epoch 50/50\n",
      "8/8 [==============================] - 0s 9ms/step - loss: 0.4125 - accuracy: 0.7581 - val_loss: 0.3335 - val_accuracy: 0.8065\n"
     ]
    }
   ],
   "source": [
    "# Untuk melakukan training model\n",
    "history4 = model4.fit(x_train, y_train,\n",
    "                    epochs = 50,\n",
    "                    batch_size = 32,\n",
    "                    validation_data = (x_val, y_val))"
   ]
  },
  {
   "cell_type": "markdown",
   "metadata": {},
   "source": [
    "Setelah ditrain sebanyak 50 epoch dan menggunakan 32 sampel data setiap batchnya, diperoleh hasil train accuracy nya sebesar 0.7581 dan val accuracy nya sebesar 0.8065. Sementara itu, diperoleh hasil train loss nya sebesar 0.4125 dan val loss nya sebesar 0.3335.\n",
    "\n",
    "Kedua nilai loss yang diperoleh memang memiliki perbedaan yang tidak terlalu signifikan, begitupula dengan kedua nilai accuracy. Namun, nilai train loss lebih besar daripada val loss sehingga terdapat indikasi underfitting.\n"
   ]
  },
  {
   "cell_type": "code",
   "execution_count": 941,
   "metadata": {},
   "outputs": [
    {
     "name": "stdout",
     "output_type": "stream",
     "text": [
      "1/1 [==============================] - 0s 42ms/step - loss: 0.3489 - accuracy: 0.8065\n",
      "Model 4\n",
      "Test loss     : 0.34892040491104126\n",
      "Test accuracy : 0.8064516186714172\n"
     ]
    }
   ],
   "source": [
    "# Untuk melakukan evaluasi model menggunakan data validation dan training model sebelumnya\n",
    "test_loss4, test_accuracy4 = model4.evaluate(x_test, y_test)\n",
    "print(\"Model 4\")\n",
    "print(f\"Test loss     : \" + str(test_loss4))\n",
    "print(f\"Test accuracy : \" + str(test_accuracy4))"
   ]
  },
  {
   "cell_type": "markdown",
   "metadata": {},
   "source": [
    "Setelah mencoba memprediksi menggunakan model1 dan data testing, diperoleh nilai test accuracy nya sebesar 0.81 dan nilai test loss nya sebesar 0.4. Hal ini berarti model cukup baik dalam memprediksi, tetapi masih bisa ditingkatkan lagi performanya dalam memprediksi."
   ]
  },
  {
   "cell_type": "markdown",
   "metadata": {},
   "source": [
    "### Percobaan ke-5 "
   ]
  },
  {
   "cell_type": "code",
   "execution_count": 942,
   "metadata": {},
   "outputs": [],
   "source": [
    "# Untuk membuat architecture\n",
    "model5 = Sequential()\n",
    "\n",
    "# Untuk membuat input layer\n",
    "model5.add(Dense(units = 12, activation = 'sigmoid', input_shape = (x_train.shape[1],)))\n",
    "\n",
    "# Untuk membuat hidden layer\n",
    "model5.add(Dense(units = 512, activation = 'relu'))\n",
    "model5.add(Dense(units = 256, activation = 'relu'))\n",
    "model5.add(Dense(units = 128, activation = 'relu'))\n",
    "model5.add(Dropout(0.5))\n",
    "model5.add(Dense(units = 64, activation = 'relu'))\n",
    "model5.add(Dropout(0.5))\n",
    "model5.add(Dense(units = 64, activation = 'relu'))\n",
    "model5.add(Dropout(0.5))\n",
    "\n",
    "# Untuk membuat output layer\n",
    "model5.add(Dense(units = 2, activation = 'softmax'))"
   ]
  },
  {
   "cell_type": "markdown",
   "metadata": {},
   "source": [
    "Pada input layer, model menggunakan 12 unit neuron sesuai dengan jumlah fitur atau variabel pada dataset dengan activation function sigmoid.\n",
    "\n",
    "Pada hidden layer, model atau layer pertama menggunakan 512 unit neuron, kemudian layer kedua menggunakan 256 unit neuron, dan layer berikutnya menggunakan n/2 unit neuron hingga layer terakhir menggunakan 64 unit neuron dengan activation function ReLU. Lalu saya juga menambahkan layer Dropout.\n",
    "\n",
    "Alasan saya memakai activation function ReLU pada input dan hidden layer adalah karena ReLU memiliki performa yang lebih cepat daripada sigmoid.\n",
    "\n",
    "Alasan saya menambahkan layer Dropout adalah karena selain dapat membantu mengurangi overfitting juga dapat membantu mengatasi underfitting dengan memberikan variasi selama pelatihan.\n",
    "\n",
    "Pada output layer, model menggunakan 2 unit neuron dengan activation function softmax.\n"
   ]
  },
  {
   "cell_type": "code",
   "execution_count": 943,
   "metadata": {},
   "outputs": [],
   "source": [
    "# Untuk mengatur parameter pada optimizer SGD\n",
    "optimizer = Adam(learning_rate = 0.001)"
   ]
  },
  {
   "cell_type": "markdown",
   "metadata": {},
   "source": [
    "Disini saya menggunakan optimizer Adam yang mana saya sudah mencoba untuk mengganti learning rate nya berkali-kali. Namun, diperoleh hasil yang paling baik yang menggunakan nilai defaultnya,  yaitu 0.001."
   ]
  },
  {
   "cell_type": "code",
   "execution_count": 944,
   "metadata": {},
   "outputs": [],
   "source": [
    "# Untuk mengcompile model\n",
    "model5.compile(optimizer = optimizer,\n",
    "              loss = 'sparse_categorical_crossentropy',\n",
    "              metrics = ['accuracy'])"
   ]
  },
  {
   "cell_type": "markdown",
   "metadata": {},
   "source": [
    "Parameter yang digunakan pada saat mengompile model antara lain adalah optimizer \"Adam\" karena memberikan performa yang lebih baik, kemudian loss \"SparseCategoricalCrossentropy\" karena ada dua kelas pada variabel \"Target\" dimana labelnya bukan merupakan One Hot dan mengikuti activation function softmax, serta yang terakhir metrics \"Accuracy\" untuk menampilkan accuracy yang diperoleh."
   ]
  },
  {
   "cell_type": "code",
   "execution_count": 945,
   "metadata": {},
   "outputs": [],
   "source": [
    "# Untuk menginisialisasi callback\n",
    "callback_lr = ReduceLROnPlateau(monitor ='val_loss',\n",
    "                                factor = 0.2,\n",
    "                                patience = 3,\n",
    "                                min_lr = 1e-6,\n",
    "                                verbose = 1)"
   ]
  },
  {
   "cell_type": "markdown",
   "metadata": {},
   "source": [
    "Model akan melakukan pengurangan nilai learning rate sebesar learning rate dikalikan 0.2 apabila nilai val loss tidak berubah setelah 3 epoch. Minimum nilai learning rate yang ditentukan adalah sebesar 1^e-6, jika learning rate telah sampai pada batas minimum maka learning rate tidak akan dikurangi."
   ]
  },
  {
   "cell_type": "code",
   "execution_count": 946,
   "metadata": {},
   "outputs": [
    {
     "name": "stdout",
     "output_type": "stream",
     "text": [
      "Epoch 1/50\n",
      "4/4 [==============================] - 1s 73ms/step - loss: 0.6924 - accuracy: 0.5444 - val_loss: 0.6354 - val_accuracy: 0.7097 - lr: 0.0010\n",
      "Epoch 2/50\n",
      "4/4 [==============================] - 0s 15ms/step - loss: 0.6560 - accuracy: 0.6169 - val_loss: 0.5861 - val_accuracy: 0.7097 - lr: 0.0010\n",
      "Epoch 3/50\n",
      "4/4 [==============================] - 0s 18ms/step - loss: 0.6180 - accuracy: 0.6573 - val_loss: 0.5611 - val_accuracy: 0.7097 - lr: 0.0010\n",
      "Epoch 4/50\n",
      "4/4 [==============================] - 0s 16ms/step - loss: 0.6024 - accuracy: 0.6855 - val_loss: 0.5382 - val_accuracy: 0.7097 - lr: 0.0010\n",
      "Epoch 5/50\n",
      "4/4 [==============================] - 0s 16ms/step - loss: 0.5966 - accuracy: 0.6613 - val_loss: 0.5062 - val_accuracy: 0.7097 - lr: 0.0010\n",
      "Epoch 6/50\n",
      "4/4 [==============================] - 0s 18ms/step - loss: 0.5304 - accuracy: 0.6815 - val_loss: 0.4751 - val_accuracy: 0.7097 - lr: 0.0010\n",
      "Epoch 7/50\n",
      "4/4 [==============================] - 0s 20ms/step - loss: 0.5013 - accuracy: 0.6976 - val_loss: 0.4693 - val_accuracy: 0.7097 - lr: 0.0010\n",
      "Epoch 8/50\n",
      "4/4 [==============================] - 0s 17ms/step - loss: 0.4934 - accuracy: 0.6774 - val_loss: 0.4553 - val_accuracy: 0.7097 - lr: 0.0010\n",
      "Epoch 9/50\n",
      "4/4 [==============================] - 0s 15ms/step - loss: 0.4912 - accuracy: 0.6855 - val_loss: 0.4531 - val_accuracy: 0.7097 - lr: 0.0010\n",
      "Epoch 10/50\n",
      "4/4 [==============================] - 0s 20ms/step - loss: 0.4910 - accuracy: 0.6935 - val_loss: 0.4432 - val_accuracy: 0.7097 - lr: 0.0010\n",
      "Epoch 11/50\n",
      "4/4 [==============================] - 0s 17ms/step - loss: 0.4631 - accuracy: 0.7056 - val_loss: 0.4550 - val_accuracy: 0.6774 - lr: 0.0010\n",
      "Epoch 12/50\n",
      "4/4 [==============================] - 0s 35ms/step - loss: 0.4563 - accuracy: 0.7056 - val_loss: 0.4744 - val_accuracy: 0.7097 - lr: 0.0010\n",
      "Epoch 13/50\n",
      "1/4 [======>.......................] - ETA: 0s - loss: 0.3635 - accuracy: 0.8125\n",
      "Epoch 13: ReduceLROnPlateau reducing learning rate to 0.00020000000949949026.\n",
      "4/4 [==============================] - 0s 16ms/step - loss: 0.4815 - accuracy: 0.6895 - val_loss: 0.4560 - val_accuracy: 0.7097 - lr: 0.0010\n",
      "Epoch 14/50\n",
      "4/4 [==============================] - 0s 17ms/step - loss: 0.4653 - accuracy: 0.7056 - val_loss: 0.4512 - val_accuracy: 0.7419 - lr: 2.0000e-04\n",
      "Epoch 15/50\n",
      "4/4 [==============================] - 0s 19ms/step - loss: 0.4453 - accuracy: 0.7097 - val_loss: 0.4542 - val_accuracy: 0.7097 - lr: 2.0000e-04\n",
      "Epoch 16/50\n",
      "1/4 [======>.......................] - ETA: 0s - loss: 0.5418 - accuracy: 0.6094\n",
      "Epoch 16: ReduceLROnPlateau reducing learning rate to 4.0000001899898055e-05.\n",
      "4/4 [==============================] - 0s 16ms/step - loss: 0.4822 - accuracy: 0.6774 - val_loss: 0.4589 - val_accuracy: 0.7097 - lr: 2.0000e-04\n",
      "Epoch 17/50\n",
      "4/4 [==============================] - 0s 17ms/step - loss: 0.4652 - accuracy: 0.7298 - val_loss: 0.4593 - val_accuracy: 0.7097 - lr: 4.0000e-05\n",
      "Epoch 18/50\n",
      "4/4 [==============================] - 0s 15ms/step - loss: 0.4634 - accuracy: 0.7056 - val_loss: 0.4597 - val_accuracy: 0.7097 - lr: 4.0000e-05\n",
      "Epoch 19/50\n",
      "1/4 [======>.......................] - ETA: 0s - loss: 0.4694 - accuracy: 0.7500\n",
      "Epoch 19: ReduceLROnPlateau reducing learning rate to 8.000000525498762e-06.\n",
      "4/4 [==============================] - 0s 17ms/step - loss: 0.4653 - accuracy: 0.7016 - val_loss: 0.4614 - val_accuracy: 0.7097 - lr: 4.0000e-05\n",
      "Epoch 20/50\n",
      "4/4 [==============================] - 0s 16ms/step - loss: 0.4786 - accuracy: 0.6895 - val_loss: 0.4615 - val_accuracy: 0.7097 - lr: 8.0000e-06\n",
      "Epoch 21/50\n",
      "4/4 [==============================] - 0s 16ms/step - loss: 0.4612 - accuracy: 0.6935 - val_loss: 0.4619 - val_accuracy: 0.7097 - lr: 8.0000e-06\n",
      "Epoch 22/50\n",
      "1/4 [======>.......................] - ETA: 0s - loss: 0.3721 - accuracy: 0.7969\n",
      "Epoch 22: ReduceLROnPlateau reducing learning rate to 1.6000001778593287e-06.\n",
      "4/4 [==============================] - 0s 20ms/step - loss: 0.4828 - accuracy: 0.7056 - val_loss: 0.4623 - val_accuracy: 0.7097 - lr: 8.0000e-06\n",
      "Epoch 23/50\n",
      "4/4 [==============================] - 0s 20ms/step - loss: 0.4823 - accuracy: 0.6855 - val_loss: 0.4623 - val_accuracy: 0.7097 - lr: 1.6000e-06\n",
      "Epoch 24/50\n",
      "4/4 [==============================] - 0s 19ms/step - loss: 0.4725 - accuracy: 0.7258 - val_loss: 0.4623 - val_accuracy: 0.7097 - lr: 1.6000e-06\n",
      "Epoch 25/50\n",
      "1/4 [======>.......................] - ETA: 0s - loss: 0.4060 - accuracy: 0.7500\n",
      "Epoch 25: ReduceLROnPlateau reducing learning rate to 1e-06.\n",
      "4/4 [==============================] - 0s 21ms/step - loss: 0.4479 - accuracy: 0.7339 - val_loss: 0.4624 - val_accuracy: 0.7097 - lr: 1.6000e-06\n",
      "Epoch 26/50\n",
      "4/4 [==============================] - 0s 16ms/step - loss: 0.4644 - accuracy: 0.7500 - val_loss: 0.4624 - val_accuracy: 0.7097 - lr: 1.0000e-06\n",
      "Epoch 27/50\n",
      "4/4 [==============================] - 0s 16ms/step - loss: 0.4770 - accuracy: 0.7177 - val_loss: 0.4624 - val_accuracy: 0.7097 - lr: 1.0000e-06\n",
      "Epoch 28/50\n",
      "4/4 [==============================] - 0s 18ms/step - loss: 0.4710 - accuracy: 0.7581 - val_loss: 0.4623 - val_accuracy: 0.7097 - lr: 1.0000e-06\n",
      "Epoch 29/50\n",
      "4/4 [==============================] - 0s 17ms/step - loss: 0.4665 - accuracy: 0.7258 - val_loss: 0.4623 - val_accuracy: 0.7097 - lr: 1.0000e-06\n",
      "Epoch 30/50\n",
      "4/4 [==============================] - 0s 18ms/step - loss: 0.4503 - accuracy: 0.7500 - val_loss: 0.4623 - val_accuracy: 0.7097 - lr: 1.0000e-06\n",
      "Epoch 31/50\n",
      "4/4 [==============================] - 0s 17ms/step - loss: 0.4329 - accuracy: 0.7298 - val_loss: 0.4623 - val_accuracy: 0.7097 - lr: 1.0000e-06\n",
      "Epoch 32/50\n",
      "4/4 [==============================] - 0s 16ms/step - loss: 0.4626 - accuracy: 0.7097 - val_loss: 0.4624 - val_accuracy: 0.7097 - lr: 1.0000e-06\n",
      "Epoch 33/50\n",
      "4/4 [==============================] - 0s 16ms/step - loss: 0.4606 - accuracy: 0.7258 - val_loss: 0.4624 - val_accuracy: 0.7097 - lr: 1.0000e-06\n",
      "Epoch 34/50\n",
      "4/4 [==============================] - 0s 17ms/step - loss: 0.4605 - accuracy: 0.7016 - val_loss: 0.4625 - val_accuracy: 0.7097 - lr: 1.0000e-06\n",
      "Epoch 35/50\n",
      "4/4 [==============================] - 0s 18ms/step - loss: 0.4582 - accuracy: 0.7016 - val_loss: 0.4625 - val_accuracy: 0.7097 - lr: 1.0000e-06\n",
      "Epoch 36/50\n",
      "4/4 [==============================] - 0s 17ms/step - loss: 0.4645 - accuracy: 0.7379 - val_loss: 0.4626 - val_accuracy: 0.7097 - lr: 1.0000e-06\n",
      "Epoch 37/50\n",
      "4/4 [==============================] - 0s 15ms/step - loss: 0.4620 - accuracy: 0.7137 - val_loss: 0.4626 - val_accuracy: 0.7097 - lr: 1.0000e-06\n",
      "Epoch 38/50\n",
      "4/4 [==============================] - 0s 15ms/step - loss: 0.4488 - accuracy: 0.7177 - val_loss: 0.4626 - val_accuracy: 0.7097 - lr: 1.0000e-06\n",
      "Epoch 39/50\n",
      "4/4 [==============================] - 0s 15ms/step - loss: 0.4623 - accuracy: 0.7137 - val_loss: 0.4627 - val_accuracy: 0.7097 - lr: 1.0000e-06\n",
      "Epoch 40/50\n",
      "4/4 [==============================] - 0s 17ms/step - loss: 0.4659 - accuracy: 0.6855 - val_loss: 0.4627 - val_accuracy: 0.7097 - lr: 1.0000e-06\n",
      "Epoch 41/50\n",
      "4/4 [==============================] - 0s 15ms/step - loss: 0.4684 - accuracy: 0.7218 - val_loss: 0.4627 - val_accuracy: 0.7097 - lr: 1.0000e-06\n",
      "Epoch 42/50\n",
      "4/4 [==============================] - 0s 19ms/step - loss: 0.4608 - accuracy: 0.7419 - val_loss: 0.4628 - val_accuracy: 0.7097 - lr: 1.0000e-06\n",
      "Epoch 43/50\n",
      "4/4 [==============================] - 0s 16ms/step - loss: 0.4491 - accuracy: 0.7177 - val_loss: 0.4628 - val_accuracy: 0.7097 - lr: 1.0000e-06\n",
      "Epoch 44/50\n",
      "4/4 [==============================] - 0s 15ms/step - loss: 0.4464 - accuracy: 0.7339 - val_loss: 0.4629 - val_accuracy: 0.7097 - lr: 1.0000e-06\n",
      "Epoch 45/50\n",
      "4/4 [==============================] - 0s 15ms/step - loss: 0.4735 - accuracy: 0.7016 - val_loss: 0.4629 - val_accuracy: 0.7097 - lr: 1.0000e-06\n",
      "Epoch 46/50\n",
      "4/4 [==============================] - 0s 14ms/step - loss: 0.4562 - accuracy: 0.7298 - val_loss: 0.4630 - val_accuracy: 0.7097 - lr: 1.0000e-06\n",
      "Epoch 47/50\n",
      "4/4 [==============================] - 0s 15ms/step - loss: 0.4521 - accuracy: 0.7621 - val_loss: 0.4630 - val_accuracy: 0.7097 - lr: 1.0000e-06\n",
      "Epoch 48/50\n",
      "4/4 [==============================] - 0s 16ms/step - loss: 0.4543 - accuracy: 0.6976 - val_loss: 0.4630 - val_accuracy: 0.7097 - lr: 1.0000e-06\n",
      "Epoch 49/50\n",
      "4/4 [==============================] - 0s 15ms/step - loss: 0.4606 - accuracy: 0.7500 - val_loss: 0.4631 - val_accuracy: 0.7097 - lr: 1.0000e-06\n",
      "Epoch 50/50\n",
      "4/4 [==============================] - 0s 15ms/step - loss: 0.4601 - accuracy: 0.7137 - val_loss: 0.4631 - val_accuracy: 0.7097 - lr: 1.0000e-06\n"
     ]
    }
   ],
   "source": [
    "# Untuk melakukan training model\n",
    "history5 = model5.fit(x_train, y_train,\n",
    "                    epochs = 50,\n",
    "                    batch_size = 64,\n",
    "                    callbacks = callback_lr,\n",
    "                    validation_data = (x_val, y_val))"
   ]
  },
  {
   "cell_type": "markdown",
   "metadata": {},
   "source": [
    "Setelah ditrain sebanyak 50 epoch dan menggunakan 32 sampel data setiap batchnya, diperoleh hasil train accuracy nya sebesar 0.7137 dan val accuracy nya sebesar 0.7097. Sementara itu, diperoleh hasil train loss nya sebesar 0.4601 dan val loss nya sebesar 0.4631.\n",
    "\n",
    "Kedua nilai loss yang diperoleh memang memiliki perbedaan yang tidak terlalu signifikan, begitupula dengan kedua nilai accuracy. Model ini bisa dikatakan good fit, tetapi masih bida ditingkatkan lagi performa nya dengan menurunkan nilai loss dan meningkatkan nilai accuracy nya.\n"
   ]
  },
  {
   "cell_type": "code",
   "execution_count": 947,
   "metadata": {},
   "outputs": [
    {
     "name": "stdout",
     "output_type": "stream",
     "text": [
      "1/1 [==============================] - 0s 30ms/step - loss: 0.3372 - accuracy: 0.8065\n",
      "Model 5\n",
      "Test loss     : 0.33722907304763794\n",
      "Test accuracy : 0.8064516186714172\n"
     ]
    }
   ],
   "source": [
    "# Untuk melakukan evaluasi model menggunakan data validation dan training model sebelumnya\n",
    "test_loss5, test_accuracy5 = model5.evaluate(x_test, y_test)\n",
    "print(\"Model 5\")\n",
    "print(f\"Test loss     : \" + str(test_loss5))\n",
    "print(f\"Test accuracy : \" + str(test_accuracy5))"
   ]
  },
  {
   "cell_type": "markdown",
   "metadata": {},
   "source": [
    "Setelah mencoba memprediksi menggunakan model5 dan data testing, diperoleh nilai test accuracy nya sebesar 0.81 dan nilai test loss nya sebesar 0.34. Hal ini berarti model cukup baik dalam memprediksi, tetapi masih bisa ditingkatkan lagi performanya dalam memprediksi."
   ]
  },
  {
   "cell_type": "markdown",
   "metadata": {},
   "source": [
    "### Percobaan ke-6"
   ]
  },
  {
   "cell_type": "code",
   "execution_count": 948,
   "metadata": {},
   "outputs": [],
   "source": [
    "# Untuk membuat architecture\n",
    "model6 = Sequential()\n",
    "\n",
    "# Untuk membuat input layer\n",
    "model6.add(Dense(units = 12, activation = 'relu', input_shape = (x_train.shape[1],)))\n",
    "\n",
    "# Untuk membuat hidden layer\n",
    "model6.add(Dense(units = 512, activation = 'relu'))\n",
    "model6.add(Dropout(0.5))\n",
    "model6.add(Dense(units = 256, activation = 'relu'))\n",
    "model6.add(Dropout(0.5))\n",
    "model6.add(Dense(units = 128, activation = 'relu'))\n",
    "model6.add(Dropout(0.5))\n",
    "model6.add(Dense(units = 64, activation = 'relu'))\n",
    "model6.add(Dropout(0.5))\n",
    "\n",
    "# Untuk membuat output layer\n",
    "model6.add(Dense(units = 1, activation = 'sigmoid'))"
   ]
  },
  {
   "cell_type": "markdown",
   "metadata": {},
   "source": [
    "Pada input layer, model menggunakan 12 unit neuron sesuai dengan jumlah fitur atau variabel pada dataset dengan activation function ReLU.\n",
    "\n",
    "Pada hidden layer, model atau layer pertama menggunakan 512 unit neuron, kemudian layer kedua menggunakan 256 unit neuron, dan layer berikutnya menggunakan n/2 unit neuron hingga layer terakhir menggunakan 64 unit neuron dengan activation function ReLU. Lalu saya juga menambahkan layer Dropout.\n",
    "\n",
    "Alasan saya memakai activation function relu pada input dan hidden layer adalah karena ReLU memiliki performa yang lebih cepat daripada sigmoid.\n",
    "\n",
    "Alasan saya menambahkan layer Dropout adalah karena selain dapat membantu mengurangi overfitting juga dapat membantu mengatasi underfitting dengan memberikan variasi selama pelatihan.\n",
    "\n",
    "Pada output layer, model menggunakan 1 unit neuron dengan activation function sigmoid sesuai dengan task dari dataset ini, yaitu binary classification.\n"
   ]
  },
  {
   "cell_type": "code",
   "execution_count": 950,
   "metadata": {},
   "outputs": [],
   "source": [
    "# Untuk mengcompile model\n",
    "model6.compile(optimizer = 'adam',\n",
    "              loss = 'binary_crossentropy',\n",
    "              metrics = ['accuracy'])"
   ]
  },
  {
   "cell_type": "markdown",
   "metadata": {},
   "source": [
    "Disini saya menggunakan optimizer Adam yang mana saya sudah mencoba untuk mengganti learning rate nya berkali-kali. Namun, diperoleh hasil yang paling baik yang menggunakan nilai defaultnya,  yaitu 0.001."
   ]
  },
  {
   "cell_type": "code",
   "execution_count": 951,
   "metadata": {},
   "outputs": [],
   "source": [
    "# Untuk menginisialisasi callback\n",
    "callback_lr = ReduceLROnPlateau(monitor ='loss',\n",
    "                                factor = 0.2,\n",
    "                                patience = 5,\n",
    "                                min_lr = 1e-6,\n",
    "                                verbose = 1)"
   ]
  },
  {
   "cell_type": "markdown",
   "metadata": {},
   "source": [
    "Model akan melakukan pengurangan nilai learning rate sebesar learning rate dikalikan 0.2 apabila nilai train loss tidak berubah setelah 5 epoch. Minimum nilai learning rate yang ditentukan adalah sebesar 1^e-6, jika learning rate telah sampai pada batas minimum maka learning rate tidak akan dikurangi."
   ]
  },
  {
   "cell_type": "code",
   "execution_count": 952,
   "metadata": {},
   "outputs": [
    {
     "name": "stdout",
     "output_type": "stream",
     "text": [
      "Epoch 1/50\n",
      "8/8 [==============================] - 4s 440ms/step - loss: 1.8232 - accuracy: 0.5565 - val_loss: 0.5286 - val_accuracy: 0.7097 - lr: 0.0010\n",
      "Epoch 2/50\n",
      "8/8 [==============================] - 0s 12ms/step - loss: 1.3670 - accuracy: 0.5847 - val_loss: 0.5495 - val_accuracy: 0.7742 - lr: 0.0010\n",
      "Epoch 3/50\n",
      "8/8 [==============================] - 0s 12ms/step - loss: 1.0545 - accuracy: 0.5323 - val_loss: 0.5488 - val_accuracy: 0.8065 - lr: 0.0010\n",
      "Epoch 4/50\n",
      "8/8 [==============================] - 0s 12ms/step - loss: 0.8389 - accuracy: 0.5968 - val_loss: 0.5323 - val_accuracy: 0.7097 - lr: 0.0010\n",
      "Epoch 5/50\n",
      "8/8 [==============================] - 0s 18ms/step - loss: 0.7282 - accuracy: 0.6169 - val_loss: 0.5571 - val_accuracy: 0.7097 - lr: 0.0010\n",
      "Epoch 6/50\n",
      "8/8 [==============================] - 0s 13ms/step - loss: 0.7382 - accuracy: 0.6169 - val_loss: 0.5795 - val_accuracy: 0.7097 - lr: 0.0010\n",
      "Epoch 7/50\n",
      "8/8 [==============================] - 0s 10ms/step - loss: 0.6688 - accuracy: 0.6129 - val_loss: 0.5822 - val_accuracy: 0.7097 - lr: 0.0010\n",
      "Epoch 8/50\n",
      "8/8 [==============================] - 0s 12ms/step - loss: 0.6307 - accuracy: 0.6573 - val_loss: 0.5562 - val_accuracy: 0.7097 - lr: 0.0010\n",
      "Epoch 9/50\n",
      "8/8 [==============================] - 0s 10ms/step - loss: 0.6139 - accuracy: 0.6734 - val_loss: 0.5289 - val_accuracy: 0.7097 - lr: 0.0010\n",
      "Epoch 10/50\n",
      "8/8 [==============================] - 0s 10ms/step - loss: 0.6209 - accuracy: 0.6855 - val_loss: 0.5177 - val_accuracy: 0.7097 - lr: 0.0010\n",
      "Epoch 11/50\n",
      "8/8 [==============================] - 0s 10ms/step - loss: 0.6042 - accuracy: 0.6250 - val_loss: 0.5219 - val_accuracy: 0.7097 - lr: 0.0010\n",
      "Epoch 12/50\n",
      "8/8 [==============================] - 0s 10ms/step - loss: 0.6188 - accuracy: 0.6452 - val_loss: 0.5070 - val_accuracy: 0.7097 - lr: 0.0010\n",
      "Epoch 13/50\n",
      "8/8 [==============================] - 0s 11ms/step - loss: 0.5779 - accuracy: 0.6855 - val_loss: 0.5007 - val_accuracy: 0.7419 - lr: 0.0010\n",
      "Epoch 14/50\n",
      "8/8 [==============================] - 0s 11ms/step - loss: 0.6010 - accuracy: 0.6492 - val_loss: 0.4909 - val_accuracy: 0.8065 - lr: 0.0010\n",
      "Epoch 15/50\n",
      "8/8 [==============================] - 0s 11ms/step - loss: 0.5619 - accuracy: 0.6895 - val_loss: 0.4705 - val_accuracy: 0.7742 - lr: 0.0010\n",
      "Epoch 16/50\n",
      "8/8 [==============================] - 0s 11ms/step - loss: 0.5259 - accuracy: 0.7097 - val_loss: 0.4506 - val_accuracy: 0.8065 - lr: 0.0010\n",
      "Epoch 17/50\n",
      "8/8 [==============================] - 0s 12ms/step - loss: 0.5454 - accuracy: 0.6815 - val_loss: 0.4329 - val_accuracy: 0.7742 - lr: 0.0010\n",
      "Epoch 18/50\n",
      "8/8 [==============================] - 0s 10ms/step - loss: 0.5364 - accuracy: 0.6694 - val_loss: 0.4197 - val_accuracy: 0.8387 - lr: 0.0010\n",
      "Epoch 19/50\n",
      "8/8 [==============================] - 0s 13ms/step - loss: 0.5021 - accuracy: 0.7218 - val_loss: 0.4149 - val_accuracy: 0.8065 - lr: 0.0010\n",
      "Epoch 20/50\n",
      "8/8 [==============================] - 0s 10ms/step - loss: 0.5172 - accuracy: 0.7056 - val_loss: 0.4124 - val_accuracy: 0.8065 - lr: 0.0010\n",
      "Epoch 21/50\n",
      "8/8 [==============================] - 0s 10ms/step - loss: 0.4844 - accuracy: 0.6935 - val_loss: 0.4081 - val_accuracy: 0.8387 - lr: 0.0010\n",
      "Epoch 22/50\n",
      "8/8 [==============================] - 0s 11ms/step - loss: 0.4866 - accuracy: 0.6895 - val_loss: 0.4024 - val_accuracy: 0.8065 - lr: 0.0010\n",
      "Epoch 23/50\n",
      "8/8 [==============================] - 0s 12ms/step - loss: 0.5072 - accuracy: 0.6734 - val_loss: 0.3851 - val_accuracy: 0.8065 - lr: 0.0010\n",
      "Epoch 24/50\n",
      "8/8 [==============================] - 0s 10ms/step - loss: 0.4623 - accuracy: 0.7258 - val_loss: 0.3752 - val_accuracy: 0.8065 - lr: 0.0010\n",
      "Epoch 25/50\n",
      "8/8 [==============================] - 0s 9ms/step - loss: 0.4799 - accuracy: 0.7298 - val_loss: 0.3826 - val_accuracy: 0.7742 - lr: 0.0010\n",
      "Epoch 26/50\n",
      "8/8 [==============================] - 0s 9ms/step - loss: 0.4626 - accuracy: 0.7258 - val_loss: 0.3895 - val_accuracy: 0.7419 - lr: 0.0010\n",
      "Epoch 27/50\n",
      "8/8 [==============================] - 0s 9ms/step - loss: 0.5052 - accuracy: 0.7218 - val_loss: 0.3865 - val_accuracy: 0.7419 - lr: 0.0010\n",
      "Epoch 28/50\n",
      "8/8 [==============================] - 0s 9ms/step - loss: 0.4497 - accuracy: 0.7460 - val_loss: 0.3760 - val_accuracy: 0.7419 - lr: 0.0010\n",
      "Epoch 29/50\n",
      "8/8 [==============================] - 0s 15ms/step - loss: 0.4711 - accuracy: 0.7097 - val_loss: 0.3601 - val_accuracy: 0.7742 - lr: 0.0010\n",
      "Epoch 30/50\n",
      "8/8 [==============================] - 0s 9ms/step - loss: 0.4198 - accuracy: 0.7540 - val_loss: 0.3479 - val_accuracy: 0.7742 - lr: 0.0010\n",
      "Epoch 31/50\n",
      "8/8 [==============================] - 0s 9ms/step - loss: 0.4392 - accuracy: 0.8024 - val_loss: 0.3316 - val_accuracy: 0.7742 - lr: 0.0010\n",
      "Epoch 32/50\n",
      "8/8 [==============================] - 0s 11ms/step - loss: 0.4679 - accuracy: 0.7258 - val_loss: 0.3214 - val_accuracy: 0.8065 - lr: 0.0010\n",
      "Epoch 33/50\n",
      "8/8 [==============================] - 0s 9ms/step - loss: 0.4322 - accuracy: 0.7540 - val_loss: 0.3169 - val_accuracy: 0.8065 - lr: 0.0010\n",
      "Epoch 34/50\n",
      "8/8 [==============================] - 0s 10ms/step - loss: 0.4788 - accuracy: 0.7339 - val_loss: 0.3184 - val_accuracy: 0.8065 - lr: 0.0010\n",
      "Epoch 35/50\n",
      "1/8 [==>...........................] - ETA: 0s - loss: 0.4384 - accuracy: 0.7188\n",
      "Epoch 35: ReduceLROnPlateau reducing learning rate to 0.00020000000949949026.\n",
      "8/8 [==============================] - 0s 11ms/step - loss: 0.4460 - accuracy: 0.7419 - val_loss: 0.3243 - val_accuracy: 0.8065 - lr: 0.0010\n",
      "Epoch 36/50\n",
      "8/8 [==============================] - 0s 11ms/step - loss: 0.4295 - accuracy: 0.7702 - val_loss: 0.3236 - val_accuracy: 0.8065 - lr: 2.0000e-04\n",
      "Epoch 37/50\n",
      "8/8 [==============================] - 0s 9ms/step - loss: 0.4417 - accuracy: 0.7540 - val_loss: 0.3221 - val_accuracy: 0.8065 - lr: 2.0000e-04\n",
      "Epoch 38/50\n",
      "8/8 [==============================] - 0s 10ms/step - loss: 0.4016 - accuracy: 0.7742 - val_loss: 0.3210 - val_accuracy: 0.8387 - lr: 2.0000e-04\n",
      "Epoch 39/50\n",
      "8/8 [==============================] - 0s 9ms/step - loss: 0.4180 - accuracy: 0.7661 - val_loss: 0.3197 - val_accuracy: 0.8387 - lr: 2.0000e-04\n",
      "Epoch 40/50\n",
      "8/8 [==============================] - 0s 10ms/step - loss: 0.4188 - accuracy: 0.7984 - val_loss: 0.3185 - val_accuracy: 0.8387 - lr: 2.0000e-04\n",
      "Epoch 41/50\n",
      "8/8 [==============================] - 0s 10ms/step - loss: 0.4277 - accuracy: 0.7661 - val_loss: 0.3172 - val_accuracy: 0.8065 - lr: 2.0000e-04\n",
      "Epoch 42/50\n",
      "8/8 [==============================] - 0s 10ms/step - loss: 0.4141 - accuracy: 0.7944 - val_loss: 0.3159 - val_accuracy: 0.8065 - lr: 2.0000e-04\n",
      "Epoch 43/50\n",
      "1/8 [==>...........................] - ETA: 0s - loss: 0.3074 - accuracy: 0.8438\n",
      "Epoch 43: ReduceLROnPlateau reducing learning rate to 4.0000001899898055e-05.\n",
      "8/8 [==============================] - 0s 10ms/step - loss: 0.4260 - accuracy: 0.7540 - val_loss: 0.3136 - val_accuracy: 0.8387 - lr: 2.0000e-04\n",
      "Epoch 44/50\n",
      "8/8 [==============================] - 0s 9ms/step - loss: 0.4223 - accuracy: 0.7621 - val_loss: 0.3134 - val_accuracy: 0.8387 - lr: 4.0000e-05\n",
      "Epoch 45/50\n",
      "8/8 [==============================] - 0s 9ms/step - loss: 0.4105 - accuracy: 0.7702 - val_loss: 0.3131 - val_accuracy: 0.8387 - lr: 4.0000e-05\n",
      "Epoch 46/50\n",
      "8/8 [==============================] - 0s 9ms/step - loss: 0.4243 - accuracy: 0.7782 - val_loss: 0.3130 - val_accuracy: 0.8387 - lr: 4.0000e-05\n",
      "Epoch 47/50\n",
      "8/8 [==============================] - 0s 9ms/step - loss: 0.4172 - accuracy: 0.7823 - val_loss: 0.3131 - val_accuracy: 0.8387 - lr: 4.0000e-05\n",
      "Epoch 48/50\n",
      "1/8 [==>...........................] - ETA: 0s - loss: 0.3983 - accuracy: 0.6875\n",
      "Epoch 48: ReduceLROnPlateau reducing learning rate to 8.000000525498762e-06.\n",
      "8/8 [==============================] - 0s 9ms/step - loss: 0.4093 - accuracy: 0.7621 - val_loss: 0.3132 - val_accuracy: 0.8387 - lr: 4.0000e-05\n",
      "Epoch 49/50\n",
      "8/8 [==============================] - 0s 9ms/step - loss: 0.4011 - accuracy: 0.8024 - val_loss: 0.3132 - val_accuracy: 0.8387 - lr: 8.0000e-06\n",
      "Epoch 50/50\n",
      "8/8 [==============================] - 0s 9ms/step - loss: 0.4044 - accuracy: 0.7863 - val_loss: 0.3132 - val_accuracy: 0.8387 - lr: 8.0000e-06\n"
     ]
    }
   ],
   "source": [
    "# Untuk melakukan training model\n",
    "history6 = model6.fit(x_train, y_train,\n",
    "                    epochs = 50,\n",
    "                    batch_size = 32,\n",
    "                    callbacks = callback_lr,\n",
    "                    validation_data = (x_val, y_val))"
   ]
  },
  {
   "cell_type": "markdown",
   "metadata": {},
   "source": [
    "Setelah ditrain sebanyak 50 epoch dan menggunakan 32 sampel data setiap batchnya, diperoleh hasil train accuracy nya sebesar 0.7863 dan val accuracy nya sebesar 0.8387. Sementara itu, diperoleh hasil train loss nya sebesar 0.4044 dan val loss nya sebesar 0.3132.\n",
    "\n",
    "Kedua nilai loss yang diperoleh memang memiliki perbedaan yang tidak terlalu signifikan, begitupula dengan kedua nilai accuracy. Namun, nilai train loss lebih besar daripada val loss sehingga terdapat indikasi underfitting.\n"
   ]
  },
  {
   "cell_type": "code",
   "execution_count": 953,
   "metadata": {},
   "outputs": [
    {
     "name": "stdout",
     "output_type": "stream",
     "text": [
      "1/1 [==============================] - 0s 31ms/step - loss: 0.3810 - accuracy: 0.8065\n",
      "Model 6\n",
      "Test loss     : 0.3810182809829712\n",
      "Test accuracy : 0.8064516186714172\n"
     ]
    }
   ],
   "source": [
    "# Untuk melakukan evaluasi model menggunakan data validation dan training model sebelumnya\n",
    "test_loss6, test_accuracy6 = model6.evaluate(x_test, y_test)\n",
    "print(\"Model 6\")\n",
    "print(f\"Test loss     : \" + str(test_loss6))\n",
    "print(f\"Test accuracy : \" + str(test_accuracy6))"
   ]
  },
  {
   "cell_type": "markdown",
   "metadata": {},
   "source": [
    "Setelah mencoba memprediksi menggunakan model1 dan data testing, diperoleh nilai test accuracy nya sebesar 0.81 dan nilai test loss nya sebesar 0.38. Hal ini berarti model cukup baik dalam memprediksi, tetapi masih bisa ditingkatkan lagi performanya dalam memprediksi."
   ]
  },
  {
   "cell_type": "markdown",
   "metadata": {},
   "source": [
    "### Percobaan ke-7"
   ]
  },
  {
   "cell_type": "code",
   "execution_count": 954,
   "metadata": {},
   "outputs": [],
   "source": [
    "# Untuk membuat architecture\n",
    "model7 = Sequential()\n",
    "\n",
    "# Untuk membuat input layer\n",
    "model7.add(Dense(units = 12, activation = 'relu', input_shape = (x_train.shape[1],)))\n",
    "\n",
    "# Untuk membuat hidden layer\n",
    "model7.add(Dense(units = 1024, activation = 'relu'))\n",
    "model7.add(Dense(units = 512, activation = 'relu'))\n",
    "model7.add(Dense(units = 256, activation = 'relu'))\n",
    "model7.add(Dropout(0.5))\n",
    "model7.add(Dense(units = 128, activation = 'relu'))\n",
    "model7.add(Dropout(0.5))\n",
    "model7.add(Dense(units = 64, activation = 'relu'))\n",
    "model7.add(Dropout(0.5))\n",
    "\n",
    "# Untuk membuat output layer\n",
    "model7.add(Dense(units = 2, activation = 'softmax'))"
   ]
  },
  {
   "cell_type": "markdown",
   "metadata": {},
   "source": [
    "Pada input layer, model menggunakan 12 unit neuron sesuai dengan jumlah fitur atau variabel pada dataset dengan activation function ReLU.\n",
    "\n",
    "Pada hidden layer, model atau layer pertama menggunakan 1024 unit neuron, kemudian layer kedua menggunakan 512 unit neuron, dan layer berikutnya menggunakan n/2 unit neuron hingga layer terakhir menggunakan 64 unit neuron dengan activation function ReLU. Lalu saya juga menambahkan layer Dropout.\n",
    "\n",
    "Alasan saya memakai activation function relu pada input dan hidden layer adalah karena ReLU memiliki performa yang lebih cepat daripada sigmoid.\n",
    "\n",
    "Alasan saya menambahkan layer Dropout adalah karena selain dapat membantu mengurangi overfitting juga dapat membantu mengatasi underfitting dengan memberikan variasi selama pelatihan.\n",
    "\n",
    "Perbedaan model ini dengan model sebelumnya adalah saya menambahkan layer Dropout.\n",
    "\n",
    "Pada output layer, model menggunakan 2 unit neuron dengan activation function softmax.\n"
   ]
  },
  {
   "cell_type": "code",
   "execution_count": 955,
   "metadata": {},
   "outputs": [],
   "source": [
    "# Untuk mengatur parameter pada optimizer Adam\n",
    "optimizer = Adam(learning_rate = 0.001,\n",
    "                 weight_decay = 0.01)"
   ]
  },
  {
   "cell_type": "markdown",
   "metadata": {},
   "source": [
    "Disini saya menggunakan optimizer Adam yang mana saya sudah mencoba untuk mengganti learning rate nya berkali-kali. Namun, diperoleh hasil yang paling baik yang menggunakan nilai defaultnya,  yaitu 0.001. Selain itu, saya juga menambahkan weight decay sebesar 0.01 untuk menghindari overfitting."
   ]
  },
  {
   "cell_type": "code",
   "execution_count": 956,
   "metadata": {},
   "outputs": [],
   "source": [
    "# Untuk mengcompile model\n",
    "model7.compile(optimizer = optimizer,\n",
    "              loss = 'sparse_categorical_crossentropy',\n",
    "              metrics = ['accuracy'])"
   ]
  },
  {
   "cell_type": "markdown",
   "metadata": {},
   "source": [
    "Parameter yang digunakan pada saat mengompile model antara lain adalah optimizer \"Adam\" karena memberikan performa yang lebih baik, kemudian loss \"SparseCategoricalCrossentropy\" karena ada dua kelas pada variabel \"Target\" dimana labelnya bukan merupakan One Hot dan mengikuti activation function softmax, serta yang terakhir metrics \"Accuracy\" untuk menampilkan accuracy yang diperoleh."
   ]
  },
  {
   "cell_type": "code",
   "execution_count": 957,
   "metadata": {},
   "outputs": [],
   "source": [
    "# Untuk menginisialisasi callback\n",
    "callback_lr = ReduceLROnPlateau(monitor ='val_loss',\n",
    "                                factor = 0.2,\n",
    "                                patience = 5,\n",
    "                                min_lr = 1e-6,\n",
    "                                verbose = 1)"
   ]
  },
  {
   "cell_type": "markdown",
   "metadata": {},
   "source": [
    "Model akan melakukan pengurangan nilai learning rate sebesar learning rate dikalikan 0.2 apabila nilai val loss tidak berubah setelah 5 epoch. Minimum nilai learning rate yang ditentukan adalah sebesar 1^e-6, jika learning rate telah sampai pada batas minimum maka learning rate tidak akan dikurangi."
   ]
  },
  {
   "cell_type": "code",
   "execution_count": 958,
   "metadata": {},
   "outputs": [
    {
     "name": "stdout",
     "output_type": "stream",
     "text": [
      "Epoch 1/100\n",
      "8/8 [==============================] - 2s 44ms/step - loss: 1.8641 - accuracy: 0.6008 - val_loss: 0.4836 - val_accuracy: 0.7097 - lr: 0.0010\n",
      "Epoch 2/100\n",
      "8/8 [==============================] - 0s 21ms/step - loss: 1.8337 - accuracy: 0.5847 - val_loss: 0.3664 - val_accuracy: 0.7419 - lr: 0.0010\n",
      "Epoch 3/100\n",
      "8/8 [==============================] - 0s 36ms/step - loss: 1.2002 - accuracy: 0.6774 - val_loss: 0.3055 - val_accuracy: 0.7742 - lr: 0.0010\n",
      "Epoch 4/100\n",
      "8/8 [==============================] - 0s 22ms/step - loss: 0.6439 - accuracy: 0.7097 - val_loss: 0.3048 - val_accuracy: 0.8065 - lr: 0.0010\n",
      "Epoch 5/100\n",
      "8/8 [==============================] - 0s 25ms/step - loss: 0.5779 - accuracy: 0.6815 - val_loss: 0.3030 - val_accuracy: 0.8387 - lr: 0.0010\n",
      "Epoch 6/100\n",
      "8/8 [==============================] - 0s 23ms/step - loss: 0.5476 - accuracy: 0.7056 - val_loss: 0.3150 - val_accuracy: 0.8387 - lr: 0.0010\n",
      "Epoch 7/100\n",
      "8/8 [==============================] - 0s 21ms/step - loss: 0.4477 - accuracy: 0.7500 - val_loss: 0.3063 - val_accuracy: 0.8387 - lr: 0.0010\n",
      "Epoch 8/100\n",
      "8/8 [==============================] - 0s 25ms/step - loss: 0.5072 - accuracy: 0.7339 - val_loss: 0.3037 - val_accuracy: 0.8387 - lr: 0.0010\n",
      "Epoch 9/100\n",
      "8/8 [==============================] - 0s 22ms/step - loss: 0.4730 - accuracy: 0.7298 - val_loss: 0.3027 - val_accuracy: 0.8387 - lr: 0.0010\n",
      "Epoch 10/100\n",
      "8/8 [==============================] - 0s 21ms/step - loss: 0.4293 - accuracy: 0.7621 - val_loss: 0.3168 - val_accuracy: 0.8387 - lr: 0.0010\n",
      "Epoch 11/100\n",
      "8/8 [==============================] - 0s 22ms/step - loss: 0.4524 - accuracy: 0.7419 - val_loss: 0.3082 - val_accuracy: 0.8387 - lr: 0.0010\n",
      "Epoch 12/100\n",
      "8/8 [==============================] - 0s 20ms/step - loss: 0.4221 - accuracy: 0.7540 - val_loss: 0.3076 - val_accuracy: 0.7742 - lr: 0.0010\n",
      "Epoch 13/100\n",
      "8/8 [==============================] - 0s 21ms/step - loss: 0.4186 - accuracy: 0.7702 - val_loss: 0.3115 - val_accuracy: 0.7742 - lr: 0.0010\n",
      "Epoch 14/100\n",
      "8/8 [==============================] - ETA: 0s - loss: 0.3844 - accuracy: 0.8105\n",
      "Epoch 14: ReduceLROnPlateau reducing learning rate to 0.00020000000949949026.\n",
      "8/8 [==============================] - 0s 21ms/step - loss: 0.3844 - accuracy: 0.8105 - val_loss: 0.3131 - val_accuracy: 0.7742 - lr: 0.0010\n",
      "Epoch 15/100\n",
      "8/8 [==============================] - 0s 21ms/step - loss: 0.3592 - accuracy: 0.8226 - val_loss: 0.3146 - val_accuracy: 0.7742 - lr: 2.0000e-04\n",
      "Epoch 16/100\n",
      "8/8 [==============================] - 0s 24ms/step - loss: 0.4290 - accuracy: 0.7702 - val_loss: 0.3165 - val_accuracy: 0.7742 - lr: 2.0000e-04\n",
      "Epoch 17/100\n",
      "8/8 [==============================] - 0s 24ms/step - loss: 0.3935 - accuracy: 0.7984 - val_loss: 0.3172 - val_accuracy: 0.8065 - lr: 2.0000e-04\n",
      "Epoch 18/100\n",
      "8/8 [==============================] - 0s 24ms/step - loss: 0.3796 - accuracy: 0.7621 - val_loss: 0.3195 - val_accuracy: 0.8065 - lr: 2.0000e-04\n",
      "Epoch 19/100\n",
      "8/8 [==============================] - ETA: 0s - loss: 0.3394 - accuracy: 0.8105\n",
      "Epoch 19: ReduceLROnPlateau reducing learning rate to 4.0000001899898055e-05.\n",
      "8/8 [==============================] - 0s 21ms/step - loss: 0.3394 - accuracy: 0.8105 - val_loss: 0.3161 - val_accuracy: 0.8065 - lr: 2.0000e-04\n",
      "Epoch 20/100\n",
      "8/8 [==============================] - 0s 21ms/step - loss: 0.3507 - accuracy: 0.8145 - val_loss: 0.3156 - val_accuracy: 0.8065 - lr: 4.0000e-05\n",
      "Epoch 21/100\n",
      "8/8 [==============================] - 0s 21ms/step - loss: 0.4058 - accuracy: 0.7419 - val_loss: 0.3157 - val_accuracy: 0.8065 - lr: 4.0000e-05\n",
      "Epoch 22/100\n",
      "8/8 [==============================] - 0s 21ms/step - loss: 0.3855 - accuracy: 0.7903 - val_loss: 0.3159 - val_accuracy: 0.8065 - lr: 4.0000e-05\n",
      "Epoch 23/100\n",
      "8/8 [==============================] - 0s 21ms/step - loss: 0.3632 - accuracy: 0.8065 - val_loss: 0.3156 - val_accuracy: 0.8065 - lr: 4.0000e-05\n",
      "Epoch 24/100\n",
      "7/8 [=========================>....] - ETA: 0s - loss: 0.3758 - accuracy: 0.7902\n",
      "Epoch 24: ReduceLROnPlateau reducing learning rate to 8.000000525498762e-06.\n",
      "8/8 [==============================] - 0s 21ms/step - loss: 0.3744 - accuracy: 0.7823 - val_loss: 0.3155 - val_accuracy: 0.8065 - lr: 4.0000e-05\n",
      "Epoch 25/100\n",
      "8/8 [==============================] - 0s 22ms/step - loss: 0.3377 - accuracy: 0.7984 - val_loss: 0.3154 - val_accuracy: 0.8065 - lr: 8.0000e-06\n",
      "Epoch 26/100\n",
      "8/8 [==============================] - 0s 36ms/step - loss: 0.3722 - accuracy: 0.8065 - val_loss: 0.3154 - val_accuracy: 0.8065 - lr: 8.0000e-06\n",
      "Epoch 27/100\n",
      "8/8 [==============================] - 0s 24ms/step - loss: 0.3412 - accuracy: 0.8105 - val_loss: 0.3153 - val_accuracy: 0.8065 - lr: 8.0000e-06\n",
      "Epoch 28/100\n",
      "8/8 [==============================] - 0s 26ms/step - loss: 0.3576 - accuracy: 0.8145 - val_loss: 0.3153 - val_accuracy: 0.8065 - lr: 8.0000e-06\n",
      "Epoch 29/100\n",
      "7/8 [=========================>....] - ETA: 0s - loss: 0.3667 - accuracy: 0.8170\n",
      "Epoch 29: ReduceLROnPlateau reducing learning rate to 1.6000001778593287e-06.\n",
      "8/8 [==============================] - 0s 26ms/step - loss: 0.3575 - accuracy: 0.8105 - val_loss: 0.3154 - val_accuracy: 0.8065 - lr: 8.0000e-06\n",
      "Epoch 30/100\n",
      "8/8 [==============================] - 0s 23ms/step - loss: 0.3485 - accuracy: 0.8185 - val_loss: 0.3154 - val_accuracy: 0.8065 - lr: 1.6000e-06\n",
      "Epoch 31/100\n",
      "8/8 [==============================] - 0s 25ms/step - loss: 0.3522 - accuracy: 0.8105 - val_loss: 0.3153 - val_accuracy: 0.8065 - lr: 1.6000e-06\n",
      "Epoch 32/100\n",
      "8/8 [==============================] - 0s 22ms/step - loss: 0.3499 - accuracy: 0.8065 - val_loss: 0.3154 - val_accuracy: 0.8065 - lr: 1.6000e-06\n",
      "Epoch 33/100\n",
      "8/8 [==============================] - 0s 22ms/step - loss: 0.3294 - accuracy: 0.8185 - val_loss: 0.3153 - val_accuracy: 0.8065 - lr: 1.6000e-06\n",
      "Epoch 34/100\n",
      "7/8 [=========================>....] - ETA: 0s - loss: 0.3849 - accuracy: 0.7723\n",
      "Epoch 34: ReduceLROnPlateau reducing learning rate to 1e-06.\n",
      "8/8 [==============================] - 0s 25ms/step - loss: 0.3722 - accuracy: 0.7863 - val_loss: 0.3153 - val_accuracy: 0.8065 - lr: 1.6000e-06\n",
      "Epoch 35/100\n",
      "8/8 [==============================] - 0s 23ms/step - loss: 0.3475 - accuracy: 0.7984 - val_loss: 0.3153 - val_accuracy: 0.8065 - lr: 1.0000e-06\n",
      "Epoch 36/100\n",
      "8/8 [==============================] - 0s 28ms/step - loss: 0.3343 - accuracy: 0.7984 - val_loss: 0.3153 - val_accuracy: 0.8065 - lr: 1.0000e-06\n",
      "Epoch 37/100\n",
      "8/8 [==============================] - 0s 25ms/step - loss: 0.3696 - accuracy: 0.7944 - val_loss: 0.3153 - val_accuracy: 0.8065 - lr: 1.0000e-06\n",
      "Epoch 38/100\n",
      "8/8 [==============================] - 0s 21ms/step - loss: 0.3696 - accuracy: 0.7903 - val_loss: 0.3153 - val_accuracy: 0.8065 - lr: 1.0000e-06\n",
      "Epoch 39/100\n",
      "8/8 [==============================] - 0s 21ms/step - loss: 0.3586 - accuracy: 0.7903 - val_loss: 0.3153 - val_accuracy: 0.8065 - lr: 1.0000e-06\n",
      "Epoch 40/100\n",
      "8/8 [==============================] - 0s 35ms/step - loss: 0.3663 - accuracy: 0.8065 - val_loss: 0.3153 - val_accuracy: 0.8065 - lr: 1.0000e-06\n",
      "Epoch 41/100\n",
      "8/8 [==============================] - 0s 23ms/step - loss: 0.3212 - accuracy: 0.8226 - val_loss: 0.3153 - val_accuracy: 0.8065 - lr: 1.0000e-06\n",
      "Epoch 42/100\n",
      "8/8 [==============================] - 0s 30ms/step - loss: 0.3362 - accuracy: 0.8065 - val_loss: 0.3153 - val_accuracy: 0.8065 - lr: 1.0000e-06\n",
      "Epoch 43/100\n",
      "8/8 [==============================] - 0s 25ms/step - loss: 0.3491 - accuracy: 0.8266 - val_loss: 0.3153 - val_accuracy: 0.8065 - lr: 1.0000e-06\n",
      "Epoch 44/100\n",
      "8/8 [==============================] - 0s 25ms/step - loss: 0.3585 - accuracy: 0.8105 - val_loss: 0.3153 - val_accuracy: 0.8065 - lr: 1.0000e-06\n",
      "Epoch 45/100\n",
      "8/8 [==============================] - 0s 30ms/step - loss: 0.3854 - accuracy: 0.7661 - val_loss: 0.3153 - val_accuracy: 0.8065 - lr: 1.0000e-06\n",
      "Epoch 46/100\n",
      "8/8 [==============================] - 0s 30ms/step - loss: 0.3497 - accuracy: 0.7903 - val_loss: 0.3153 - val_accuracy: 0.8065 - lr: 1.0000e-06\n",
      "Epoch 47/100\n",
      "8/8 [==============================] - 0s 26ms/step - loss: 0.3703 - accuracy: 0.7984 - val_loss: 0.3153 - val_accuracy: 0.8065 - lr: 1.0000e-06\n",
      "Epoch 48/100\n",
      "8/8 [==============================] - 0s 28ms/step - loss: 0.3578 - accuracy: 0.7944 - val_loss: 0.3153 - val_accuracy: 0.8065 - lr: 1.0000e-06\n",
      "Epoch 49/100\n",
      "8/8 [==============================] - 0s 30ms/step - loss: 0.3719 - accuracy: 0.7702 - val_loss: 0.3153 - val_accuracy: 0.8065 - lr: 1.0000e-06\n",
      "Epoch 50/100\n",
      "8/8 [==============================] - 0s 29ms/step - loss: 0.3489 - accuracy: 0.8105 - val_loss: 0.3154 - val_accuracy: 0.8065 - lr: 1.0000e-06\n",
      "Epoch 51/100\n",
      "8/8 [==============================] - 0s 39ms/step - loss: 0.3850 - accuracy: 0.7984 - val_loss: 0.3154 - val_accuracy: 0.8065 - lr: 1.0000e-06\n",
      "Epoch 52/100\n",
      "8/8 [==============================] - 0s 25ms/step - loss: 0.3523 - accuracy: 0.8105 - val_loss: 0.3154 - val_accuracy: 0.8065 - lr: 1.0000e-06\n",
      "Epoch 53/100\n",
      "8/8 [==============================] - 0s 25ms/step - loss: 0.3655 - accuracy: 0.7863 - val_loss: 0.3154 - val_accuracy: 0.8065 - lr: 1.0000e-06\n",
      "Epoch 54/100\n",
      "8/8 [==============================] - 0s 26ms/step - loss: 0.3769 - accuracy: 0.7702 - val_loss: 0.3154 - val_accuracy: 0.8065 - lr: 1.0000e-06\n",
      "Epoch 55/100\n",
      "8/8 [==============================] - 0s 28ms/step - loss: 0.3414 - accuracy: 0.8266 - val_loss: 0.3155 - val_accuracy: 0.8065 - lr: 1.0000e-06\n",
      "Epoch 56/100\n",
      "8/8 [==============================] - 0s 28ms/step - loss: 0.3570 - accuracy: 0.7702 - val_loss: 0.3155 - val_accuracy: 0.8065 - lr: 1.0000e-06\n",
      "Epoch 57/100\n",
      "8/8 [==============================] - 0s 25ms/step - loss: 0.3290 - accuracy: 0.8024 - val_loss: 0.3155 - val_accuracy: 0.8065 - lr: 1.0000e-06\n",
      "Epoch 58/100\n",
      "8/8 [==============================] - 0s 24ms/step - loss: 0.3410 - accuracy: 0.7984 - val_loss: 0.3155 - val_accuracy: 0.8065 - lr: 1.0000e-06\n",
      "Epoch 59/100\n",
      "8/8 [==============================] - 0s 27ms/step - loss: 0.3540 - accuracy: 0.8306 - val_loss: 0.3154 - val_accuracy: 0.8065 - lr: 1.0000e-06\n",
      "Epoch 60/100\n",
      "8/8 [==============================] - 0s 23ms/step - loss: 0.3527 - accuracy: 0.7903 - val_loss: 0.3154 - val_accuracy: 0.8065 - lr: 1.0000e-06\n",
      "Epoch 61/100\n",
      "8/8 [==============================] - 0s 23ms/step - loss: 0.3473 - accuracy: 0.8065 - val_loss: 0.3154 - val_accuracy: 0.8065 - lr: 1.0000e-06\n",
      "Epoch 62/100\n",
      "8/8 [==============================] - 0s 21ms/step - loss: 0.3407 - accuracy: 0.8105 - val_loss: 0.3154 - val_accuracy: 0.8065 - lr: 1.0000e-06\n",
      "Epoch 63/100\n",
      "8/8 [==============================] - 0s 34ms/step - loss: 0.3522 - accuracy: 0.8024 - val_loss: 0.3154 - val_accuracy: 0.8065 - lr: 1.0000e-06\n",
      "Epoch 64/100\n",
      "8/8 [==============================] - 0s 23ms/step - loss: 0.3920 - accuracy: 0.7823 - val_loss: 0.3154 - val_accuracy: 0.8065 - lr: 1.0000e-06\n",
      "Epoch 65/100\n",
      "8/8 [==============================] - 0s 25ms/step - loss: 0.3674 - accuracy: 0.8024 - val_loss: 0.3154 - val_accuracy: 0.8065 - lr: 1.0000e-06\n",
      "Epoch 66/100\n",
      "8/8 [==============================] - 0s 25ms/step - loss: 0.3933 - accuracy: 0.7339 - val_loss: 0.3154 - val_accuracy: 0.8065 - lr: 1.0000e-06\n",
      "Epoch 67/100\n",
      "8/8 [==============================] - 0s 25ms/step - loss: 0.3655 - accuracy: 0.7863 - val_loss: 0.3154 - val_accuracy: 0.8065 - lr: 1.0000e-06\n",
      "Epoch 68/100\n",
      "8/8 [==============================] - 0s 23ms/step - loss: 0.3316 - accuracy: 0.8024 - val_loss: 0.3154 - val_accuracy: 0.8065 - lr: 1.0000e-06\n",
      "Epoch 69/100\n",
      "8/8 [==============================] - 0s 24ms/step - loss: 0.3627 - accuracy: 0.7823 - val_loss: 0.3154 - val_accuracy: 0.8065 - lr: 1.0000e-06\n",
      "Epoch 70/100\n",
      "8/8 [==============================] - 0s 24ms/step - loss: 0.3491 - accuracy: 0.8185 - val_loss: 0.3154 - val_accuracy: 0.8065 - lr: 1.0000e-06\n",
      "Epoch 71/100\n",
      "8/8 [==============================] - 0s 26ms/step - loss: 0.3698 - accuracy: 0.8145 - val_loss: 0.3154 - val_accuracy: 0.8065 - lr: 1.0000e-06\n",
      "Epoch 72/100\n",
      "8/8 [==============================] - 0s 21ms/step - loss: 0.3576 - accuracy: 0.8024 - val_loss: 0.3154 - val_accuracy: 0.8065 - lr: 1.0000e-06\n",
      "Epoch 73/100\n",
      "8/8 [==============================] - 0s 24ms/step - loss: 0.3439 - accuracy: 0.7863 - val_loss: 0.3154 - val_accuracy: 0.8065 - lr: 1.0000e-06\n",
      "Epoch 74/100\n",
      "8/8 [==============================] - 0s 24ms/step - loss: 0.4228 - accuracy: 0.7903 - val_loss: 0.3154 - val_accuracy: 0.8065 - lr: 1.0000e-06\n",
      "Epoch 75/100\n",
      "8/8 [==============================] - 0s 24ms/step - loss: 0.3539 - accuracy: 0.8065 - val_loss: 0.3154 - val_accuracy: 0.8065 - lr: 1.0000e-06\n",
      "Epoch 76/100\n",
      "8/8 [==============================] - 0s 31ms/step - loss: 0.3405 - accuracy: 0.8306 - val_loss: 0.3154 - val_accuracy: 0.8065 - lr: 1.0000e-06\n",
      "Epoch 77/100\n",
      "8/8 [==============================] - 0s 23ms/step - loss: 0.3799 - accuracy: 0.7702 - val_loss: 0.3154 - val_accuracy: 0.8065 - lr: 1.0000e-06\n",
      "Epoch 78/100\n",
      "8/8 [==============================] - 0s 21ms/step - loss: 0.3699 - accuracy: 0.8024 - val_loss: 0.3154 - val_accuracy: 0.8065 - lr: 1.0000e-06\n",
      "Epoch 79/100\n",
      "8/8 [==============================] - 0s 23ms/step - loss: 0.3330 - accuracy: 0.8024 - val_loss: 0.3154 - val_accuracy: 0.8065 - lr: 1.0000e-06\n",
      "Epoch 80/100\n",
      "8/8 [==============================] - 0s 22ms/step - loss: 0.3593 - accuracy: 0.8065 - val_loss: 0.3154 - val_accuracy: 0.8065 - lr: 1.0000e-06\n",
      "Epoch 81/100\n",
      "8/8 [==============================] - 0s 22ms/step - loss: 0.3469 - accuracy: 0.7903 - val_loss: 0.3154 - val_accuracy: 0.8065 - lr: 1.0000e-06\n",
      "Epoch 82/100\n",
      "8/8 [==============================] - 0s 22ms/step - loss: 0.3648 - accuracy: 0.7702 - val_loss: 0.3154 - val_accuracy: 0.8065 - lr: 1.0000e-06\n",
      "Epoch 83/100\n",
      "8/8 [==============================] - 0s 22ms/step - loss: 0.3527 - accuracy: 0.8024 - val_loss: 0.3154 - val_accuracy: 0.8065 - lr: 1.0000e-06\n",
      "Epoch 84/100\n",
      "8/8 [==============================] - 0s 21ms/step - loss: 0.3348 - accuracy: 0.8065 - val_loss: 0.3154 - val_accuracy: 0.8065 - lr: 1.0000e-06\n",
      "Epoch 85/100\n",
      "8/8 [==============================] - 0s 22ms/step - loss: 0.3604 - accuracy: 0.8024 - val_loss: 0.3154 - val_accuracy: 0.8065 - lr: 1.0000e-06\n",
      "Epoch 86/100\n",
      "8/8 [==============================] - 0s 20ms/step - loss: 0.3433 - accuracy: 0.8105 - val_loss: 0.3154 - val_accuracy: 0.8065 - lr: 1.0000e-06\n",
      "Epoch 87/100\n",
      "8/8 [==============================] - 0s 21ms/step - loss: 0.3456 - accuracy: 0.8226 - val_loss: 0.3154 - val_accuracy: 0.8065 - lr: 1.0000e-06\n",
      "Epoch 88/100\n",
      "8/8 [==============================] - 0s 21ms/step - loss: 0.3494 - accuracy: 0.7944 - val_loss: 0.3154 - val_accuracy: 0.8065 - lr: 1.0000e-06\n",
      "Epoch 89/100\n",
      "8/8 [==============================] - 0s 21ms/step - loss: 0.3433 - accuracy: 0.8145 - val_loss: 0.3154 - val_accuracy: 0.8065 - lr: 1.0000e-06\n",
      "Epoch 90/100\n",
      "8/8 [==============================] - 0s 21ms/step - loss: 0.3395 - accuracy: 0.8145 - val_loss: 0.3154 - val_accuracy: 0.8065 - lr: 1.0000e-06\n",
      "Epoch 91/100\n",
      "8/8 [==============================] - 0s 32ms/step - loss: 0.3580 - accuracy: 0.8024 - val_loss: 0.3154 - val_accuracy: 0.8065 - lr: 1.0000e-06\n",
      "Epoch 92/100\n",
      "8/8 [==============================] - 0s 24ms/step - loss: 0.3588 - accuracy: 0.8024 - val_loss: 0.3154 - val_accuracy: 0.8065 - lr: 1.0000e-06\n",
      "Epoch 93/100\n",
      "8/8 [==============================] - 0s 25ms/step - loss: 0.3923 - accuracy: 0.8024 - val_loss: 0.3154 - val_accuracy: 0.8065 - lr: 1.0000e-06\n",
      "Epoch 94/100\n",
      "8/8 [==============================] - 0s 22ms/step - loss: 0.3416 - accuracy: 0.7944 - val_loss: 0.3154 - val_accuracy: 0.8065 - lr: 1.0000e-06\n",
      "Epoch 95/100\n",
      "8/8 [==============================] - 0s 22ms/step - loss: 0.3478 - accuracy: 0.8145 - val_loss: 0.3154 - val_accuracy: 0.8065 - lr: 1.0000e-06\n",
      "Epoch 96/100\n",
      "8/8 [==============================] - 0s 23ms/step - loss: 0.3620 - accuracy: 0.7984 - val_loss: 0.3155 - val_accuracy: 0.8065 - lr: 1.0000e-06\n",
      "Epoch 97/100\n",
      "8/8 [==============================] - 0s 27ms/step - loss: 0.3604 - accuracy: 0.8145 - val_loss: 0.3155 - val_accuracy: 0.8065 - lr: 1.0000e-06\n",
      "Epoch 98/100\n",
      "8/8 [==============================] - 0s 26ms/step - loss: 0.3865 - accuracy: 0.7863 - val_loss: 0.3155 - val_accuracy: 0.8065 - lr: 1.0000e-06\n",
      "Epoch 99/100\n",
      "8/8 [==============================] - 0s 23ms/step - loss: 0.3467 - accuracy: 0.8065 - val_loss: 0.3155 - val_accuracy: 0.8065 - lr: 1.0000e-06\n",
      "Epoch 100/100\n",
      "8/8 [==============================] - 0s 22ms/step - loss: 0.3447 - accuracy: 0.7944 - val_loss: 0.3155 - val_accuracy: 0.8065 - lr: 1.0000e-06\n"
     ]
    }
   ],
   "source": [
    "history7 = model7.fit(x_train, y_train,\n",
    "                    epochs = 100,\n",
    "                    batch_size = 32,\n",
    "                    callbacks = [callback_lr],\n",
    "                    validation_data = (x_val, y_val))"
   ]
  },
  {
   "cell_type": "markdown",
   "metadata": {},
   "source": [
    "Setelah ditrain sebanyak 100 epoch dan menggunakan 32 sampel data setiap batchnya, diperoleh hasil train accuracy nya sebesar 0.7944 dan val accuracy nya sebesar 0.8065. Sementara itu, diperoleh hasil train loss nya sebesar 0.3447 dan val loss nya sebesar 0.3155.\n",
    "\n",
    "Kedua nilai loss yang diperoleh memang memiliki perbedaan yang tidak terlalu signifikan, begitupula dengan kedua nilai accuracy. Namun, nilai train loss lebih besar daripada val loss sehingga terdapat indikasi underfitting."
   ]
  },
  {
   "cell_type": "code",
   "execution_count": 959,
   "metadata": {},
   "outputs": [
    {
     "name": "stdout",
     "output_type": "stream",
     "text": [
      "1/1 [==============================] - 0s 40ms/step - loss: 0.3461 - accuracy: 0.7742\n",
      "Model 7\n",
      "Test loss     : 0.34612008929252625\n",
      "Test accuracy : 0.774193525314331\n"
     ]
    }
   ],
   "source": [
    "# Untuk melakukan evaluasi model menggunakan data validation dan training model sebelumnya\n",
    "test_loss7, test_accuracy7 = model7.evaluate(x_test, y_test)\n",
    "print(\"Model 7\")\n",
    "print(f\"Test loss     : \" + str(test_loss7))\n",
    "print(f\"Test accuracy : \" + str(test_accuracy7))"
   ]
  },
  {
   "cell_type": "markdown",
   "metadata": {},
   "source": [
    "Setelah mencoba memprediksi menggunakan model7 dan data testing, diperoleh nilai test accuracy nya sebesar 0.77 dan nilai test loss nya sebesar 0.35. Hal ini berarti model cukup baik dalam memprediksi, tetapi masih bisa ditingkatkan lagi performanya dalam memprediksi."
   ]
  },
  {
   "cell_type": "markdown",
   "metadata": {},
   "source": [
    "### Percobaan ke-8"
   ]
  },
  {
   "cell_type": "code",
   "execution_count": 960,
   "metadata": {},
   "outputs": [],
   "source": [
    "# Untuk membuat architecture\n",
    "model8 = Sequential()\n",
    "\n",
    "# Untuk membuat input layer\n",
    "model8.add(Dense(units = 12, activation = 'relu', input_shape = (x_train.shape[1],)))\n",
    "\n",
    "# Untuk membuat hidden layer\n",
    "model8.add(Dense(units = 512, activation = 'relu'))\n",
    "model8.add(Dense(units = 256, activation = 'relu'))\n",
    "model8.add(Dense(units = 128, activation = 'relu'))\n",
    "model8.add(Dense(units = 64, activation = 'relu'))\n",
    "model8.add(Dense(units = 32, activation = 'relu'))\n",
    "model8.add(Dense(units = 16, activation = 'relu'))\n",
    "model8.add(Dense(units = 8, activation = 'relu'))\n",
    "\n",
    "# Untuk membuat output layer\n",
    "model8.add(Dense(units = 1, activation = 'sigmoid'))"
   ]
  },
  {
   "cell_type": "markdown",
   "metadata": {},
   "source": [
    "Pada input layer, model menggunakan 12 unit neuron sesuai dengan jumlah fitur atau variabel pada dataset dengan activation function ReLU.\n",
    "\n",
    "Pada hidden layer, model atau layer pertama menggunakan 512 unit neuron, kemudian layer kedua menggunakan 256 unit neuron, dan layer berikutnya menggunakan n/2 unit neuron hingga layer terakhir menggunakan 8 unit neuron dengan activation function ReLU.\n",
    "\n",
    "Pada output layer, model menggunakan 1 unit neuron dengan activation function sigmoid sesuai dengan task dari dataset ini, yaitu binary classification."
   ]
  },
  {
   "cell_type": "code",
   "execution_count": 962,
   "metadata": {},
   "outputs": [],
   "source": [
    "import keras"
   ]
  },
  {
   "cell_type": "code",
   "execution_count": 963,
   "metadata": {},
   "outputs": [],
   "source": [
    "lr_schedule = keras.optimizers.schedules.ExponentialDecay(\n",
    "    initial_learning_rate = 1e-2,\n",
    "    decay_steps = 10000,\n",
    "    decay_rate = 0.9)\n",
    "optimizer = keras.optimizers.Adam(learning_rate = lr_schedule)"
   ]
  },
  {
   "cell_type": "markdown",
   "metadata": {},
   "source": [
    "Disini saya menggunakan optimizer Adam dengan mengatur learning rate nya berdasarkan ExponentialDecay. Code ini saya peroleh dari website Keras pada bagian Optimizer."
   ]
  },
  {
   "cell_type": "code",
   "execution_count": 964,
   "metadata": {},
   "outputs": [],
   "source": [
    "# Untuk mengcompile model\n",
    "model8.compile(optimizer = optimizer,\n",
    "              loss = 'binary_crossentropy',\n",
    "              metrics = ['accuracy'])"
   ]
  },
  {
   "cell_type": "markdown",
   "metadata": {},
   "source": [
    "Parameter yang digunakan pada saat mengompile model1 antara lain adalah optimizer \"Adam\" karena memberikan performa yang lebih baik, kemudian loss \"BinaryCrossentropy\" karena ada dua kelas pada variabel \"Target\" dimana labelnya bukan merupakan One Hot dan mengikuti activation function sigmoid, serta yang terakhir metrics \"Accuracy\" untuk menampilkan accuracy yang diperoleh."
   ]
  },
  {
   "cell_type": "code",
   "execution_count": 965,
   "metadata": {},
   "outputs": [
    {
     "name": "stdout",
     "output_type": "stream",
     "text": [
      "Epoch 1/100\n",
      "8/8 [==============================] - 2s 42ms/step - loss: 1.7015 - accuracy: 0.5806 - val_loss: 0.7060 - val_accuracy: 0.3226\n",
      "Epoch 2/100\n",
      "8/8 [==============================] - 0s 9ms/step - loss: 0.6100 - accuracy: 0.6250 - val_loss: 0.4445 - val_accuracy: 0.7419\n",
      "Epoch 3/100\n",
      "8/8 [==============================] - 0s 9ms/step - loss: 0.4699 - accuracy: 0.7540 - val_loss: 0.4136 - val_accuracy: 0.7419\n",
      "Epoch 4/100\n",
      "8/8 [==============================] - 0s 8ms/step - loss: 0.4926 - accuracy: 0.7339 - val_loss: 0.3639 - val_accuracy: 0.7097\n",
      "Epoch 5/100\n",
      "8/8 [==============================] - 0s 9ms/step - loss: 0.4722 - accuracy: 0.7056 - val_loss: 0.3389 - val_accuracy: 0.8065\n",
      "Epoch 6/100\n",
      "8/8 [==============================] - 0s 10ms/step - loss: 0.4317 - accuracy: 0.7500 - val_loss: 0.3503 - val_accuracy: 0.8065\n",
      "Epoch 7/100\n",
      "8/8 [==============================] - 0s 10ms/step - loss: 0.4275 - accuracy: 0.7581 - val_loss: 0.3587 - val_accuracy: 0.8065\n",
      "Epoch 8/100\n",
      "8/8 [==============================] - 0s 10ms/step - loss: 0.4352 - accuracy: 0.7863 - val_loss: 0.3287 - val_accuracy: 0.7742\n",
      "Epoch 9/100\n",
      "8/8 [==============================] - 0s 9ms/step - loss: 0.4120 - accuracy: 0.7097 - val_loss: 0.3415 - val_accuracy: 0.8065\n",
      "Epoch 10/100\n",
      "8/8 [==============================] - 0s 11ms/step - loss: 0.3928 - accuracy: 0.7782 - val_loss: 0.4089 - val_accuracy: 0.7419\n",
      "Epoch 11/100\n",
      "8/8 [==============================] - 0s 10ms/step - loss: 0.4235 - accuracy: 0.7782 - val_loss: 0.3879 - val_accuracy: 0.8065\n",
      "Epoch 12/100\n",
      "8/8 [==============================] - 0s 11ms/step - loss: 0.3977 - accuracy: 0.8024 - val_loss: 0.3979 - val_accuracy: 0.7097\n",
      "Epoch 13/100\n",
      "8/8 [==============================] - 0s 9ms/step - loss: 0.3426 - accuracy: 0.8306 - val_loss: 0.4034 - val_accuracy: 0.6774\n",
      "Epoch 14/100\n",
      "8/8 [==============================] - 0s 9ms/step - loss: 0.3374 - accuracy: 0.8266 - val_loss: 0.7402 - val_accuracy: 0.8387\n",
      "Epoch 15/100\n",
      "8/8 [==============================] - 0s 8ms/step - loss: 0.4838 - accuracy: 0.7661 - val_loss: 0.3601 - val_accuracy: 0.7097\n",
      "Epoch 16/100\n",
      "8/8 [==============================] - 0s 9ms/step - loss: 0.4098 - accuracy: 0.8266 - val_loss: 0.3495 - val_accuracy: 0.7742\n",
      "Epoch 17/100\n",
      "8/8 [==============================] - 0s 9ms/step - loss: 0.3699 - accuracy: 0.8468 - val_loss: 0.4208 - val_accuracy: 0.8387\n",
      "Epoch 18/100\n",
      "8/8 [==============================] - 0s 9ms/step - loss: 0.3861 - accuracy: 0.8145 - val_loss: 0.4086 - val_accuracy: 0.7419\n",
      "Epoch 19/100\n",
      "8/8 [==============================] - 0s 10ms/step - loss: 0.3115 - accuracy: 0.8468 - val_loss: 0.5703 - val_accuracy: 0.7419\n",
      "Epoch 20/100\n",
      "8/8 [==============================] - 0s 9ms/step - loss: 0.3392 - accuracy: 0.8710 - val_loss: 0.5018 - val_accuracy: 0.8065\n",
      "Epoch 21/100\n",
      "8/8 [==============================] - 0s 10ms/step - loss: 0.3958 - accuracy: 0.8145 - val_loss: 0.5291 - val_accuracy: 0.7742\n",
      "Epoch 22/100\n",
      "8/8 [==============================] - 0s 9ms/step - loss: 0.3662 - accuracy: 0.8306 - val_loss: 0.3918 - val_accuracy: 0.8065\n",
      "Epoch 23/100\n",
      "8/8 [==============================] - 0s 9ms/step - loss: 0.3560 - accuracy: 0.8347 - val_loss: 0.4679 - val_accuracy: 0.7419\n",
      "Epoch 24/100\n",
      "8/8 [==============================] - 0s 9ms/step - loss: 0.2948 - accuracy: 0.8468 - val_loss: 0.5313 - val_accuracy: 0.8065\n",
      "Epoch 25/100\n",
      "8/8 [==============================] - 0s 9ms/step - loss: 0.3589 - accuracy: 0.8548 - val_loss: 0.6332 - val_accuracy: 0.7419\n",
      "Epoch 26/100\n",
      "8/8 [==============================] - 0s 9ms/step - loss: 0.3432 - accuracy: 0.8508 - val_loss: 0.7143 - val_accuracy: 0.7419\n",
      "Epoch 27/100\n",
      "8/8 [==============================] - 0s 9ms/step - loss: 0.2737 - accuracy: 0.8831 - val_loss: 0.6451 - val_accuracy: 0.7419\n",
      "Epoch 28/100\n",
      "8/8 [==============================] - 0s 9ms/step - loss: 0.2755 - accuracy: 0.8710 - val_loss: 0.5635 - val_accuracy: 0.7419\n",
      "Epoch 29/100\n",
      "8/8 [==============================] - 0s 9ms/step - loss: 0.2721 - accuracy: 0.8548 - val_loss: 0.7350 - val_accuracy: 0.7742\n",
      "Epoch 30/100\n",
      "8/8 [==============================] - 0s 9ms/step - loss: 0.2991 - accuracy: 0.8669 - val_loss: 0.5501 - val_accuracy: 0.7097\n",
      "Epoch 31/100\n",
      "8/8 [==============================] - 0s 9ms/step - loss: 0.3065 - accuracy: 0.8468 - val_loss: 0.6575 - val_accuracy: 0.8710\n",
      "Epoch 32/100\n",
      "8/8 [==============================] - 0s 9ms/step - loss: 0.3024 - accuracy: 0.8347 - val_loss: 0.5255 - val_accuracy: 0.8387\n",
      "Epoch 33/100\n",
      "8/8 [==============================] - 0s 9ms/step - loss: 0.2687 - accuracy: 0.8790 - val_loss: 0.7988 - val_accuracy: 0.8065\n",
      "Epoch 34/100\n",
      "8/8 [==============================] - 0s 11ms/step - loss: 0.3127 - accuracy: 0.8669 - val_loss: 0.7414 - val_accuracy: 0.7419\n",
      "Epoch 35/100\n",
      "8/8 [==============================] - 0s 10ms/step - loss: 0.2996 - accuracy: 0.8548 - val_loss: 0.4290 - val_accuracy: 0.7419\n",
      "Epoch 36/100\n",
      "8/8 [==============================] - 0s 9ms/step - loss: 0.2763 - accuracy: 0.8710 - val_loss: 0.5234 - val_accuracy: 0.8065\n",
      "Epoch 37/100\n",
      "8/8 [==============================] - 0s 11ms/step - loss: 0.2576 - accuracy: 0.8427 - val_loss: 0.3977 - val_accuracy: 0.8710\n",
      "Epoch 38/100\n",
      "8/8 [==============================] - 0s 9ms/step - loss: 0.2322 - accuracy: 0.8871 - val_loss: 0.4548 - val_accuracy: 0.7742\n",
      "Epoch 39/100\n",
      "8/8 [==============================] - 0s 10ms/step - loss: 0.2640 - accuracy: 0.8589 - val_loss: 0.5484 - val_accuracy: 0.8387\n",
      "Epoch 40/100\n",
      "8/8 [==============================] - 0s 9ms/step - loss: 0.2577 - accuracy: 0.8871 - val_loss: 0.5959 - val_accuracy: 0.7742\n",
      "Epoch 41/100\n",
      "8/8 [==============================] - 0s 9ms/step - loss: 0.2628 - accuracy: 0.8669 - val_loss: 0.5152 - val_accuracy: 0.7742\n",
      "Epoch 42/100\n",
      "8/8 [==============================] - 0s 9ms/step - loss: 0.2207 - accuracy: 0.9073 - val_loss: 0.7666 - val_accuracy: 0.8387\n",
      "Epoch 43/100\n",
      "8/8 [==============================] - 0s 11ms/step - loss: 0.3264 - accuracy: 0.8750 - val_loss: 0.5323 - val_accuracy: 0.8387\n",
      "Epoch 44/100\n",
      "8/8 [==============================] - 0s 11ms/step - loss: 0.3459 - accuracy: 0.8226 - val_loss: 0.3747 - val_accuracy: 0.8387\n",
      "Epoch 45/100\n",
      "8/8 [==============================] - 0s 10ms/step - loss: 0.2796 - accuracy: 0.8629 - val_loss: 0.5912 - val_accuracy: 0.8387\n",
      "Epoch 46/100\n",
      "8/8 [==============================] - 0s 10ms/step - loss: 0.2677 - accuracy: 0.8831 - val_loss: 0.7461 - val_accuracy: 0.8387\n",
      "Epoch 47/100\n",
      "8/8 [==============================] - 0s 12ms/step - loss: 0.2802 - accuracy: 0.8669 - val_loss: 0.4242 - val_accuracy: 0.7419\n",
      "Epoch 48/100\n",
      "8/8 [==============================] - 0s 11ms/step - loss: 0.2277 - accuracy: 0.8911 - val_loss: 0.5725 - val_accuracy: 0.8710\n",
      "Epoch 49/100\n",
      "8/8 [==============================] - 0s 11ms/step - loss: 0.2382 - accuracy: 0.8952 - val_loss: 0.7870 - val_accuracy: 0.8065\n",
      "Epoch 50/100\n",
      "8/8 [==============================] - 0s 11ms/step - loss: 0.2484 - accuracy: 0.8831 - val_loss: 0.7137 - val_accuracy: 0.8710\n",
      "Epoch 51/100\n",
      "8/8 [==============================] - 0s 11ms/step - loss: 0.2289 - accuracy: 0.8871 - val_loss: 0.5198 - val_accuracy: 0.8065\n",
      "Epoch 52/100\n",
      "8/8 [==============================] - 0s 11ms/step - loss: 0.2039 - accuracy: 0.8952 - val_loss: 0.5319 - val_accuracy: 0.7742\n",
      "Epoch 53/100\n",
      "8/8 [==============================] - 0s 10ms/step - loss: 0.2013 - accuracy: 0.8911 - val_loss: 0.9544 - val_accuracy: 0.8387\n",
      "Epoch 54/100\n",
      "8/8 [==============================] - 0s 9ms/step - loss: 0.2011 - accuracy: 0.8992 - val_loss: 0.7678 - val_accuracy: 0.7742\n",
      "Epoch 55/100\n",
      "8/8 [==============================] - 0s 9ms/step - loss: 0.1762 - accuracy: 0.9073 - val_loss: 0.7663 - val_accuracy: 0.8387\n",
      "Epoch 56/100\n",
      "8/8 [==============================] - 0s 10ms/step - loss: 0.1826 - accuracy: 0.9032 - val_loss: 0.7797 - val_accuracy: 0.7419\n",
      "Epoch 57/100\n",
      "8/8 [==============================] - 0s 9ms/step - loss: 0.2316 - accuracy: 0.8952 - val_loss: 0.6309 - val_accuracy: 0.7742\n",
      "Epoch 58/100\n",
      "8/8 [==============================] - 0s 9ms/step - loss: 0.2051 - accuracy: 0.8911 - val_loss: 0.7916 - val_accuracy: 0.6774\n",
      "Epoch 59/100\n",
      "8/8 [==============================] - 0s 10ms/step - loss: 0.3082 - accuracy: 0.8387 - val_loss: 0.6873 - val_accuracy: 0.7742\n",
      "Epoch 60/100\n",
      "8/8 [==============================] - 0s 11ms/step - loss: 0.2538 - accuracy: 0.8831 - val_loss: 0.4946 - val_accuracy: 0.8065\n",
      "Epoch 61/100\n",
      "8/8 [==============================] - 0s 11ms/step - loss: 0.2705 - accuracy: 0.8750 - val_loss: 0.7342 - val_accuracy: 0.8710\n",
      "Epoch 62/100\n",
      "8/8 [==============================] - 0s 11ms/step - loss: 0.2451 - accuracy: 0.8992 - val_loss: 0.4647 - val_accuracy: 0.7742\n",
      "Epoch 63/100\n",
      "8/8 [==============================] - 0s 11ms/step - loss: 0.1968 - accuracy: 0.9073 - val_loss: 0.6881 - val_accuracy: 0.8387\n",
      "Epoch 64/100\n",
      "8/8 [==============================] - 0s 9ms/step - loss: 0.1699 - accuracy: 0.9274 - val_loss: 0.9831 - val_accuracy: 0.8065\n",
      "Epoch 65/100\n",
      "8/8 [==============================] - 0s 9ms/step - loss: 0.1760 - accuracy: 0.9073 - val_loss: 0.8789 - val_accuracy: 0.7419\n",
      "Epoch 66/100\n",
      "8/8 [==============================] - 0s 9ms/step - loss: 0.2231 - accuracy: 0.8911 - val_loss: 0.5369 - val_accuracy: 0.7419\n",
      "Epoch 67/100\n",
      "8/8 [==============================] - 0s 8ms/step - loss: 0.2368 - accuracy: 0.8790 - val_loss: 0.6205 - val_accuracy: 0.8387\n",
      "Epoch 68/100\n",
      "8/8 [==============================] - 0s 9ms/step - loss: 0.1712 - accuracy: 0.9113 - val_loss: 0.9766 - val_accuracy: 0.7742\n",
      "Epoch 69/100\n",
      "8/8 [==============================] - 0s 10ms/step - loss: 0.2008 - accuracy: 0.8992 - val_loss: 0.9157 - val_accuracy: 0.8065\n",
      "Epoch 70/100\n",
      "8/8 [==============================] - 0s 9ms/step - loss: 0.2086 - accuracy: 0.8831 - val_loss: 0.5584 - val_accuracy: 0.7742\n",
      "Epoch 71/100\n",
      "8/8 [==============================] - 0s 9ms/step - loss: 0.1620 - accuracy: 0.9234 - val_loss: 0.8043 - val_accuracy: 0.8065\n",
      "Epoch 72/100\n",
      "8/8 [==============================] - 0s 9ms/step - loss: 0.2150 - accuracy: 0.8750 - val_loss: 0.6105 - val_accuracy: 0.8710\n",
      "Epoch 73/100\n",
      "8/8 [==============================] - 0s 9ms/step - loss: 0.2192 - accuracy: 0.8952 - val_loss: 0.5306 - val_accuracy: 0.7742\n",
      "Epoch 74/100\n",
      "8/8 [==============================] - 0s 9ms/step - loss: 0.2510 - accuracy: 0.8911 - val_loss: 0.9228 - val_accuracy: 0.8387\n",
      "Epoch 75/100\n",
      "8/8 [==============================] - 0s 8ms/step - loss: 0.2383 - accuracy: 0.8911 - val_loss: 0.7935 - val_accuracy: 0.8065\n",
      "Epoch 76/100\n",
      "8/8 [==============================] - 0s 8ms/step - loss: 0.2086 - accuracy: 0.9032 - val_loss: 0.7253 - val_accuracy: 0.7742\n",
      "Epoch 77/100\n",
      "8/8 [==============================] - 0s 8ms/step - loss: 0.1713 - accuracy: 0.9315 - val_loss: 1.1490 - val_accuracy: 0.8710\n",
      "Epoch 78/100\n",
      "8/8 [==============================] - 0s 8ms/step - loss: 0.1541 - accuracy: 0.9234 - val_loss: 1.1820 - val_accuracy: 0.8065\n",
      "Epoch 79/100\n",
      "8/8 [==============================] - 0s 10ms/step - loss: 0.1548 - accuracy: 0.9194 - val_loss: 1.5307 - val_accuracy: 0.7742\n",
      "Epoch 80/100\n",
      "8/8 [==============================] - 0s 9ms/step - loss: 0.1816 - accuracy: 0.8992 - val_loss: 0.9563 - val_accuracy: 0.8065\n",
      "Epoch 81/100\n",
      "8/8 [==============================] - 0s 9ms/step - loss: 0.1735 - accuracy: 0.9234 - val_loss: 0.7360 - val_accuracy: 0.8387\n",
      "Epoch 82/100\n",
      "8/8 [==============================] - 0s 13ms/step - loss: 0.2116 - accuracy: 0.9234 - val_loss: 0.5771 - val_accuracy: 0.7742\n",
      "Epoch 83/100\n",
      "8/8 [==============================] - 0s 12ms/step - loss: 0.2145 - accuracy: 0.8992 - val_loss: 1.0570 - val_accuracy: 0.8065\n",
      "Epoch 84/100\n",
      "8/8 [==============================] - 0s 11ms/step - loss: 0.1966 - accuracy: 0.9032 - val_loss: 0.8565 - val_accuracy: 0.8710\n",
      "Epoch 85/100\n",
      "8/8 [==============================] - 0s 9ms/step - loss: 0.2117 - accuracy: 0.8871 - val_loss: 0.7215 - val_accuracy: 0.7742\n",
      "Epoch 86/100\n",
      "8/8 [==============================] - 0s 8ms/step - loss: 0.1755 - accuracy: 0.9113 - val_loss: 0.8393 - val_accuracy: 0.7742\n",
      "Epoch 87/100\n",
      "8/8 [==============================] - 0s 8ms/step - loss: 0.3292 - accuracy: 0.8548 - val_loss: 0.3358 - val_accuracy: 0.8387\n",
      "Epoch 88/100\n",
      "8/8 [==============================] - 0s 8ms/step - loss: 0.3140 - accuracy: 0.8710 - val_loss: 0.3170 - val_accuracy: 0.7419\n",
      "Epoch 89/100\n",
      "8/8 [==============================] - 0s 9ms/step - loss: 0.2928 - accuracy: 0.8831 - val_loss: 0.3029 - val_accuracy: 0.8710\n",
      "Epoch 90/100\n",
      "8/8 [==============================] - 0s 12ms/step - loss: 0.2226 - accuracy: 0.8669 - val_loss: 0.7767 - val_accuracy: 0.8710\n",
      "Epoch 91/100\n",
      "8/8 [==============================] - 0s 13ms/step - loss: 0.1782 - accuracy: 0.9194 - val_loss: 1.3661 - val_accuracy: 0.7742\n",
      "Epoch 92/100\n",
      "8/8 [==============================] - 0s 11ms/step - loss: 0.1474 - accuracy: 0.9355 - val_loss: 1.6017 - val_accuracy: 0.7742\n",
      "Epoch 93/100\n",
      "8/8 [==============================] - 0s 10ms/step - loss: 0.1385 - accuracy: 0.9355 - val_loss: 1.9888 - val_accuracy: 0.7419\n",
      "Epoch 94/100\n",
      "8/8 [==============================] - 0s 10ms/step - loss: 0.1361 - accuracy: 0.9395 - val_loss: 0.9034 - val_accuracy: 0.7742\n",
      "Epoch 95/100\n",
      "8/8 [==============================] - 0s 12ms/step - loss: 0.2438 - accuracy: 0.8790 - val_loss: 0.3141 - val_accuracy: 0.8065\n",
      "Epoch 96/100\n",
      "8/8 [==============================] - 0s 12ms/step - loss: 0.2725 - accuracy: 0.8710 - val_loss: 0.4514 - val_accuracy: 0.8710\n",
      "Epoch 97/100\n",
      "8/8 [==============================] - 0s 12ms/step - loss: 0.2075 - accuracy: 0.9153 - val_loss: 0.5136 - val_accuracy: 0.8065\n",
      "Epoch 98/100\n",
      "8/8 [==============================] - 0s 9ms/step - loss: 0.2118 - accuracy: 0.9113 - val_loss: 0.5708 - val_accuracy: 0.8065\n",
      "Epoch 99/100\n",
      "8/8 [==============================] - 0s 9ms/step - loss: 0.1842 - accuracy: 0.9073 - val_loss: 0.7159 - val_accuracy: 0.7419\n",
      "Epoch 100/100\n",
      "8/8 [==============================] - 0s 8ms/step - loss: 0.2478 - accuracy: 0.8508 - val_loss: 0.7586 - val_accuracy: 0.7419\n"
     ]
    }
   ],
   "source": [
    "history8 = model8.fit(x_train, y_train,\n",
    "                    epochs = 100,\n",
    "                    batch_size = 32,\n",
    "                    validation_data = (x_val, y_val))"
   ]
  },
  {
   "cell_type": "markdown",
   "metadata": {},
   "source": [
    "Setelah ditrain sebanyak 100 epoch dan menggunakan 32 sampel data setiap batchnya, diperoleh hasil train accuracy nya sebesar 0.8508 dan val accuracy nya sebesar 0.7419. Sementara itu, diperoleh hasil train loss nya sebesar 0.2478 dan val loss nya sebesar 0.7586.\n",
    "\n",
    "Kedua nilai loss yang diperoleh memiliki perbedaan yang signifikan, begitupula dengan kedua nilai accuracy. Selain itu, nilai train loss jauh lebih kecil daripada val loss sehingga terdapat indikasi overfitting.\n"
   ]
  },
  {
   "cell_type": "code",
   "execution_count": 966,
   "metadata": {},
   "outputs": [
    {
     "name": "stdout",
     "output_type": "stream",
     "text": [
      "1/1 [==============================] - 0s 31ms/step - loss: 0.4864 - accuracy: 0.6774\n",
      "Model 8\n",
      "Test loss     : 0.4863725006580353\n",
      "Test accuracy : 0.6774193644523621\n"
     ]
    }
   ],
   "source": [
    "# Untuk melakukan evaluasi model menggunakan data validation dan training model sebelumnya\n",
    "test_loss8, test_accuracy8 = model8.evaluate(x_test, y_test)\n",
    "print(\"Model 8\")\n",
    "print(f\"Test loss     : \" + str(test_loss8))\n",
    "print(f\"Test accuracy : \" + str(test_accuracy8))"
   ]
  },
  {
   "cell_type": "markdown",
   "metadata": {},
   "source": [
    "Setelah mencoba memprediksi menggunakan model8 dan data testing, diperoleh nilai test accuracy nya sebesar 0.68 dan nilai test loss nya sebesar 0.49. Hal ini berarti model belum cukup baik dalam memprediksi dan harus ditingkatkan lagi performanya dalam memprediksi."
   ]
  },
  {
   "cell_type": "markdown",
   "metadata": {},
   "source": [
    "### Percobaan ke-9"
   ]
  },
  {
   "cell_type": "code",
   "execution_count": 967,
   "metadata": {},
   "outputs": [],
   "source": [
    "# Untuk membuat architecture\n",
    "model9 = Sequential()\n",
    "\n",
    "# Untuk membuat input layer\n",
    "model9.add(Dense(units = 12, activation = 'relu', input_shape = (x_train.shape[1],)))\n",
    "\n",
    "# Untuk membuat hidden layer\n",
    "model9.add(Dense(units = 1024, activation = 'relu'))\n",
    "model9.add(Dense(units = 512, activation = 'relu'))\n",
    "model9.add(Dense(units = 256, activation = 'relu'))\n",
    "model9.add(Dense(units = 128, activation = 'relu'))\n",
    "\n",
    "# Untuk membuat output layer\n",
    "model9.add(Dense(units = 2, activation = 'softmax'))"
   ]
  },
  {
   "cell_type": "markdown",
   "metadata": {},
   "source": [
    "Pada input layer, model menggunakan 12 unit neuron sesuai dengan jumlah fitur atau variabel pada dataset dengan activation function ReLU.\n",
    "\n",
    "Pada hidden layer, model atau layer pertama menggunakan 512 unit neuron, kemudian layer kedua menggunakan 256 unit neuron, dan layer berikutnya menggunakan n/2 unit neuron hingga layer terakhir menggunakan 32 unit neuron dengan activation function ReLU.\n",
    "\n",
    "Perbedaan model ini dengan model sebelumnya adalah saya menambahkan 1 hidden layer derngan jumlah neuron 1024 unit.\n",
    "\n",
    "Pada output layer, model menggunakan 2 unit neuron dengan activation function softmax.\n"
   ]
  },
  {
   "cell_type": "code",
   "execution_count": 968,
   "metadata": {},
   "outputs": [],
   "source": [
    "# Untuk mengatur parameter pada optimizer Adam\n",
    "optimizer = Adam(learning_rate = 0.001,\n",
    "                 weight_decay = 0.01)"
   ]
  },
  {
   "cell_type": "markdown",
   "metadata": {},
   "source": [
    "Disini saya menggunakan optimizer Adam yang mana saya sudah mencoba untuk mengganti learning rate nya berkali-kali. Namun, diperoleh hasil yang paling baik yang menggunakan nilai defaultnya, yaitu 0.001. Selain itu, saya juga menambahkan weight decay sebesar 0.01 untuk menghindari overfitting."
   ]
  },
  {
   "cell_type": "code",
   "execution_count": 969,
   "metadata": {},
   "outputs": [],
   "source": [
    "# Untuk mengcompile model\n",
    "model9.compile(optimizer = optimizer,\n",
    "              loss = 'sparse_categorical_crossentropy',\n",
    "              metrics = ['accuracy'])"
   ]
  },
  {
   "cell_type": "markdown",
   "metadata": {},
   "source": [
    "Parameter yang digunakan pada saat mengompile model9 antara lain adalah optimizer \"Adam\" karena memberikan performa yang lebih baik, kemudian loss \"SparseCategoricalCrossentropy\" karena ada dua kelas pada variabel \"Target\" dimana labelnya bukan merupakan One Hot dan mengikuti activation function sigmoid, serta yang terakhir metrics \"Accuracy\" untuk menampilkan accuracy yang diperoleh.\n"
   ]
  },
  {
   "cell_type": "code",
   "execution_count": 970,
   "metadata": {},
   "outputs": [],
   "source": [
    "# Untuk menginisialisasi callback\n",
    "callback_lr = ReduceLROnPlateau(monitor ='val_loss',\n",
    "                                factor = 0.2,\n",
    "                                patience = 5,\n",
    "                                min_lr = 1e-6,\n",
    "                                verbose = 1)"
   ]
  },
  {
   "cell_type": "markdown",
   "metadata": {},
   "source": [
    "Model akan melakukan pengurangan nilai learning rate sebesar learning rate dikalikan 0.2 apabila nilai val loss tidak berubah setelah 5 epoch. Minimum nilai learning rate yang ditentukan adalah sebesar 1^e-6, jika learning rate telah sampai pada batas minimum maka learning rate tidak akan dikurangi."
   ]
  },
  {
   "cell_type": "code",
   "execution_count": 971,
   "metadata": {},
   "outputs": [
    {
     "name": "stdout",
     "output_type": "stream",
     "text": [
      "Epoch 1/50\n",
      "8/8 [==============================] - 2s 49ms/step - loss: 2.0551 - accuracy: 0.6048 - val_loss: 0.8642 - val_accuracy: 0.5484 - lr: 0.0010\n",
      "Epoch 2/50\n",
      "8/8 [==============================] - 0s 25ms/step - loss: 0.6382 - accuracy: 0.6734 - val_loss: 0.6572 - val_accuracy: 0.6774 - lr: 0.0010\n",
      "Epoch 3/50\n",
      "8/8 [==============================] - 0s 22ms/step - loss: 0.5360 - accuracy: 0.7581 - val_loss: 0.5218 - val_accuracy: 0.7419 - lr: 0.0010\n",
      "Epoch 4/50\n",
      "8/8 [==============================] - 0s 26ms/step - loss: 0.4222 - accuracy: 0.7903 - val_loss: 0.4782 - val_accuracy: 0.7419 - lr: 0.0010\n",
      "Epoch 5/50\n",
      "8/8 [==============================] - 0s 26ms/step - loss: 0.4556 - accuracy: 0.7460 - val_loss: 0.3918 - val_accuracy: 0.8065 - lr: 0.0010\n",
      "Epoch 6/50\n",
      "8/8 [==============================] - 0s 21ms/step - loss: 0.4226 - accuracy: 0.8065 - val_loss: 0.3484 - val_accuracy: 0.8065 - lr: 0.0010\n",
      "Epoch 7/50\n",
      "8/8 [==============================] - 0s 21ms/step - loss: 0.4139 - accuracy: 0.7823 - val_loss: 0.5211 - val_accuracy: 0.8065 - lr: 0.0010\n",
      "Epoch 8/50\n",
      "8/8 [==============================] - 0s 22ms/step - loss: 0.4707 - accuracy: 0.7661 - val_loss: 0.6013 - val_accuracy: 0.8065 - lr: 0.0010\n",
      "Epoch 9/50\n",
      "8/8 [==============================] - 0s 26ms/step - loss: 0.4951 - accuracy: 0.7742 - val_loss: 0.6412 - val_accuracy: 0.8065 - lr: 0.0010\n",
      "Epoch 10/50\n",
      "8/8 [==============================] - 0s 23ms/step - loss: 0.4793 - accuracy: 0.7581 - val_loss: 0.4658 - val_accuracy: 0.8065 - lr: 0.0010\n",
      "Epoch 11/50\n",
      "5/8 [=================>............] - ETA: 0s - loss: 0.4478 - accuracy: 0.8125\n",
      "Epoch 11: ReduceLROnPlateau reducing learning rate to 0.00020000000949949026.\n",
      "8/8 [==============================] - 0s 21ms/step - loss: 0.5021 - accuracy: 0.7863 - val_loss: 0.3749 - val_accuracy: 0.7419 - lr: 0.0010\n",
      "Epoch 12/50\n",
      "8/8 [==============================] - 0s 23ms/step - loss: 0.3774 - accuracy: 0.7903 - val_loss: 0.3855 - val_accuracy: 0.8710 - lr: 2.0000e-04\n",
      "Epoch 13/50\n",
      "8/8 [==============================] - 0s 28ms/step - loss: 0.3496 - accuracy: 0.8105 - val_loss: 0.3531 - val_accuracy: 0.8065 - lr: 2.0000e-04\n",
      "Epoch 14/50\n",
      "8/8 [==============================] - 0s 26ms/step - loss: 0.3499 - accuracy: 0.8226 - val_loss: 0.3504 - val_accuracy: 0.8065 - lr: 2.0000e-04\n",
      "Epoch 15/50\n",
      "8/8 [==============================] - 0s 23ms/step - loss: 0.3406 - accuracy: 0.7903 - val_loss: 0.3557 - val_accuracy: 0.8710 - lr: 2.0000e-04\n",
      "Epoch 16/50\n",
      "7/8 [=========================>....] - ETA: 0s - loss: 0.3329 - accuracy: 0.8036\n",
      "Epoch 16: ReduceLROnPlateau reducing learning rate to 4.0000001899898055e-05.\n",
      "8/8 [==============================] - 0s 22ms/step - loss: 0.3383 - accuracy: 0.7984 - val_loss: 0.3508 - val_accuracy: 0.8387 - lr: 2.0000e-04\n",
      "Epoch 17/50\n",
      "8/8 [==============================] - 0s 22ms/step - loss: 0.3373 - accuracy: 0.7903 - val_loss: 0.3512 - val_accuracy: 0.8387 - lr: 4.0000e-05\n",
      "Epoch 18/50\n",
      "8/8 [==============================] - 0s 25ms/step - loss: 0.3354 - accuracy: 0.7984 - val_loss: 0.3499 - val_accuracy: 0.8387 - lr: 4.0000e-05\n",
      "Epoch 19/50\n",
      "8/8 [==============================] - 0s 25ms/step - loss: 0.3381 - accuracy: 0.8065 - val_loss: 0.3492 - val_accuracy: 0.8387 - lr: 4.0000e-05\n",
      "Epoch 20/50\n",
      "8/8 [==============================] - 0s 23ms/step - loss: 0.3340 - accuracy: 0.8105 - val_loss: 0.3508 - val_accuracy: 0.8387 - lr: 4.0000e-05\n",
      "Epoch 21/50\n",
      "7/8 [=========================>....] - ETA: 0s - loss: 0.3322 - accuracy: 0.7946\n",
      "Epoch 21: ReduceLROnPlateau reducing learning rate to 8.000000525498762e-06.\n",
      "8/8 [==============================] - 0s 24ms/step - loss: 0.3342 - accuracy: 0.7944 - val_loss: 0.3521 - val_accuracy: 0.8710 - lr: 4.0000e-05\n",
      "Epoch 22/50\n",
      "8/8 [==============================] - 0s 25ms/step - loss: 0.3344 - accuracy: 0.8024 - val_loss: 0.3520 - val_accuracy: 0.8710 - lr: 8.0000e-06\n",
      "Epoch 23/50\n",
      "8/8 [==============================] - 0s 24ms/step - loss: 0.3345 - accuracy: 0.8024 - val_loss: 0.3513 - val_accuracy: 0.8710 - lr: 8.0000e-06\n",
      "Epoch 24/50\n",
      "8/8 [==============================] - 0s 25ms/step - loss: 0.3340 - accuracy: 0.7944 - val_loss: 0.3513 - val_accuracy: 0.8710 - lr: 8.0000e-06\n",
      "Epoch 25/50\n",
      "8/8 [==============================] - 0s 24ms/step - loss: 0.3338 - accuracy: 0.7944 - val_loss: 0.3510 - val_accuracy: 0.8710 - lr: 8.0000e-06\n",
      "Epoch 26/50\n",
      "5/8 [=================>............] - ETA: 0s - loss: 0.3225 - accuracy: 0.7750\n",
      "Epoch 26: ReduceLROnPlateau reducing learning rate to 1.6000001778593287e-06.\n",
      "8/8 [==============================] - 0s 21ms/step - loss: 0.3336 - accuracy: 0.7944 - val_loss: 0.3504 - val_accuracy: 0.8387 - lr: 8.0000e-06\n",
      "Epoch 27/50\n",
      "8/8 [==============================] - 0s 21ms/step - loss: 0.3335 - accuracy: 0.7984 - val_loss: 0.3504 - val_accuracy: 0.8387 - lr: 1.6000e-06\n",
      "Epoch 28/50\n",
      "8/8 [==============================] - 0s 22ms/step - loss: 0.3335 - accuracy: 0.7984 - val_loss: 0.3502 - val_accuracy: 0.8387 - lr: 1.6000e-06\n",
      "Epoch 29/50\n",
      "8/8 [==============================] - 0s 23ms/step - loss: 0.3335 - accuracy: 0.8024 - val_loss: 0.3503 - val_accuracy: 0.8387 - lr: 1.6000e-06\n",
      "Epoch 30/50\n",
      "8/8 [==============================] - 0s 20ms/step - loss: 0.3335 - accuracy: 0.8024 - val_loss: 0.3503 - val_accuracy: 0.8387 - lr: 1.6000e-06\n",
      "Epoch 31/50\n",
      "5/8 [=================>............] - ETA: 0s - loss: 0.3521 - accuracy: 0.7937\n",
      "Epoch 31: ReduceLROnPlateau reducing learning rate to 1e-06.\n",
      "8/8 [==============================] - 0s 20ms/step - loss: 0.3334 - accuracy: 0.8024 - val_loss: 0.3502 - val_accuracy: 0.8387 - lr: 1.6000e-06\n",
      "Epoch 32/50\n",
      "8/8 [==============================] - 0s 21ms/step - loss: 0.3334 - accuracy: 0.8024 - val_loss: 0.3502 - val_accuracy: 0.8387 - lr: 1.0000e-06\n",
      "Epoch 33/50\n",
      "8/8 [==============================] - 0s 20ms/step - loss: 0.3334 - accuracy: 0.8024 - val_loss: 0.3502 - val_accuracy: 0.8387 - lr: 1.0000e-06\n",
      "Epoch 34/50\n",
      "8/8 [==============================] - 0s 20ms/step - loss: 0.3334 - accuracy: 0.8024 - val_loss: 0.3502 - val_accuracy: 0.8387 - lr: 1.0000e-06\n",
      "Epoch 35/50\n",
      "8/8 [==============================] - 0s 20ms/step - loss: 0.3335 - accuracy: 0.8024 - val_loss: 0.3501 - val_accuracy: 0.8387 - lr: 1.0000e-06\n",
      "Epoch 36/50\n",
      "8/8 [==============================] - 0s 20ms/step - loss: 0.3334 - accuracy: 0.8065 - val_loss: 0.3501 - val_accuracy: 0.8387 - lr: 1.0000e-06\n",
      "Epoch 37/50\n",
      "8/8 [==============================] - 0s 20ms/step - loss: 0.3334 - accuracy: 0.8065 - val_loss: 0.3501 - val_accuracy: 0.8387 - lr: 1.0000e-06\n",
      "Epoch 38/50\n",
      "8/8 [==============================] - 0s 20ms/step - loss: 0.3334 - accuracy: 0.8065 - val_loss: 0.3501 - val_accuracy: 0.8387 - lr: 1.0000e-06\n",
      "Epoch 39/50\n",
      "8/8 [==============================] - 0s 22ms/step - loss: 0.3333 - accuracy: 0.8024 - val_loss: 0.3502 - val_accuracy: 0.8387 - lr: 1.0000e-06\n",
      "Epoch 40/50\n",
      "8/8 [==============================] - 0s 22ms/step - loss: 0.3333 - accuracy: 0.8065 - val_loss: 0.3501 - val_accuracy: 0.8387 - lr: 1.0000e-06\n",
      "Epoch 41/50\n",
      "8/8 [==============================] - 0s 23ms/step - loss: 0.3333 - accuracy: 0.8065 - val_loss: 0.3501 - val_accuracy: 0.8387 - lr: 1.0000e-06\n",
      "Epoch 42/50\n",
      "8/8 [==============================] - 0s 22ms/step - loss: 0.3333 - accuracy: 0.8065 - val_loss: 0.3502 - val_accuracy: 0.8387 - lr: 1.0000e-06\n",
      "Epoch 43/50\n",
      "8/8 [==============================] - 0s 21ms/step - loss: 0.3333 - accuracy: 0.8065 - val_loss: 0.3501 - val_accuracy: 0.8387 - lr: 1.0000e-06\n",
      "Epoch 44/50\n",
      "8/8 [==============================] - 0s 24ms/step - loss: 0.3333 - accuracy: 0.8065 - val_loss: 0.3501 - val_accuracy: 0.8387 - lr: 1.0000e-06\n",
      "Epoch 45/50\n",
      "8/8 [==============================] - 0s 23ms/step - loss: 0.3333 - accuracy: 0.8065 - val_loss: 0.3501 - val_accuracy: 0.8387 - lr: 1.0000e-06\n",
      "Epoch 46/50\n",
      "8/8 [==============================] - 0s 22ms/step - loss: 0.3333 - accuracy: 0.8065 - val_loss: 0.3501 - val_accuracy: 0.8387 - lr: 1.0000e-06\n",
      "Epoch 47/50\n",
      "8/8 [==============================] - 0s 23ms/step - loss: 0.3333 - accuracy: 0.8065 - val_loss: 0.3501 - val_accuracy: 0.8387 - lr: 1.0000e-06\n",
      "Epoch 48/50\n",
      "8/8 [==============================] - 0s 22ms/step - loss: 0.3333 - accuracy: 0.8065 - val_loss: 0.3500 - val_accuracy: 0.8387 - lr: 1.0000e-06\n",
      "Epoch 49/50\n",
      "8/8 [==============================] - 0s 20ms/step - loss: 0.3333 - accuracy: 0.8065 - val_loss: 0.3501 - val_accuracy: 0.8387 - lr: 1.0000e-06\n",
      "Epoch 50/50\n",
      "8/8 [==============================] - 0s 20ms/step - loss: 0.3332 - accuracy: 0.8065 - val_loss: 0.3501 - val_accuracy: 0.8387 - lr: 1.0000e-06\n"
     ]
    }
   ],
   "source": [
    "history9 = model9.fit(x_train, y_train,\n",
    "                    epochs = 50,\n",
    "                    batch_size = 32,\n",
    "                    callbacks = callback_lr,\n",
    "                    validation_data = (x_val, y_val))"
   ]
  },
  {
   "cell_type": "markdown",
   "metadata": {},
   "source": [
    "Setelah ditrain sebanyak 50 epoch dan menggunakan 32 sampel data setiap batchnya, diperoleh hasil train accuracy nya sebesar 0.8065 dan val accuracy nya sebesar 0.8387. Sementara itu, diperoleh hasil train loss nya sebesar 0.3332 dan val loss nya sebesar 0.3501.\n",
    "\n",
    "Kedua nilai loss yang diperoleh memang memiliki perbedaan yang tidak terlalu signifikan, begitupula dengan kedua nilai accuracy. Model ini bisa dikatakan just right dan tidak terdapat indikasi overfitting maupun underfitting.\n"
   ]
  },
  {
   "cell_type": "code",
   "execution_count": 972,
   "metadata": {},
   "outputs": [
    {
     "name": "stdout",
     "output_type": "stream",
     "text": [
      "1/1 [==============================] - 0s 91ms/step - loss: 0.3588 - accuracy: 0.8387\n",
      "Model 9\n",
      "Test loss     : 0.35881006717681885\n",
      "Test accuracy : 0.8387096524238586\n"
     ]
    }
   ],
   "source": [
    "# Untuk melakukan evaluasi model menggunakan data validation dan training model sebelumnya\n",
    "test_loss9, test_accuracy9 = model9.evaluate(x_test, y_test)\n",
    "print(\"Model 9\")\n",
    "print(f\"Test loss     : \" + str(test_loss9))\n",
    "print(f\"Test accuracy : \" + str(test_accuracy9))"
   ]
  },
  {
   "cell_type": "markdown",
   "metadata": {},
   "source": [
    "Setelah mencoba memprediksi menggunakan model9 dan data testing, diperoleh nilai test accuracy nya sebesar 0.84 dan nilai test loss nya sebesar 0.36. Hal ini berarti model cukup baik dalam memprediksi, tetapi masih bisa ditingkatkan lagi performanya dalam memprediksi."
   ]
  },
  {
   "cell_type": "markdown",
   "metadata": {},
   "source": [
    "## Evaluate the Architecture"
   ]
  },
  {
   "cell_type": "code",
   "execution_count": 1000,
   "metadata": {},
   "outputs": [],
   "source": [
    "# Library untuk membuat classification report dan confusion matrix pada hasil prediksi\n",
    "from sklearn.metrics import confusion_matrix, classification_report"
   ]
  },
  {
   "cell_type": "markdown",
   "metadata": {},
   "source": [
    "### Benchmark Model"
   ]
  },
  {
   "cell_type": "code",
   "execution_count": 999,
   "metadata": {},
   "outputs": [
    {
     "name": "stdout",
     "output_type": "stream",
     "text": [
      "1/1 [==============================] - 0s 90ms/step\n"
     ]
    }
   ],
   "source": [
    "# Untuk melakukan prediksi menggunakan training model sebelumnya\n",
    "predict = model.predict(x_test)\n",
    "y_classes = predict.argmax(axis = -1)"
   ]
  },
  {
   "cell_type": "code",
   "execution_count": 1001,
   "metadata": {},
   "outputs": [
    {
     "name": "stdout",
     "output_type": "stream",
     "text": [
      "              precision    recall  f1-score   support\n",
      "\n",
      "           0       0.80      0.73      0.76        22\n",
      "           1       0.45      0.56      0.50         9\n",
      "\n",
      "    accuracy                           0.68        31\n",
      "   macro avg       0.63      0.64      0.63        31\n",
      "weighted avg       0.70      0.68      0.69        31\n",
      "\n"
     ]
    }
   ],
   "source": [
    "# Untuk menampilkan hasil prediksi menggunakan classification report\n",
    "print(classification_report(y_test, y_classes))"
   ]
  },
  {
   "cell_type": "markdown",
   "metadata": {},
   "source": [
    "Dari classification report, terlihat hasil accuracy yang diperoleh secara keseluruhan dalam memprediksi menggunakan model benchmark yang sebelumnya telah ditraining cukup rendah, yaitu 68%.\n",
    "1.   Kategori Abnormal  ->\n",
    "Kategori ini memiliki precision score sebesar 80%, yang artinya dari seluruh gambar yang diprediksi merupakan Abnormal, 80% di antaranya adalah benar. Lalu, kategori ini memiliki recall score sebesar 73%, yang artinya model berhasil memprediksi benar sebesar 73% dari semua gambar Abnormal. Model ini juga memiliki f1-score yang lumayan tinggi, yaitu sebesar 76%.\n",
    "2.   Kategori Normal ->\n",
    "Kategori ini memiliki precision score sebesar 45%, yang artinya dari seluruh gambar yang diprediksi merupakan Normal, 45% di antaranya adalah benar. Lalu, kategori ini memiliki recall score sebesar 56%, yang artinya model berhasil memprediksi benar sebesar 56% dari semua gambar Normal. Model ini juga memiliki f1-score yang cukup rendah, yaitu sebesar 50%."
   ]
  },
  {
   "cell_type": "markdown",
   "metadata": {},
   "source": [
    "### Best Model"
   ]
  },
  {
   "cell_type": "code",
   "execution_count": 1009,
   "metadata": {},
   "outputs": [
    {
     "name": "stdout",
     "output_type": "stream",
     "text": [
      "1/1 [==============================] - 0s 71ms/step\n"
     ]
    }
   ],
   "source": [
    "# Untuk melakukan prediksi menggunakan model 9\n",
    "predict = model9.predict(x_test)\n",
    "y_classes = predict.argmax(axis = -1)"
   ]
  },
  {
   "cell_type": "code",
   "execution_count": 1010,
   "metadata": {},
   "outputs": [
    {
     "name": "stdout",
     "output_type": "stream",
     "text": [
      "              precision    recall  f1-score   support\n",
      "\n",
      "           0       0.87      0.91      0.89        22\n",
      "           1       0.75      0.67      0.71         9\n",
      "\n",
      "    accuracy                           0.84        31\n",
      "   macro avg       0.81      0.79      0.80        31\n",
      "weighted avg       0.83      0.84      0.84        31\n",
      "\n"
     ]
    }
   ],
   "source": [
    "# Untuk menampilkan hasil prediksi menggunakan classification report\n",
    "print(classification_report(y_test, y_classes))"
   ]
  },
  {
   "cell_type": "markdown",
   "metadata": {},
   "source": [
    "Dari classification report, terlihat hasil accuracy yang diperoleh secara keseluruhan dalam memprediksi menggunakan model9 yang sebelumnya telah ditraining cukup tinggi, yaitu 84%.\n",
    "1.   Kategori Abnormal  ->\n",
    "Kategori ini memiliki precision score sebesar 87%, yang artinya dari seluruh gambar yang diprediksi merupakan Abnormal, 87% di antaranya adalah benar. Lalu, kategori ini memiliki recall score sebesar 91%, yang artinya model berhasil memprediksi benar sebesar 91% dari semua gambar Abnormal Model ini juga memiliki f1-score yang lumayan tinggi, yaitu sebesar 89%.\n",
    "2.   Kategori Normal ->\n",
    "Kategori ini memiliki precision score sebesar 75%, yang artinya dari seluruh gambar yang diprediksi merupakan Normal, 75% di antaranya adalah benar. Lalu, kategori ini memiliki recall score sebesar 67%, yang artinya model berhasil memprediksi benar sebesar 67% dari semua gambar Normal. Model ini juga memiliki f1-score yang cukup tinggi, yaitu sebesar 71%."
   ]
  },
  {
   "cell_type": "markdown",
   "metadata": {},
   "source": [
    "### Kesimpulan"
   ]
  },
  {
   "cell_type": "markdown",
   "metadata": {},
   "source": [
    "Setelah melakukan evaluasi dan perbandingan terhadap model benchmark dan model yang telah dimodifikasi, ada beberapa hal yang dapat disimpulkan.\n",
    "1. Data imbalanced pada kelas Normal diselesaikan dengan menggunakan teknik oversampling SMOTE.\n",
    "2. Model benchmark yang awalnya underfitting berhasil diselesaikan dengan model yang telah dimodifikasi sehingga menjadi just right.\n",
    "3. Model benchmark memiliki accuracy yang lebih rendah secara keseluruhan ketika diuji menggunakan data testing, tetapi model yang telah dimodifikasi memiliki accuracy yang lebih tinggi secara keseluruhan ketika diuji menggunakan data testing.\n",
    "4. Meskipun telah ada peningkatan accuracy menggunakan model yang telah dimodifikasi, tetapi masih perlu dilakukan evaluasi dan perbaikan lagi khususnya dalam memprediksi kelas Normal. "
   ]
  },
  {
   "cell_type": "markdown",
   "metadata": {},
   "source": [
    "### Referensi"
   ]
  },
  {
   "cell_type": "markdown",
   "metadata": {},
   "source": [
    "Goswami, Dr. S. (2021, February 19). SMOTE using Python. Medium. https://towardsdatascience.com/applying-smote-for-class-imbalance-with-just-a-few-lines-of-code-python-cdf603e58688 \n",
    "\n",
    "K., P. H. (2017, May 16). Menilik Activation Function. Medium. https://medium.com/@pramestihattak/menilik-activation-functions-7710177a54c9 \n",
    "\n",
    "Keras. (n.d.). Keras documentation: Optimizers. https://keras.io/api/optimizers/ \n",
    "\n",
    "Rutecki, M. (2022, December 29). Best techniques and metrics for Imbalanced Dataset. Kaggle. https://www.kaggle.com/code/marcinrutecki/best-techniques-and-metrics-for-imbalanced-dataset \n",
    "\n",
    "TensorFlow. (2023, October 27). Classification on imbalanced data. TensorFlow. https://www.tensorflow.org/tutorials/structured_data/imbalanced_data \n",
    "\n",
    "Yang, S. (2020, September 4). Deep learning basics&nbsp; -&nbsp; weight decay. Medium. https://medium.com/analytics-vidhya/deep-learning-basics-weight-decay-3c68eb4344e9 \n"
   ]
  }
 ],
 "metadata": {
  "kernelspec": {
   "display_name": "base",
   "language": "python",
   "name": "python3"
  },
  "language_info": {
   "codemirror_mode": {
    "name": "ipython",
    "version": 3
   },
   "file_extension": ".py",
   "mimetype": "text/x-python",
   "name": "python",
   "nbconvert_exporter": "python",
   "pygments_lexer": "ipython3",
   "version": "3.9.16"
  }
 },
 "nbformat": 4,
 "nbformat_minor": 2
}
